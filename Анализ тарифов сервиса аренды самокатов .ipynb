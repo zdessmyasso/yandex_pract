{
 "cells": [
  {
   "cell_type": "markdown",
   "id": "4c769163",
   "metadata": {},
   "source": [
    "## Анализ тарифов сервиса аренды самокатов "
   ]
  },
  {
   "cell_type": "markdown",
   "id": "06b9625a",
   "metadata": {},
   "source": [
    "Вы аналитик популярного сервиса аренды самокатов GoFast. Вам передали данные о некоторых пользователях из нескольких городов, а также об их поездках. Проанализируйте данные и проверьте некоторые гипотезы, которые могут помочь бизнесу вырасти.\\\n",
    "Чтобы совершать поездки по городу, пользователи сервиса GoFast пользуются мобильным приложением. Сервисом можно пользоваться:\\\n",
    "\\\n",
    " без подписки\n",
    "- абонентская плата отсутствует;\n",
    "- стоимость одной минуты поездки —  8 рублей;\n",
    "- стоимость старта (начала поездки) — 50 рублей;\\\n",
    "\n",
    "\n",
    "с подпиской Ultra\n",
    "- абонентская плата — 199 рублей в месяц;\n",
    "- стоимость одной минуты поездки — 6 рублей;\n",
    "- стоимость старта — бесплатно."
   ]
  },
  {
   "cell_type": "markdown",
   "id": "85dcd923",
   "metadata": {},
   "source": [
    "#### Описание данных:\n",
    "В основных данных есть информация о пользователях, их поездках и подписках.\n",
    "\n",
    "##### Пользователи — users_go.csv\n",
    "- user_id- уникальный идентификатор пользователя\n",
    "- name- имя пользователя\n",
    "- age- возраст\n",
    "- city- город\n",
    "- subscription_type- тип подписки (free, ultra)\n",
    "\n",
    "##### Поездки — rides_go.csv\n",
    "- user_id- уникальный идентификатор пользователя\n",
    "- distance- расстояние, которое пользователь проехал в текущей сессии (в метрах)\n",
    "- duration- продолжительность сессии (в минутах) — время с того момента, как пользователь нажал кнопку «Начать поездку» до момента, как он нажал кнопку «Завершить поездку»\n",
    "- date- дата совершения поездки\n",
    "\n",
    "##### Подписки — subscriptions_go.csv\n",
    "- subscription_type- тип подписки\n",
    "- minute_price- стоимость одной минуты поездки по данной подписке\n",
    "- start_ride_price- стоимость начала поездки\n",
    "- subscription_fee- стоимость ежемесячного платежа"
   ]
  },
  {
   "cell_type": "markdown",
   "id": "d1d17fc8",
   "metadata": {},
   "source": [
    "## Итоговый вывод::\n",
    "-\tСамые часто встречаемые города  в рассмотренных данных Пятигорск и Екатеринбург (более 200 раз). Наименьшая частота встречи у Москвы (около 170 раз)\n",
    "-\tРаспределение пользователей с подпиской и без примерно одинаковое, (54% free на 46% ultra)\n",
    "-\tБольшая часть пользователей находится в возрастном промежутке от 22 до 28. \n",
    "-\tСреднее расстояние, которое пользователи преодолевают за одну поездку – находится в промежутке между 2,9км и 3,3км\n",
    "-\tСреднее время поездок пользователей лежит в промежутке между 16 и 19 минутами\n",
    "-\tПользователи категории ultra пользуются сервисом, преимущественно, для поездок на длительные дистанции (большая часть ездит в среднем 3000 метров и имеет меньшее количество коротких поездок, чем у пользователей с категории free)\n",
    "\n",
    "Ответы на поставленные вопросы:\n",
    "\n",
    "Тратят ли пользователи с подпиской больше времени на поездки? -\n",
    "\n",
    "    - Пользователи с подпиской ultra тратят больше времени на поездки, чем с подпиской free.\n",
    "    \n",
    "Действительно ли пользователи с подпиской «выгоднее» для компании? -\n",
    "\n",
    "    - Не смотря на льготную оплату в ultra, такие пользователи все равно выгоднее, чем пользователи со стандартным тарифом\n",
    "\n",
    "Можно ли сказать, что расстояние, которое проезжают пользователи с подпиской за одну поездку, не превышает 3130 метров?\n",
    "\n",
    "    - В среднем, пользователи с подпиской ultra за один раз проезжают расстояние больше 3130 метров, что является рекомендованным расстоянием за одну поездку для лучшей износостойкости самоката. Необходимо рассмотреть возможность увеличить рекомендованное расстояние (то есть, повысить износостойкость) или ввести ограничительные меры для пользователей.\n",
    "    \n",
    "Проверьте гипотезу о том, будет ли помесячная выручка от пользователей с подпиской по месяцам выше, чем выручка от пользователей без подписки.\n",
    "\n",
    "    - При проверке гипотезы было установлено, что помесячная выручка от пользователей с подпиской выше, чем от пользователей без нее\n"
   ]
  },
  {
   "cell_type": "markdown",
   "id": "43d91bf5",
   "metadata": {},
   "source": [
    "### Ход исследования:"
   ]
  },
  {
   "cell_type": "code",
   "execution_count": 1,
   "id": "72576667",
   "metadata": {},
   "outputs": [],
   "source": [
    "from scipy import stats as st\n",
    "import pandas as pd\n",
    "import matplotlib.pyplot as plt"
   ]
  },
  {
   "cell_type": "markdown",
   "id": "c42cbe00",
   "metadata": {},
   "source": [
    "#### Шаг 1. Загрузка данных"
   ]
  },
  {
   "cell_type": "markdown",
   "id": "1539852c",
   "metadata": {},
   "source": [
    "Читаем отдельно каждый датасет:"
   ]
  },
  {
   "cell_type": "code",
   "execution_count": 2,
   "id": "eff9f206",
   "metadata": {},
   "outputs": [],
   "source": [
    "users_go = pd.read_csv('/datasets/users_go.csv')\n",
    "rides_go = pd.read_csv('/datasets/rides_go.csv')\n",
    "subscriptions_go = pd.read_csv('/datasets/subscriptions_go.csv')"
   ]
  },
  {
   "cell_type": "markdown",
   "id": "615fde58",
   "metadata": {},
   "source": [
    "Выводим на экран первые 5 значений каждой таблицы, для ознакомления с данными внутри нее"
   ]
  },
  {
   "cell_type": "code",
   "execution_count": 3,
   "id": "e028eba5",
   "metadata": {
    "scrolled": true
   },
   "outputs": [
    {
     "data": {
      "text/html": [
       "<div>\n",
       "<style scoped>\n",
       "    .dataframe tbody tr th:only-of-type {\n",
       "        vertical-align: middle;\n",
       "    }\n",
       "\n",
       "    .dataframe tbody tr th {\n",
       "        vertical-align: top;\n",
       "    }\n",
       "\n",
       "    .dataframe thead th {\n",
       "        text-align: right;\n",
       "    }\n",
       "</style>\n",
       "<table border=\"1\" class=\"dataframe\">\n",
       "  <thead>\n",
       "    <tr style=\"text-align: right;\">\n",
       "      <th></th>\n",
       "      <th>user_id</th>\n",
       "      <th>name</th>\n",
       "      <th>age</th>\n",
       "      <th>city</th>\n",
       "      <th>subscription_type</th>\n",
       "    </tr>\n",
       "  </thead>\n",
       "  <tbody>\n",
       "    <tr>\n",
       "      <th>0</th>\n",
       "      <td>1</td>\n",
       "      <td>Кира</td>\n",
       "      <td>22</td>\n",
       "      <td>Тюмень</td>\n",
       "      <td>ultra</td>\n",
       "    </tr>\n",
       "    <tr>\n",
       "      <th>1</th>\n",
       "      <td>2</td>\n",
       "      <td>Станислав</td>\n",
       "      <td>31</td>\n",
       "      <td>Омск</td>\n",
       "      <td>ultra</td>\n",
       "    </tr>\n",
       "    <tr>\n",
       "      <th>2</th>\n",
       "      <td>3</td>\n",
       "      <td>Алексей</td>\n",
       "      <td>20</td>\n",
       "      <td>Москва</td>\n",
       "      <td>ultra</td>\n",
       "    </tr>\n",
       "    <tr>\n",
       "      <th>3</th>\n",
       "      <td>4</td>\n",
       "      <td>Константин</td>\n",
       "      <td>26</td>\n",
       "      <td>Ростов-на-Дону</td>\n",
       "      <td>ultra</td>\n",
       "    </tr>\n",
       "    <tr>\n",
       "      <th>4</th>\n",
       "      <td>5</td>\n",
       "      <td>Адель</td>\n",
       "      <td>28</td>\n",
       "      <td>Омск</td>\n",
       "      <td>ultra</td>\n",
       "    </tr>\n",
       "  </tbody>\n",
       "</table>\n",
       "</div>"
      ],
      "text/plain": [
       "   user_id        name  age            city subscription_type\n",
       "0        1        Кира   22          Тюмень             ultra\n",
       "1        2   Станислав   31            Омск             ultra\n",
       "2        3     Алексей   20          Москва             ultra\n",
       "3        4  Константин   26  Ростов-на-Дону             ultra\n",
       "4        5       Адель   28            Омск             ultra"
      ]
     },
     "execution_count": 3,
     "metadata": {},
     "output_type": "execute_result"
    }
   ],
   "source": [
    "users_go.head()"
   ]
  },
  {
   "cell_type": "code",
   "execution_count": 4,
   "id": "7960e71e",
   "metadata": {},
   "outputs": [
    {
     "name": "stdout",
     "output_type": "stream",
     "text": [
      "<class 'pandas.core.frame.DataFrame'>\n",
      "RangeIndex: 1565 entries, 0 to 1564\n",
      "Data columns (total 5 columns):\n",
      " #   Column             Non-Null Count  Dtype \n",
      "---  ------             --------------  ----- \n",
      " 0   user_id            1565 non-null   int64 \n",
      " 1   name               1565 non-null   object\n",
      " 2   age                1565 non-null   int64 \n",
      " 3   city               1565 non-null   object\n",
      " 4   subscription_type  1565 non-null   object\n",
      "dtypes: int64(2), object(3)\n",
      "memory usage: 61.3+ KB\n"
     ]
    }
   ],
   "source": [
    "users_go.info()"
   ]
  },
  {
   "cell_type": "code",
   "execution_count": 5,
   "id": "0dd0c22d",
   "metadata": {
    "scrolled": true
   },
   "outputs": [
    {
     "data": {
      "text/html": [
       "<div>\n",
       "<style scoped>\n",
       "    .dataframe tbody tr th:only-of-type {\n",
       "        vertical-align: middle;\n",
       "    }\n",
       "\n",
       "    .dataframe tbody tr th {\n",
       "        vertical-align: top;\n",
       "    }\n",
       "\n",
       "    .dataframe thead th {\n",
       "        text-align: right;\n",
       "    }\n",
       "</style>\n",
       "<table border=\"1\" class=\"dataframe\">\n",
       "  <thead>\n",
       "    <tr style=\"text-align: right;\">\n",
       "      <th></th>\n",
       "      <th>user_id</th>\n",
       "      <th>distance</th>\n",
       "      <th>duration</th>\n",
       "      <th>date</th>\n",
       "    </tr>\n",
       "  </thead>\n",
       "  <tbody>\n",
       "    <tr>\n",
       "      <th>0</th>\n",
       "      <td>1</td>\n",
       "      <td>4409.919140</td>\n",
       "      <td>25.599769</td>\n",
       "      <td>2021-01-01</td>\n",
       "    </tr>\n",
       "    <tr>\n",
       "      <th>1</th>\n",
       "      <td>1</td>\n",
       "      <td>2617.592153</td>\n",
       "      <td>15.816871</td>\n",
       "      <td>2021-01-18</td>\n",
       "    </tr>\n",
       "    <tr>\n",
       "      <th>2</th>\n",
       "      <td>1</td>\n",
       "      <td>754.159807</td>\n",
       "      <td>6.232113</td>\n",
       "      <td>2021-04-20</td>\n",
       "    </tr>\n",
       "    <tr>\n",
       "      <th>3</th>\n",
       "      <td>1</td>\n",
       "      <td>2694.783254</td>\n",
       "      <td>18.511000</td>\n",
       "      <td>2021-08-11</td>\n",
       "    </tr>\n",
       "    <tr>\n",
       "      <th>4</th>\n",
       "      <td>1</td>\n",
       "      <td>4028.687306</td>\n",
       "      <td>26.265803</td>\n",
       "      <td>2021-08-28</td>\n",
       "    </tr>\n",
       "  </tbody>\n",
       "</table>\n",
       "</div>"
      ],
      "text/plain": [
       "   user_id     distance   duration        date\n",
       "0        1  4409.919140  25.599769  2021-01-01\n",
       "1        1  2617.592153  15.816871  2021-01-18\n",
       "2        1   754.159807   6.232113  2021-04-20\n",
       "3        1  2694.783254  18.511000  2021-08-11\n",
       "4        1  4028.687306  26.265803  2021-08-28"
      ]
     },
     "execution_count": 5,
     "metadata": {},
     "output_type": "execute_result"
    }
   ],
   "source": [
    "rides_go.head()"
   ]
  },
  {
   "cell_type": "code",
   "execution_count": 6,
   "id": "e4db0e99",
   "metadata": {},
   "outputs": [
    {
     "name": "stdout",
     "output_type": "stream",
     "text": [
      "<class 'pandas.core.frame.DataFrame'>\n",
      "RangeIndex: 18068 entries, 0 to 18067\n",
      "Data columns (total 4 columns):\n",
      " #   Column    Non-Null Count  Dtype  \n",
      "---  ------    --------------  -----  \n",
      " 0   user_id   18068 non-null  int64  \n",
      " 1   distance  18068 non-null  float64\n",
      " 2   duration  18068 non-null  float64\n",
      " 3   date      18068 non-null  object \n",
      "dtypes: float64(2), int64(1), object(1)\n",
      "memory usage: 564.8+ KB\n"
     ]
    }
   ],
   "source": [
    "rides_go.info()"
   ]
  },
  {
   "cell_type": "code",
   "execution_count": 7,
   "id": "2af459d7",
   "metadata": {},
   "outputs": [
    {
     "data": {
      "text/html": [
       "<div>\n",
       "<style scoped>\n",
       "    .dataframe tbody tr th:only-of-type {\n",
       "        vertical-align: middle;\n",
       "    }\n",
       "\n",
       "    .dataframe tbody tr th {\n",
       "        vertical-align: top;\n",
       "    }\n",
       "\n",
       "    .dataframe thead th {\n",
       "        text-align: right;\n",
       "    }\n",
       "</style>\n",
       "<table border=\"1\" class=\"dataframe\">\n",
       "  <thead>\n",
       "    <tr style=\"text-align: right;\">\n",
       "      <th></th>\n",
       "      <th>subscription_type</th>\n",
       "      <th>minute_price</th>\n",
       "      <th>start_ride_price</th>\n",
       "      <th>subscription_fee</th>\n",
       "    </tr>\n",
       "  </thead>\n",
       "  <tbody>\n",
       "    <tr>\n",
       "      <th>0</th>\n",
       "      <td>free</td>\n",
       "      <td>8</td>\n",
       "      <td>50</td>\n",
       "      <td>0</td>\n",
       "    </tr>\n",
       "    <tr>\n",
       "      <th>1</th>\n",
       "      <td>ultra</td>\n",
       "      <td>6</td>\n",
       "      <td>0</td>\n",
       "      <td>199</td>\n",
       "    </tr>\n",
       "  </tbody>\n",
       "</table>\n",
       "</div>"
      ],
      "text/plain": [
       "  subscription_type  minute_price  start_ride_price  subscription_fee\n",
       "0              free             8                50                 0\n",
       "1             ultra             6                 0               199"
      ]
     },
     "execution_count": 7,
     "metadata": {},
     "output_type": "execute_result"
    }
   ],
   "source": [
    "subscriptions_go.head()"
   ]
  },
  {
   "cell_type": "code",
   "execution_count": 8,
   "id": "f039bb8a",
   "metadata": {
    "scrolled": true
   },
   "outputs": [
    {
     "name": "stdout",
     "output_type": "stream",
     "text": [
      "<class 'pandas.core.frame.DataFrame'>\n",
      "RangeIndex: 2 entries, 0 to 1\n",
      "Data columns (total 4 columns):\n",
      " #   Column             Non-Null Count  Dtype \n",
      "---  ------             --------------  ----- \n",
      " 0   subscription_type  2 non-null      object\n",
      " 1   minute_price       2 non-null      int64 \n",
      " 2   start_ride_price   2 non-null      int64 \n",
      " 3   subscription_fee   2 non-null      int64 \n",
      "dtypes: int64(3), object(1)\n",
      "memory usage: 192.0+ bytes\n"
     ]
    }
   ],
   "source": [
    "subscriptions_go.info()"
   ]
  },
  {
   "cell_type": "markdown",
   "id": "1f5fe232",
   "metadata": {},
   "source": [
    "Выводы:\n",
    "- во всех трех таблицах данные без пропусков \n",
    "- типы данных везде корректны \n",
    "- таблицы между собой связаны: каждая дополняет друг друга по данным\n"
   ]
  },
  {
   "cell_type": "markdown",
   "id": "e95ebca7",
   "metadata": {},
   "source": [
    "#### Шаг 2. Предобработка данных"
   ]
  },
  {
   "cell_type": "markdown",
   "id": "114a06f7",
   "metadata": {},
   "source": [
    "Приводим столб \"date\" в rides_go в тип datetime:"
   ]
  },
  {
   "cell_type": "code",
   "execution_count": 9,
   "id": "bb366218",
   "metadata": {},
   "outputs": [],
   "source": [
    "rides_go['date'] = pd.to_datetime(rides_go['date'], format = '%Y-%m-%d') "
   ]
  },
  {
   "cell_type": "markdown",
   "id": "b6f9bcb1",
   "metadata": {},
   "source": [
    "Создаем новый столб, где будет отдельно указан месяц:"
   ]
  },
  {
   "cell_type": "code",
   "execution_count": 10,
   "id": "aa588f43",
   "metadata": {},
   "outputs": [
    {
     "data": {
      "text/html": [
       "<div>\n",
       "<style scoped>\n",
       "    .dataframe tbody tr th:only-of-type {\n",
       "        vertical-align: middle;\n",
       "    }\n",
       "\n",
       "    .dataframe tbody tr th {\n",
       "        vertical-align: top;\n",
       "    }\n",
       "\n",
       "    .dataframe thead th {\n",
       "        text-align: right;\n",
       "    }\n",
       "</style>\n",
       "<table border=\"1\" class=\"dataframe\">\n",
       "  <thead>\n",
       "    <tr style=\"text-align: right;\">\n",
       "      <th></th>\n",
       "      <th>user_id</th>\n",
       "      <th>distance</th>\n",
       "      <th>duration</th>\n",
       "      <th>date</th>\n",
       "      <th>date_month</th>\n",
       "    </tr>\n",
       "  </thead>\n",
       "  <tbody>\n",
       "    <tr>\n",
       "      <th>0</th>\n",
       "      <td>1</td>\n",
       "      <td>4409.919140</td>\n",
       "      <td>25.599769</td>\n",
       "      <td>2021-01-01</td>\n",
       "      <td>1</td>\n",
       "    </tr>\n",
       "    <tr>\n",
       "      <th>1</th>\n",
       "      <td>1</td>\n",
       "      <td>2617.592153</td>\n",
       "      <td>15.816871</td>\n",
       "      <td>2021-01-18</td>\n",
       "      <td>1</td>\n",
       "    </tr>\n",
       "    <tr>\n",
       "      <th>2</th>\n",
       "      <td>1</td>\n",
       "      <td>754.159807</td>\n",
       "      <td>6.232113</td>\n",
       "      <td>2021-04-20</td>\n",
       "      <td>4</td>\n",
       "    </tr>\n",
       "    <tr>\n",
       "      <th>3</th>\n",
       "      <td>1</td>\n",
       "      <td>2694.783254</td>\n",
       "      <td>18.511000</td>\n",
       "      <td>2021-08-11</td>\n",
       "      <td>8</td>\n",
       "    </tr>\n",
       "    <tr>\n",
       "      <th>4</th>\n",
       "      <td>1</td>\n",
       "      <td>4028.687306</td>\n",
       "      <td>26.265803</td>\n",
       "      <td>2021-08-28</td>\n",
       "      <td>8</td>\n",
       "    </tr>\n",
       "  </tbody>\n",
       "</table>\n",
       "</div>"
      ],
      "text/plain": [
       "   user_id     distance   duration       date  date_month\n",
       "0        1  4409.919140  25.599769 2021-01-01           1\n",
       "1        1  2617.592153  15.816871 2021-01-18           1\n",
       "2        1   754.159807   6.232113 2021-04-20           4\n",
       "3        1  2694.783254  18.511000 2021-08-11           8\n",
       "4        1  4028.687306  26.265803 2021-08-28           8"
      ]
     },
     "execution_count": 10,
     "metadata": {},
     "output_type": "execute_result"
    }
   ],
   "source": [
    "rides_go['date_month'] = pd.DatetimeIndex(rides_go['date']).month\n",
    "rides_go.head()"
   ]
  },
  {
   "cell_type": "markdown",
   "id": "47c83720",
   "metadata": {},
   "source": [
    "Проверим каждый датафрейм на наличие пропусков. Начнем с users_go:"
   ]
  },
  {
   "cell_type": "code",
   "execution_count": 11,
   "id": "18506013",
   "metadata": {},
   "outputs": [
    {
     "name": "stdout",
     "output_type": "stream",
     "text": [
      "<class 'pandas.core.frame.DataFrame'>\n",
      "RangeIndex: 1565 entries, 0 to 1564\n",
      "Data columns (total 5 columns):\n",
      " #   Column             Non-Null Count  Dtype \n",
      "---  ------             --------------  ----- \n",
      " 0   user_id            1565 non-null   int64 \n",
      " 1   name               1565 non-null   object\n",
      " 2   age                1565 non-null   int64 \n",
      " 3   city               1565 non-null   object\n",
      " 4   subscription_type  1565 non-null   object\n",
      "dtypes: int64(2), object(3)\n",
      "memory usage: 61.3+ KB\n"
     ]
    },
    {
     "data": {
      "text/plain": [
       "31"
      ]
     },
     "execution_count": 11,
     "metadata": {},
     "output_type": "execute_result"
    }
   ],
   "source": [
    "users_go.info() #проверяем пропущенные значения\n",
    "users_go.duplicated().sum() #проверяем дубликаты"
   ]
  },
  {
   "cell_type": "code",
   "execution_count": 12,
   "id": "98c93b97",
   "metadata": {},
   "outputs": [
    {
     "data": {
      "text/plain": [
       "0"
      ]
     },
     "execution_count": 12,
     "metadata": {},
     "output_type": "execute_result"
    }
   ],
   "source": [
    "users_go = users_go.drop_duplicates()\n",
    "users_go.duplicated().sum()"
   ]
  },
  {
   "cell_type": "code",
   "execution_count": 13,
   "id": "afe72e48",
   "metadata": {},
   "outputs": [
    {
     "name": "stdout",
     "output_type": "stream",
     "text": [
      "<class 'pandas.core.frame.DataFrame'>\n",
      "RangeIndex: 18068 entries, 0 to 18067\n",
      "Data columns (total 5 columns):\n",
      " #   Column      Non-Null Count  Dtype         \n",
      "---  ------      --------------  -----         \n",
      " 0   user_id     18068 non-null  int64         \n",
      " 1   distance    18068 non-null  float64       \n",
      " 2   duration    18068 non-null  float64       \n",
      " 3   date        18068 non-null  datetime64[ns]\n",
      " 4   date_month  18068 non-null  int64         \n",
      "dtypes: datetime64[ns](1), float64(2), int64(2)\n",
      "memory usage: 705.9 KB\n"
     ]
    },
    {
     "data": {
      "text/plain": [
       "0"
      ]
     },
     "execution_count": 13,
     "metadata": {},
     "output_type": "execute_result"
    }
   ],
   "source": [
    "rides_go.info()\n",
    "rides_go.duplicated().sum()"
   ]
  },
  {
   "cell_type": "code",
   "execution_count": 14,
   "id": "d329fe1e",
   "metadata": {
    "scrolled": true
   },
   "outputs": [
    {
     "name": "stdout",
     "output_type": "stream",
     "text": [
      "<class 'pandas.core.frame.DataFrame'>\n",
      "RangeIndex: 2 entries, 0 to 1\n",
      "Data columns (total 4 columns):\n",
      " #   Column             Non-Null Count  Dtype \n",
      "---  ------             --------------  ----- \n",
      " 0   subscription_type  2 non-null      object\n",
      " 1   minute_price       2 non-null      int64 \n",
      " 2   start_ride_price   2 non-null      int64 \n",
      " 3   subscription_fee   2 non-null      int64 \n",
      "dtypes: int64(3), object(1)\n",
      "memory usage: 192.0+ bytes\n"
     ]
    },
    {
     "data": {
      "text/plain": [
       "0"
      ]
     },
     "execution_count": 14,
     "metadata": {},
     "output_type": "execute_result"
    }
   ],
   "source": [
    "subscriptions_go.info()\n",
    "subscriptions_go.duplicated().sum()"
   ]
  },
  {
   "cell_type": "markdown",
   "id": "393de77f",
   "metadata": {},
   "source": [
    "В данных пропусков нет, дубликаты удалены"
   ]
  },
  {
   "cell_type": "markdown",
   "id": "212593c7",
   "metadata": {},
   "source": [
    "#### Шаг 3. Исследовательский анализ данных\n",
    "Опишите и визуализируйте общую информацию о пользователях и поездках:"
   ]
  },
  {
   "cell_type": "markdown",
   "id": "6798822e",
   "metadata": {},
   "source": [
    "#####  частота встречаемости городов;"
   ]
  },
  {
   "cell_type": "markdown",
   "id": "f094db8c",
   "metadata": {},
   "source": [
    "Изучим моду каждого значения:"
   ]
  },
  {
   "cell_type": "code",
   "execution_count": 15,
   "id": "e3a4274c",
   "metadata": {
    "scrolled": false
   },
   "outputs": [
    {
     "data": {
      "image/png": "[encoded data removed]",
      "text/plain": [
       "<Figure size 1080x288 with 1 Axes>"
      ]
     },
     "metadata": {
      "needs_background": "light"
     },
     "output_type": "display_data"
    }
   ],
   "source": [
    "users_go['city'].value_counts().to_frame().plot(kind = 'barh', figsize = (15,4));\n",
    "plt.title('наиболее популярные города, где используют самокаты');"
   ]
  },
  {
   "cell_type": "markdown",
   "id": "47d8728e",
   "metadata": {},
   "source": [
    "Самые частовстречаемые города - Пятигорск и Екатегинбург(более 200 раз). Наименьшая частота встречи у  Москвы (около 170 раз)"
   ]
  },
  {
   "cell_type": "markdown",
   "id": "5cfcbefe",
   "metadata": {},
   "source": [
    "#####  соотношение пользователей с подпиской и без подписки;"
   ]
  },
  {
   "cell_type": "code",
   "execution_count": 16,
   "id": "d71d5643",
   "metadata": {
    "scrolled": true
   },
   "outputs": [
    {
     "data": {
      "image/png": "[encoded data removed]",
      "text/plain": [
       "<Figure size 360x360 with 1 Axes>"
      ]
     },
     "metadata": {},
     "output_type": "display_data"
    }
   ],
   "source": [
    "cont = users_go.groupby((['subscription_type'])).count()\n",
    "cont['user_id'].plot(kind='pie', figsize=(5,5),\n",
    "                  autopct='%1.1f%%',\n",
    "                  shadow=True);"
   ]
  },
  {
   "cell_type": "markdown",
   "id": "9a70f06e",
   "metadata": {},
   "source": [
    "Соотношениее пользователей:\\\n",
    "free 54% \\\n",
    "ultra 46% \\\n",
    "Распределение примерно одинаковое, однако пользователей без подписки (free) чуть больше"
   ]
  },
  {
   "cell_type": "markdown",
   "id": "9e0a50f9",
   "metadata": {},
   "source": [
    "#####  возраст пользователей;"
   ]
  },
  {
   "cell_type": "code",
   "execution_count": 17,
   "id": "54eb477e",
   "metadata": {
    "scrolled": true
   },
   "outputs": [
    {
     "data": {
      "image/png": "[encoded data removed]",
      "text/plain": [
       "<Figure size 432x288 with 1 Axes>"
      ]
     },
     "metadata": {
      "needs_background": "light"
     },
     "output_type": "display_data"
    }
   ],
   "source": [
    "data = users_go.groupby('age').count()\n",
    "data['user_id'].plot(kind = 'bar');\n",
    "plt.title('диаграмма значений  возраста пользователей ')\n",
    "plt.xlabel('возраст')\n",
    "plt.ylabel('кол-во пользователей');"
   ]
  },
  {
   "cell_type": "code",
   "execution_count": 18,
   "id": "c1de3ec4",
   "metadata": {
    "scrolled": false
   },
   "outputs": [
    {
     "data": {
      "text/plain": [
       "count    1534.000000\n",
       "mean       24.903520\n",
       "std         4.572367\n",
       "min        12.000000\n",
       "25%        22.000000\n",
       "50%        25.000000\n",
       "75%        28.000000\n",
       "max        43.000000\n",
       "Name: age, dtype: float64"
      ]
     },
     "execution_count": 18,
     "metadata": {},
     "output_type": "execute_result"
    }
   ],
   "source": [
    "users_go['age'].describe()"
   ]
  },
  {
   "cell_type": "markdown",
   "id": "b3f9bf8e",
   "metadata": {},
   "source": [
    "Большая часть пользователей находится в возрастном промежутке от 22 до 28. Наиболее популярный возраст - 25 лет"
   ]
  },
  {
   "cell_type": "markdown",
   "id": "f63743be",
   "metadata": {},
   "source": [
    "Посчитаем среднее арифметическое данных, чтобы описать среднюю тенданцию:"
   ]
  },
  {
   "cell_type": "markdown",
   "id": "5ffe5ca6",
   "metadata": {},
   "source": [
    "##### расстояние, которое пользователь преодолел за одну поездку;"
   ]
  },
  {
   "cell_type": "markdown",
   "id": "17cf5839",
   "metadata": {},
   "source": [
    "Для того, чтобы узнать, сколько в среднем пользователь проезжает за 1 поездку, мы составляем сводную таблицу, где групируем поездки каждого пользователеля и ищем медиану значений. В дальнейшем, мы ищем медиану всех медиан - это и есть среднее расстояние одной поездки пользователя (мы берем медиану а не ср. арифметическое, дабы исключить выбросы в значениях)"
   ]
  },
  {
   "cell_type": "code",
   "execution_count": 19,
   "id": "99667b39",
   "metadata": {},
   "outputs": [
    {
     "data": {
      "image/png": "[encoded data removed]",
      "text/plain": [
       "<Figure size 1080x288 with 1 Axes>"
      ]
     },
     "metadata": {
      "needs_background": "light"
     },
     "output_type": "display_data"
    }
   ],
   "source": [
    "data = rides_go.pivot_table(index = 'user_id', values = 'distance', aggfunc= 'median')\n",
    "data.hist(bins = 50, figsize = (15, 4))\n",
    "plt.title('гистограмма поездок пользователекй (в метрах)')\n",
    "plt.xlabel('расстояние (в метрах)')\n",
    "plt.ylabel('кол-во пользователей');"
   ]
  },
  {
   "cell_type": "code",
   "execution_count": 20,
   "id": "bd7d4f46",
   "metadata": {
    "scrolled": true
   },
   "outputs": [
    {
     "data": {
      "text/plain": [
       "count    1534.000000\n",
       "mean     3134.108236\n",
       "std       346.362860\n",
       "min      1234.763317\n",
       "25%      2916.315439\n",
       "50%      3131.071202\n",
       "75%      3337.730942\n",
       "max      4395.430303\n",
       "Name: distance, dtype: float64"
      ]
     },
     "execution_count": 20,
     "metadata": {},
     "output_type": "execute_result"
    }
   ],
   "source": [
    "data['distance'].describe()"
   ]
  },
  {
   "cell_type": "markdown",
   "id": "b2ed6461",
   "metadata": {},
   "source": [
    "Среднее расстояние, которое пользователи преодолели за одну поездку - в промежутке от 2,9км и 3,3км"
   ]
  },
  {
   "cell_type": "markdown",
   "id": "0c485525",
   "metadata": {},
   "source": [
    "#####  продолжительность поездок"
   ]
  },
  {
   "cell_type": "markdown",
   "id": "c83bf3cc",
   "metadata": {},
   "source": [
    "Производим аналогичные действия с временем поездки пользователей"
   ]
  },
  {
   "cell_type": "code",
   "execution_count": 21,
   "id": "db4f6ac0",
   "metadata": {},
   "outputs": [
    {
     "data": {
      "image/png": "[encoded data removed]",
      "text/plain": [
       "<Figure size 1080x288 with 1 Axes>"
      ]
     },
     "metadata": {
      "needs_background": "light"
     },
     "output_type": "display_data"
    }
   ],
   "source": [
    "data = rides_go.pivot_table(index = 'user_id', values = 'duration', aggfunc= 'median')\n",
    "data.hist(bins = 50, figsize = (15, 4))\n",
    "plt.title('гистограмма продолжительности поездки пользователей')\n",
    "plt.xlabel('продолжительность поездки (в минутах)')\n",
    "plt.ylabel('количество пользователей');"
   ]
  },
  {
   "cell_type": "code",
   "execution_count": 22,
   "id": "11e43c18",
   "metadata": {
    "scrolled": true
   },
   "outputs": [
    {
     "data": {
      "text/plain": [
       "count    1534.000000\n",
       "mean       17.727225\n",
       "std         2.322542\n",
       "min        10.711378\n",
       "25%        16.189955\n",
       "50%        17.743728\n",
       "75%        19.208337\n",
       "max        29.983174\n",
       "Name: duration, dtype: float64"
      ]
     },
     "execution_count": 22,
     "metadata": {},
     "output_type": "execute_result"
    }
   ],
   "source": [
    "data['duration'].describe()"
   ]
  },
  {
   "cell_type": "markdown",
   "id": "665cecc6",
   "metadata": {},
   "source": [
    "Среднее время поездок пользователей лежит в промежутке между 16 и 19 минутами"
   ]
  },
  {
   "cell_type": "markdown",
   "id": "4ef51331",
   "metadata": {},
   "source": [
    "#### Шаг 4. Объединение данных"
   ]
  },
  {
   "cell_type": "markdown",
   "id": "bfaf1f5c",
   "metadata": {},
   "source": [
    "##### Объедините данные о пользователях, поездках и подписках в один датафрейм. Для этого воспользуйтесь методом merge()."
   ]
  },
  {
   "cell_type": "markdown",
   "id": "6a7426b2",
   "metadata": {},
   "source": [
    "Создадим сводную таблицу в 2 этапа:\n",
    "  - 1. соединим   users_go и rides_go по user_id\n",
    "  - 2. присоединим к ним subscriptions_go по subscription_type"
   ]
  },
  {
   "cell_type": "code",
   "execution_count": 23,
   "id": "7058304f",
   "metadata": {
    "scrolled": true
   },
   "outputs": [
    {
     "data": {
      "text/plain": [
       "free     11568\n",
       "ultra     6500\n",
       "Name: subscription_type, dtype: int64"
      ]
     },
     "execution_count": 23,
     "metadata": {},
     "output_type": "execute_result"
    }
   ],
   "source": [
    "data1 = users_go.merge(rides_go, on = 'user_id', how = 'left')\n",
    "data1['subscription_type'].value_counts()"
   ]
  },
  {
   "cell_type": "code",
   "execution_count": 24,
   "id": "0d100da3",
   "metadata": {},
   "outputs": [
    {
     "name": "stdout",
     "output_type": "stream",
     "text": [
      "<class 'pandas.core.frame.DataFrame'>\n",
      "Int64Index: 18068 entries, 0 to 18067\n",
      "Data columns (total 12 columns):\n",
      " #   Column             Non-Null Count  Dtype         \n",
      "---  ------             --------------  -----         \n",
      " 0   user_id            18068 non-null  int64         \n",
      " 1   name               18068 non-null  object        \n",
      " 2   age                18068 non-null  int64         \n",
      " 3   city               18068 non-null  object        \n",
      " 4   subscription_type  18068 non-null  object        \n",
      " 5   distance           18068 non-null  float64       \n",
      " 6   duration           18068 non-null  float64       \n",
      " 7   date               18068 non-null  datetime64[ns]\n",
      " 8   date_month         18068 non-null  int64         \n",
      " 9   minute_price       18068 non-null  int64         \n",
      " 10  start_ride_price   18068 non-null  int64         \n",
      " 11  subscription_fee   18068 non-null  int64         \n",
      "dtypes: datetime64[ns](1), float64(2), int64(6), object(3)\n",
      "memory usage: 1.8+ MB\n"
     ]
    }
   ],
   "source": [
    "data = data1.merge(subscriptions_go, on = 'subscription_type', how = 'outer')\n",
    "data.info()"
   ]
  },
  {
   "cell_type": "markdown",
   "id": "1ada014b",
   "metadata": {},
   "source": [
    "#####  Создайте ещё два датафрейма из датафрейма, созданного на этапе 4.1:\n",
    "- c данными о пользователях без подписки;\n",
    "- с данными о пользователях с подпиской."
   ]
  },
  {
   "cell_type": "code",
   "execution_count": 25,
   "id": "401f4887",
   "metadata": {},
   "outputs": [],
   "source": [
    "data_free = data.loc[data['subscription_type'] == 'free'] #без подписки"
   ]
  },
  {
   "cell_type": "code",
   "execution_count": 26,
   "id": "eaaf2e32",
   "metadata": {},
   "outputs": [],
   "source": [
    "data_ultra = data.loc[data['subscription_type'] == 'ultra']# c подпиской"
   ]
  },
  {
   "cell_type": "markdown",
   "id": "17625bb7",
   "metadata": {},
   "source": [
    "##### 4.3 Визуализируйте информацию о расстоянии и времени поездок для пользователей обеих категорий."
   ]
  },
  {
   "cell_type": "code",
   "execution_count": 27,
   "id": "3485eca2",
   "metadata": {
    "scrolled": false
   },
   "outputs": [
    {
     "data": {
      "image/png": "[encoded data removed]",
      "text/plain": [
       "<Figure size 1080x360 with 1 Axes>"
      ]
     },
     "metadata": {
      "needs_background": "light"
     },
     "output_type": "display_data"
    }
   ],
   "source": [
    "data_free_id = (data_free.pivot_table(index = 'user_id',\n",
    "                                      values = ['distance'],\n",
    "                                      aggfunc= 'median')\n",
    "                .round(2)\n",
    "                .hist(bins = 50, figsize= (15,5)))\n",
    "plt.title ('диаграмма плотности расстояния категории free');"
   ]
  },
  {
   "cell_type": "code",
   "execution_count": 28,
   "id": "432efee0",
   "metadata": {},
   "outputs": [
    {
     "data": {
      "image/png": "[encoded data removed]",
      "text/plain": [
       "<Figure size 1080x360 with 1 Axes>"
      ]
     },
     "metadata": {
      "needs_background": "light"
     },
     "output_type": "display_data"
    }
   ],
   "source": [
    "data_free_id =(data_free.pivot_table(index = 'user_id',\n",
    "                                     values = ['duration'],\n",
    "                                     aggfunc= 'median')\n",
    "               .hist(bins=50, figsize= (15,5)))\n",
    "plt.title ('диаграмма плотности времени категории free');"
   ]
  },
  {
   "cell_type": "code",
   "execution_count": 29,
   "id": "da9887d7",
   "metadata": {},
   "outputs": [
    {
     "data": {
      "image/png": "[encoded data removed]",
      "text/plain": [
       "<Figure size 1080x360 with 1 Axes>"
      ]
     },
     "metadata": {
      "needs_background": "light"
     },
     "output_type": "display_data"
    }
   ],
   "source": [
    "data_ultra_id = (data_ultra.pivot_table(index = 'user_id',\n",
    "                                        values = ['distance'],\n",
    "                                        aggfunc= 'median')\n",
    "                 .round(2)\n",
    "                 .hist(bins = 50, figsize= (15,5)))\n",
    "plt.title ('диаграмма плотности расстояния категории ultra');"
   ]
  },
  {
   "cell_type": "code",
   "execution_count": 30,
   "id": "0d03f4f2",
   "metadata": {
    "scrolled": true
   },
   "outputs": [
    {
     "data": {
      "image/png": "[encoded data removed]",
      "text/plain": [
       "<Figure size 1080x360 with 1 Axes>"
      ]
     },
     "metadata": {
      "needs_background": "light"
     },
     "output_type": "display_data"
    }
   ],
   "source": [
    "data_ultra_id = (data_ultra.pivot_table(index = 'user_id',\n",
    "                                        values = ['duration'],\n",
    "                                        aggfunc= 'median')\n",
    "                 .round(2)\n",
    "                 .hist(bins = 50, figsize= (15,5)))\n",
    "plt.title ('диаграмма плотности расстояния категории ultra');"
   ]
  },
  {
   "cell_type": "markdown",
   "id": "50cd9694",
   "metadata": {},
   "source": [
    "Выводы:\n",
    "- Графики категории free \"шире\" графиков категории ultra.\n",
    "- пользователи категории ultra пользуются сервисом, преимущестьвенно, для поездок на длительные дистанции (большая плотность в значении чуть выше 3000 метров и имеет меньший разброс, чем у пользователей с категории free)\n",
    "- время пользователей категории утра немного больше, чем в категории фри (график категории ультра распределен  правее)"
   ]
  },
  {
   "cell_type": "markdown",
   "id": "402d620f",
   "metadata": {},
   "source": [
    "#### Шаг 5. Подсчёт выручки"
   ]
  },
  {
   "cell_type": "markdown",
   "id": "3bbeb379",
   "metadata": {},
   "source": [
    "#####  Создайте датафрейм с агрегированными данными о поездках на основе датафрейма с объединёнными данными из шага 4: найдите суммарное расстояние, количество поездок и суммарное время для каждого пользователя за каждый месяц."
   ]
  },
  {
   "cell_type": "code",
   "execution_count": 31,
   "id": "6d774bb9",
   "metadata": {},
   "outputs": [
    {
     "data": {
      "text/html": [
       "<div>\n",
       "<style scoped>\n",
       "    .dataframe tbody tr th:only-of-type {\n",
       "        vertical-align: middle;\n",
       "    }\n",
       "\n",
       "    .dataframe tbody tr th {\n",
       "        vertical-align: top;\n",
       "    }\n",
       "\n",
       "    .dataframe thead th {\n",
       "        text-align: right;\n",
       "    }\n",
       "</style>\n",
       "<table border=\"1\" class=\"dataframe\">\n",
       "  <thead>\n",
       "    <tr style=\"text-align: right;\">\n",
       "      <th></th>\n",
       "      <th>user_id</th>\n",
       "      <th>date_month</th>\n",
       "      <th>distance_sum</th>\n",
       "      <th>duration_sum</th>\n",
       "      <th>duration_count</th>\n",
       "    </tr>\n",
       "  </thead>\n",
       "  <tbody>\n",
       "    <tr>\n",
       "      <th>0</th>\n",
       "      <td>1</td>\n",
       "      <td>1</td>\n",
       "      <td>7027.511294</td>\n",
       "      <td>41</td>\n",
       "      <td>2</td>\n",
       "    </tr>\n",
       "    <tr>\n",
       "      <th>1</th>\n",
       "      <td>1</td>\n",
       "      <td>4</td>\n",
       "      <td>754.159807</td>\n",
       "      <td>6</td>\n",
       "      <td>1</td>\n",
       "    </tr>\n",
       "    <tr>\n",
       "      <th>2</th>\n",
       "      <td>1</td>\n",
       "      <td>8</td>\n",
       "      <td>6723.470560</td>\n",
       "      <td>45</td>\n",
       "      <td>2</td>\n",
       "    </tr>\n",
       "    <tr>\n",
       "      <th>3</th>\n",
       "      <td>1</td>\n",
       "      <td>10</td>\n",
       "      <td>5809.911100</td>\n",
       "      <td>32</td>\n",
       "      <td>2</td>\n",
       "    </tr>\n",
       "    <tr>\n",
       "      <th>4</th>\n",
       "      <td>1</td>\n",
       "      <td>11</td>\n",
       "      <td>7003.499363</td>\n",
       "      <td>53</td>\n",
       "      <td>3</td>\n",
       "    </tr>\n",
       "    <tr>\n",
       "      <th>...</th>\n",
       "      <td>...</td>\n",
       "      <td>...</td>\n",
       "      <td>...</td>\n",
       "      <td>...</td>\n",
       "      <td>...</td>\n",
       "    </tr>\n",
       "    <tr>\n",
       "      <th>11326</th>\n",
       "      <td>1534</td>\n",
       "      <td>6</td>\n",
       "      <td>3409.468534</td>\n",
       "      <td>25</td>\n",
       "      <td>2</td>\n",
       "    </tr>\n",
       "    <tr>\n",
       "      <th>11327</th>\n",
       "      <td>1534</td>\n",
       "      <td>8</td>\n",
       "      <td>7622.453034</td>\n",
       "      <td>47</td>\n",
       "      <td>2</td>\n",
       "    </tr>\n",
       "    <tr>\n",
       "      <th>11328</th>\n",
       "      <td>1534</td>\n",
       "      <td>9</td>\n",
       "      <td>4928.173852</td>\n",
       "      <td>23</td>\n",
       "      <td>1</td>\n",
       "    </tr>\n",
       "    <tr>\n",
       "      <th>11329</th>\n",
       "      <td>1534</td>\n",
       "      <td>11</td>\n",
       "      <td>13350.015305</td>\n",
       "      <td>76</td>\n",
       "      <td>4</td>\n",
       "    </tr>\n",
       "    <tr>\n",
       "      <th>11330</th>\n",
       "      <td>1534</td>\n",
       "      <td>12</td>\n",
       "      <td>2371.711192</td>\n",
       "      <td>16</td>\n",
       "      <td>1</td>\n",
       "    </tr>\n",
       "  </tbody>\n",
       "</table>\n",
       "<p>11331 rows × 5 columns</p>\n",
       "</div>"
      ],
      "text/plain": [
       "       user_id  date_month  distance_sum  duration_sum  duration_count\n",
       "0            1           1   7027.511294            41               2\n",
       "1            1           4    754.159807             6               1\n",
       "2            1           8   6723.470560            45               2\n",
       "3            1          10   5809.911100            32               2\n",
       "4            1          11   7003.499363            53               3\n",
       "...        ...         ...           ...           ...             ...\n",
       "11326     1534           6   3409.468534            25               2\n",
       "11327     1534           8   7622.453034            47               2\n",
       "11328     1534           9   4928.173852            23               1\n",
       "11329     1534          11  13350.015305            76               4\n",
       "11330     1534          12   2371.711192            16               1\n",
       "\n",
       "[11331 rows x 5 columns]"
      ]
     },
     "execution_count": 31,
     "metadata": {},
     "output_type": "execute_result"
    }
   ],
   "source": [
    "data_agg =  (data.groupby(['user_id', 'date_month' ])\n",
    "             .agg(distance_sum=('distance', 'sum'),\n",
    "                  duration_sum=('duration', 'sum'),\n",
    "                  duration_count=('duration', 'count')) \n",
    "             .reset_index()\n",
    "             )\n",
    "data_agg['duration_sum'] =  data_agg['duration_sum'].round().astype('int')\n",
    "data_agg"
   ]
  },
  {
   "cell_type": "markdown",
   "id": "d0540f72",
   "metadata": {},
   "source": [
    "#####  В этот же датафрейм добавьте столбец с помесячной выручкой, которую принёс каждый пользователь — обратитесь к информации об условиях оплаты для подписчиков и и тех, у кого нет подписки. Минуты при подсчёте стоимости округляются до ближайшего целого числа."
   ]
  },
  {
   "cell_type": "markdown",
   "id": "1e9fc337",
   "metadata": {},
   "source": [
    "Создаем новый df где будет вся необходимая информация для расчета "
   ]
  },
  {
   "cell_type": "code",
   "execution_count": 32,
   "id": "4b05151a",
   "metadata": {},
   "outputs": [
    {
     "data": {
      "text/html": [
       "<div>\n",
       "<style scoped>\n",
       "    .dataframe tbody tr th:only-of-type {\n",
       "        vertical-align: middle;\n",
       "    }\n",
       "\n",
       "    .dataframe tbody tr th {\n",
       "        vertical-align: top;\n",
       "    }\n",
       "\n",
       "    .dataframe thead th {\n",
       "        text-align: right;\n",
       "    }\n",
       "</style>\n",
       "<table border=\"1\" class=\"dataframe\">\n",
       "  <thead>\n",
       "    <tr style=\"text-align: right;\">\n",
       "      <th></th>\n",
       "      <th>user_id</th>\n",
       "      <th>subscription_type</th>\n",
       "      <th>minute_price</th>\n",
       "      <th>start_ride_price</th>\n",
       "      <th>subscription_fee</th>\n",
       "      <th>date_month</th>\n",
       "      <th>distance_sum</th>\n",
       "      <th>duration_sum</th>\n",
       "      <th>duration_count</th>\n",
       "    </tr>\n",
       "  </thead>\n",
       "  <tbody>\n",
       "    <tr>\n",
       "      <th>0</th>\n",
       "      <td>1</td>\n",
       "      <td>ultra</td>\n",
       "      <td>6</td>\n",
       "      <td>0</td>\n",
       "      <td>199</td>\n",
       "      <td>1</td>\n",
       "      <td>7027.511294</td>\n",
       "      <td>41</td>\n",
       "      <td>2</td>\n",
       "    </tr>\n",
       "    <tr>\n",
       "      <th>1</th>\n",
       "      <td>1</td>\n",
       "      <td>ultra</td>\n",
       "      <td>6</td>\n",
       "      <td>0</td>\n",
       "      <td>199</td>\n",
       "      <td>4</td>\n",
       "      <td>754.159807</td>\n",
       "      <td>6</td>\n",
       "      <td>1</td>\n",
       "    </tr>\n",
       "    <tr>\n",
       "      <th>2</th>\n",
       "      <td>1</td>\n",
       "      <td>ultra</td>\n",
       "      <td>6</td>\n",
       "      <td>0</td>\n",
       "      <td>199</td>\n",
       "      <td>8</td>\n",
       "      <td>6723.470560</td>\n",
       "      <td>45</td>\n",
       "      <td>2</td>\n",
       "    </tr>\n",
       "    <tr>\n",
       "      <th>3</th>\n",
       "      <td>1</td>\n",
       "      <td>ultra</td>\n",
       "      <td>6</td>\n",
       "      <td>0</td>\n",
       "      <td>199</td>\n",
       "      <td>10</td>\n",
       "      <td>5809.911100</td>\n",
       "      <td>32</td>\n",
       "      <td>2</td>\n",
       "    </tr>\n",
       "    <tr>\n",
       "      <th>4</th>\n",
       "      <td>1</td>\n",
       "      <td>ultra</td>\n",
       "      <td>6</td>\n",
       "      <td>0</td>\n",
       "      <td>199</td>\n",
       "      <td>11</td>\n",
       "      <td>7003.499363</td>\n",
       "      <td>53</td>\n",
       "      <td>3</td>\n",
       "    </tr>\n",
       "    <tr>\n",
       "      <th>...</th>\n",
       "      <td>...</td>\n",
       "      <td>...</td>\n",
       "      <td>...</td>\n",
       "      <td>...</td>\n",
       "      <td>...</td>\n",
       "      <td>...</td>\n",
       "      <td>...</td>\n",
       "      <td>...</td>\n",
       "      <td>...</td>\n",
       "    </tr>\n",
       "    <tr>\n",
       "      <th>11326</th>\n",
       "      <td>1534</td>\n",
       "      <td>free</td>\n",
       "      <td>8</td>\n",
       "      <td>50</td>\n",
       "      <td>0</td>\n",
       "      <td>6</td>\n",
       "      <td>3409.468534</td>\n",
       "      <td>25</td>\n",
       "      <td>2</td>\n",
       "    </tr>\n",
       "    <tr>\n",
       "      <th>11327</th>\n",
       "      <td>1534</td>\n",
       "      <td>free</td>\n",
       "      <td>8</td>\n",
       "      <td>50</td>\n",
       "      <td>0</td>\n",
       "      <td>8</td>\n",
       "      <td>7622.453034</td>\n",
       "      <td>47</td>\n",
       "      <td>2</td>\n",
       "    </tr>\n",
       "    <tr>\n",
       "      <th>11328</th>\n",
       "      <td>1534</td>\n",
       "      <td>free</td>\n",
       "      <td>8</td>\n",
       "      <td>50</td>\n",
       "      <td>0</td>\n",
       "      <td>9</td>\n",
       "      <td>4928.173852</td>\n",
       "      <td>23</td>\n",
       "      <td>1</td>\n",
       "    </tr>\n",
       "    <tr>\n",
       "      <th>11329</th>\n",
       "      <td>1534</td>\n",
       "      <td>free</td>\n",
       "      <td>8</td>\n",
       "      <td>50</td>\n",
       "      <td>0</td>\n",
       "      <td>11</td>\n",
       "      <td>13350.015305</td>\n",
       "      <td>76</td>\n",
       "      <td>4</td>\n",
       "    </tr>\n",
       "    <tr>\n",
       "      <th>11330</th>\n",
       "      <td>1534</td>\n",
       "      <td>free</td>\n",
       "      <td>8</td>\n",
       "      <td>50</td>\n",
       "      <td>0</td>\n",
       "      <td>12</td>\n",
       "      <td>2371.711192</td>\n",
       "      <td>16</td>\n",
       "      <td>1</td>\n",
       "    </tr>\n",
       "  </tbody>\n",
       "</table>\n",
       "<p>11331 rows × 9 columns</p>\n",
       "</div>"
      ],
      "text/plain": [
       "       user_id subscription_type  minute_price  start_ride_price  \\\n",
       "0            1             ultra             6                 0   \n",
       "1            1             ultra             6                 0   \n",
       "2            1             ultra             6                 0   \n",
       "3            1             ultra             6                 0   \n",
       "4            1             ultra             6                 0   \n",
       "...        ...               ...           ...               ...   \n",
       "11326     1534              free             8                50   \n",
       "11327     1534              free             8                50   \n",
       "11328     1534              free             8                50   \n",
       "11329     1534              free             8                50   \n",
       "11330     1534              free             8                50   \n",
       "\n",
       "       subscription_fee  date_month  distance_sum  duration_sum  \\\n",
       "0                   199           1   7027.511294            41   \n",
       "1                   199           4    754.159807             6   \n",
       "2                   199           8   6723.470560            45   \n",
       "3                   199          10   5809.911100            32   \n",
       "4                   199          11   7003.499363            53   \n",
       "...                 ...         ...           ...           ...   \n",
       "11326                 0           6   3409.468534            25   \n",
       "11327                 0           8   7622.453034            47   \n",
       "11328                 0           9   4928.173852            23   \n",
       "11329                 0          11  13350.015305            76   \n",
       "11330                 0          12   2371.711192            16   \n",
       "\n",
       "       duration_count  \n",
       "0                   2  \n",
       "1                   1  \n",
       "2                   2  \n",
       "3                   2  \n",
       "4                   3  \n",
       "...               ...  \n",
       "11326               2  \n",
       "11327               2  \n",
       "11328               1  \n",
       "11329               4  \n",
       "11330               1  \n",
       "\n",
       "[11331 rows x 9 columns]"
      ]
     },
     "execution_count": 32,
     "metadata": {},
     "output_type": "execute_result"
    }
   ],
   "source": [
    "datalist = data[['user_id','subscription_type', 'minute_price', 'start_ride_price','subscription_fee', 'date_month']]\n",
    "\n",
    "dataset = datalist.merge(data_agg, on = ['user_id', 'date_month'], how = 'left')\n",
    "dataset = dataset.drop_duplicates().reset_index(drop = True)\n",
    "dataset"
   ]
  },
  {
   "cell_type": "markdown",
   "id": "dcfe9921",
   "metadata": {},
   "source": [
    "Считаем значения в новом столбце "
   ]
  },
  {
   "cell_type": "code",
   "execution_count": 33,
   "id": "c9b7c84b",
   "metadata": {
    "scrolled": true
   },
   "outputs": [],
   "source": [
    "dataset['prise_sum'] = ((dataset['start_ride_price'] * dataset['duration_count'])\n",
    "                        + (dataset['minute_price'] * dataset['duration_sum'])\n",
    "                        + dataset['subscription_fee']\n",
    "                       )\n"
   ]
  },
  {
   "cell_type": "markdown",
   "id": "8c5074ca",
   "metadata": {},
   "source": [
    "создаем вспомогательный датасет, где хранится только необходимая информация для присоединения"
   ]
  },
  {
   "cell_type": "code",
   "execution_count": 34,
   "id": "d917390a",
   "metadata": {},
   "outputs": [],
   "source": [
    "dataset1 = dataset[['user_id', 'date_month','subscription_type', 'prise_sum']]"
   ]
  },
  {
   "cell_type": "markdown",
   "id": "ae83c86e",
   "metadata": {},
   "source": [
    "Присоединяем к data_agg"
   ]
  },
  {
   "cell_type": "code",
   "execution_count": 35,
   "id": "41c3f592",
   "metadata": {},
   "outputs": [
    {
     "data": {
      "text/html": [
       "<div>\n",
       "<style scoped>\n",
       "    .dataframe tbody tr th:only-of-type {\n",
       "        vertical-align: middle;\n",
       "    }\n",
       "\n",
       "    .dataframe tbody tr th {\n",
       "        vertical-align: top;\n",
       "    }\n",
       "\n",
       "    .dataframe thead th {\n",
       "        text-align: right;\n",
       "    }\n",
       "</style>\n",
       "<table border=\"1\" class=\"dataframe\">\n",
       "  <thead>\n",
       "    <tr style=\"text-align: right;\">\n",
       "      <th></th>\n",
       "      <th>user_id</th>\n",
       "      <th>date_month</th>\n",
       "      <th>distance_sum</th>\n",
       "      <th>duration_sum</th>\n",
       "      <th>duration_count</th>\n",
       "      <th>subscription_type</th>\n",
       "      <th>prise_sum</th>\n",
       "    </tr>\n",
       "  </thead>\n",
       "  <tbody>\n",
       "    <tr>\n",
       "      <th>0</th>\n",
       "      <td>1</td>\n",
       "      <td>1</td>\n",
       "      <td>7027.511294</td>\n",
       "      <td>41</td>\n",
       "      <td>2</td>\n",
       "      <td>ultra</td>\n",
       "      <td>445</td>\n",
       "    </tr>\n",
       "    <tr>\n",
       "      <th>1</th>\n",
       "      <td>1</td>\n",
       "      <td>4</td>\n",
       "      <td>754.159807</td>\n",
       "      <td>6</td>\n",
       "      <td>1</td>\n",
       "      <td>ultra</td>\n",
       "      <td>235</td>\n",
       "    </tr>\n",
       "    <tr>\n",
       "      <th>2</th>\n",
       "      <td>1</td>\n",
       "      <td>8</td>\n",
       "      <td>6723.470560</td>\n",
       "      <td>45</td>\n",
       "      <td>2</td>\n",
       "      <td>ultra</td>\n",
       "      <td>469</td>\n",
       "    </tr>\n",
       "    <tr>\n",
       "      <th>3</th>\n",
       "      <td>1</td>\n",
       "      <td>10</td>\n",
       "      <td>5809.911100</td>\n",
       "      <td>32</td>\n",
       "      <td>2</td>\n",
       "      <td>ultra</td>\n",
       "      <td>391</td>\n",
       "    </tr>\n",
       "    <tr>\n",
       "      <th>4</th>\n",
       "      <td>1</td>\n",
       "      <td>11</td>\n",
       "      <td>7003.499363</td>\n",
       "      <td>53</td>\n",
       "      <td>3</td>\n",
       "      <td>ultra</td>\n",
       "      <td>517</td>\n",
       "    </tr>\n",
       "  </tbody>\n",
       "</table>\n",
       "</div>"
      ],
      "text/plain": [
       "   user_id  date_month  distance_sum  duration_sum  duration_count  \\\n",
       "0        1           1   7027.511294            41               2   \n",
       "1        1           4    754.159807             6               1   \n",
       "2        1           8   6723.470560            45               2   \n",
       "3        1          10   5809.911100            32               2   \n",
       "4        1          11   7003.499363            53               3   \n",
       "\n",
       "  subscription_type  prise_sum  \n",
       "0             ultra        445  \n",
       "1             ultra        235  \n",
       "2             ultra        469  \n",
       "3             ultra        391  \n",
       "4             ultra        517  "
      ]
     },
     "execution_count": 35,
     "metadata": {},
     "output_type": "execute_result"
    }
   ],
   "source": [
    "data_agg_vererse = data_agg.merge(dataset1, on = ['user_id', 'date_month'], how = 'left')\n",
    "data_agg_vererse.head()"
   ]
  },
  {
   "cell_type": "markdown",
   "id": "41545ac0",
   "metadata": {},
   "source": [
    "#### Шаг 6. Проверка гипотез\n",
    "Продакт-менеджеры сервиса хотят увеличить количество пользователей с подпиской. Для этого они будут проводить различные акции, но сначала нужно выяснить несколько важных моментов."
   ]
  },
  {
   "cell_type": "markdown",
   "id": "9f881d41",
   "metadata": {},
   "source": [
    "##### Важно понять, тратят ли пользователи с подпиской больше времени на поездки? Если да, то действительно ли пользователи с подпиской «выгоднее» для компании. Проверьте гипотезу. Используйте исходные данные о продолжительности каждой сессии — отдельно для подписчиков и тех, у кого нет подписки."
   ]
  },
  {
   "cell_type": "markdown",
   "id": "bca10e5c",
   "metadata": {},
   "source": [
    "Разобьем это на две гипотезы:\n",
    "- Пользователи с подпиской тратят одинаковое время поездки (альт - пользователи тратят больше времени с подпиской)\n",
    "- пользователи с подпиской приносят столько же выручки, сколько без (альт. - пользователи с подпиской приносят больше выручки, чем без)\n",
    " "
   ]
  },
  {
   "cell_type": "markdown",
   "id": "df1b18f2",
   "metadata": {},
   "source": [
    "находим медиану времени пользователей без подписки:"
   ]
  },
  {
   "cell_type": "code",
   "execution_count": 36,
   "id": "bdf15393",
   "metadata": {},
   "outputs": [],
   "source": [
    "array1 =  data_free['duration'] \n",
    "array2 = data_ultra['duration']"
   ]
  },
  {
   "cell_type": "code",
   "execution_count": 37,
   "id": "808b191b",
   "metadata": {},
   "outputs": [
    {
     "name": "stdout",
     "output_type": "stream",
     "text": [
      "p-value: 5.6757813771289775e-37\n",
      "Отвергаем нулевую гипотезу\n"
     ]
    }
   ],
   "source": [
    "alpha = 0.05 #уровень статист. значимости \n",
    "\n",
    "results = st.ttest_ind(array2,\n",
    "                       array1,\n",
    "                       equal_var = False,\n",
    "                       alternative ='greater')\n",
    "\n",
    "print(f'p-value: {results.pvalue}')\n",
    "\n",
    "if results.pvalue < alpha:\n",
    "    print('Отвергаем нулевую гипотезу')\n",
    "else:\n",
    "    print('Не получилось отвергнуть нулевую гипотезу')"
   ]
  },
  {
   "cell_type": "markdown",
   "id": "22000d45",
   "metadata": {},
   "source": [
    "Нулевая гипотеза отвергнута. Пользователи с подпиской тратят больше времени. Теперь проверим вторую гипотезу:"
   ]
  },
  {
   "cell_type": "code",
   "execution_count": 38,
   "id": "68515c9b",
   "metadata": {},
   "outputs": [],
   "source": [
    "array1 = data_agg_vererse.loc[data_agg_vererse['subscription_type'] == 'free',['prise_sum']] \n",
    "array2 = data_agg_vererse.loc[data_agg_vererse['subscription_type'] == 'ultra',['prise_sum']]"
   ]
  },
  {
   "cell_type": "code",
   "execution_count": 39,
   "id": "7bf1c1a7",
   "metadata": {},
   "outputs": [
    {
     "name": "stdout",
     "output_type": "stream",
     "text": [
      "p-value: [2.34921862e-47]\n",
      "Отвергаем нулевую гипотезу\n"
     ]
    }
   ],
   "source": [
    "results = st.ttest_ind(array2,\n",
    "                       array1,\n",
    "                       equal_var = False,\n",
    "                       alternative ='greater')\n",
    "\n",
    "print(f'p-value: {results.pvalue}')\n",
    "\n",
    "if results.pvalue < alpha:\n",
    "    print('Отвергаем нулевую гипотезу')\n",
    "else:\n",
    "    print('Не получилось отвергнуть нулевую гипотезу')"
   ]
  },
  {
   "cell_type": "markdown",
   "id": "bea56d97",
   "metadata": {},
   "source": [
    "#####  Расстояние одной поездки в 3130 метров — оптимальное с точки зрения износа самоката. Можно ли сказать, что расстояние, которое проезжают пользователи с подпиской за одну поездку, не превышает 3130 метров? Проверьте гипотезу и сделайте выводы."
   ]
  },
  {
   "cell_type": "markdown",
   "id": "54810130",
   "metadata": {},
   "source": [
    "Гипотеза: пользователи с подпиской проезжают расстояние в 3130 метров. Альтернативная - пользователи проезжают больше 3130м"
   ]
  },
  {
   "cell_type": "markdown",
   "id": "aca73aa9",
   "metadata": {},
   "source": [
    "создаем срез, где в таблице data_agg_vererse только подписчики ultra"
   ]
  },
  {
   "cell_type": "code",
   "execution_count": 40,
   "id": "17ae5969",
   "metadata": {},
   "outputs": [],
   "source": [
    "data_agg_vererse_ultra = data_agg_vererse[data_agg_vererse['subscription_type'] == 'ultra']"
   ]
  },
  {
   "cell_type": "code",
   "execution_count": 41,
   "id": "69eeb024",
   "metadata": {
    "scrolled": true
   },
   "outputs": [
    {
     "name": "stdout",
     "output_type": "stream",
     "text": [
      "p-value: 3.883541374011314e-278\n",
      "Отвергаем нулевую гипотезу\n"
     ]
    }
   ],
   "source": [
    "interested_value = 3130\n",
    "\n",
    "alpha = 0.05 #уровень статист. значимости \n",
    "\n",
    "results = st.ttest_1samp(\n",
    "          data_agg_vererse_ultra['distance_sum'], \n",
    "          interested_value, alternative ='greater')\n",
    "\n",
    "print(f'p-value: {results.pvalue}')\n",
    "\n",
    "if results.pvalue < alpha:\n",
    "    print('Отвергаем нулевую гипотезу')\n",
    "else:\n",
    "    print('Не получилось отвергнуть нулевую гипотезу')"
   ]
  },
  {
   "cell_type": "markdown",
   "id": "e929554a",
   "metadata": {},
   "source": [
    "Вывод: расстояние, которое проезжают пользователи с подпиской превышает 3130 метров. Необходимо рассмотреть возможности повысить износостойкость самоката"
   ]
  },
  {
   "cell_type": "markdown",
   "id": "31197505",
   "metadata": {},
   "source": [
    "#####  Проверьте гипотезу о том, будет ли помесячная выручка от пользователей с подпиской по месяцам выше, чем выручка от пользователей без подписки. Сделайте вывод."
   ]
  },
  {
   "cell_type": "markdown",
   "id": "348c8b55",
   "metadata": {},
   "source": [
    "Гипотеза:\\\n",
    "    помесячная выручка от пользователей с подпиской выше одинакова с теми, кто без.\\\n",
    "    Альтернативная: помесячная выручка от пользователей с подпиской выше, чем без.\\"
   ]
  },
  {
   "cell_type": "markdown",
   "id": "1ac53345",
   "metadata": {},
   "source": [
    "ранее мы создали срез data_agg_vererse с подписчиками ultra. Создаем аналогичный, но уже с подпиской free. Далее создаем 2 сводные таблицы, где посчитанна сумма пользователей отдельно за каждый месяц"
   ]
  },
  {
   "cell_type": "code",
   "execution_count": 42,
   "id": "0ceeb241",
   "metadata": {},
   "outputs": [],
   "source": [
    "data_agg_vererse_free = data_agg_vererse[data_agg_vererse['subscription_type'] == 'free']"
   ]
  },
  {
   "cell_type": "code",
   "execution_count": 43,
   "id": "6e3e3a30",
   "metadata": {
    "scrolled": true
   },
   "outputs": [],
   "source": [
    "array3 = data_agg_vererse_ultra.pivot_table(index = 'date_month', values = 'prise_sum', aggfunc= 'sum')\n",
    "array4 = data_agg_vererse_free.pivot_table(index = 'date_month', values = 'prise_sum', aggfunc= 'sum')"
   ]
  },
  {
   "cell_type": "code",
   "execution_count": 44,
   "id": "c1d4c366",
   "metadata": {},
   "outputs": [
    {
     "name": "stdout",
     "output_type": "stream",
     "text": [
      "p-value: [4.25456339e-13]\n",
      "Отвергаем нулевую гипотезу\n"
     ]
    }
   ],
   "source": [
    "alpha = 0.05 #уровень статист. значимости \n",
    "\n",
    "results = st.ttest_ind(array4,\n",
    "                       array3,\n",
    "                       equal_var = False,\n",
    "                       alternative ='greater')\n",
    "\n",
    "print(f'p-value: {results.pvalue}')\n",
    "\n",
    "if results.pvalue < alpha:\n",
    "    print('Отвергаем нулевую гипотезу')\n",
    "else:\n",
    "    print('Не получилось отвергнуть нулевую гипотезу')"
   ]
  },
  {
   "cell_type": "markdown",
   "id": "d919b16a",
   "metadata": {},
   "source": [
    "Вывод: пользователи с подпиской приносят больше помесячной выручки, чем пользователи без нее"
   ]
  },
  {
   "cell_type": "markdown",
   "id": "782d2331",
   "metadata": {},
   "source": [
    "##### Представьте такую ситуацию: техническая команда сервиса обновила сервера, с которыми взаимодействует мобильное приложение. Она надеется, что из-за этого количество обращений в техподдержку значимо снизилось. Некоторый файл содержит для каждого пользователя данные о количестве обращений до обновления и после него. Какой тест вам понадобился бы для проверки этой гипотезы?"
   ]
  },
  {
   "cell_type": "markdown",
   "id": "b13d087d",
   "metadata": {},
   "source": [
    "scipy.stats.ttest_rel()"
   ]
  }
 ],
 "metadata": {
  "ExecuteTimeLog": [
   {
    "duration": 53,
    "start_time": "2023-05-02T19:58:24.710Z"
   },
   {
    "duration": 532,
    "start_time": "2023-05-02T19:58:30.357Z"
   },
   {
    "duration": 251,
    "start_time": "2023-05-02T19:58:32.514Z"
   },
   {
    "duration": 22,
    "start_time": "2023-05-02T19:59:06.132Z"
   },
   {
    "duration": 13,
    "start_time": "2023-05-02T19:59:23.611Z"
   },
   {
    "duration": 12,
    "start_time": "2023-05-02T19:59:34.972Z"
   },
   {
    "duration": 51,
    "start_time": "2023-05-02T20:04:06.309Z"
   },
   {
    "duration": 83,
    "start_time": "2023-05-02T20:06:11.175Z"
   },
   {
    "duration": 583,
    "start_time": "2023-05-02T20:08:45.585Z"
   },
   {
    "duration": 11,
    "start_time": "2023-05-02T20:09:02.886Z"
   },
   {
    "duration": 16,
    "start_time": "2023-05-02T20:09:09.420Z"
   },
   {
    "duration": 14,
    "start_time": "2023-05-02T20:09:44.163Z"
   },
   {
    "duration": 11,
    "start_time": "2023-05-02T20:10:09.710Z"
   },
   {
    "duration": 16,
    "start_time": "2023-05-02T20:10:41.909Z"
   },
   {
    "duration": 9,
    "start_time": "2023-05-02T20:10:47.949Z"
   },
   {
    "duration": 3,
    "start_time": "2023-05-02T20:11:09.267Z"
   },
   {
    "duration": 84,
    "start_time": "2023-05-02T20:11:09.273Z"
   },
   {
    "duration": 11,
    "start_time": "2023-05-02T20:11:09.360Z"
   },
   {
    "duration": 39,
    "start_time": "2023-05-02T20:11:09.373Z"
   },
   {
    "duration": 32,
    "start_time": "2023-05-02T20:11:09.416Z"
   },
   {
    "duration": 33,
    "start_time": "2023-05-02T20:11:13.778Z"
   },
   {
    "duration": 80,
    "start_time": "2023-05-02T20:11:24.876Z"
   },
   {
    "duration": 39,
    "start_time": "2023-05-02T20:11:40.269Z"
   },
   {
    "duration": 5,
    "start_time": "2023-05-02T20:11:46.012Z"
   },
   {
    "duration": 35,
    "start_time": "2023-05-02T20:11:51.801Z"
   },
   {
    "duration": 16,
    "start_time": "2023-05-02T20:14:06.733Z"
   },
   {
    "duration": 12,
    "start_time": "2023-05-02T20:19:42.709Z"
   },
   {
    "duration": 22,
    "start_time": "2023-05-02T20:20:09.181Z"
   },
   {
    "duration": 14,
    "start_time": "2023-05-02T20:20:53.636Z"
   },
   {
    "duration": 20,
    "start_time": "2023-05-02T20:20:58.688Z"
   },
   {
    "duration": 12,
    "start_time": "2023-05-02T20:21:47.011Z"
   },
   {
    "duration": 19,
    "start_time": "2023-05-02T20:23:01.647Z"
   },
   {
    "duration": 10,
    "start_time": "2023-05-02T20:24:00.110Z"
   },
   {
    "duration": 12,
    "start_time": "2023-05-02T20:24:13.424Z"
   },
   {
    "duration": 18,
    "start_time": "2023-05-02T20:25:07.152Z"
   },
   {
    "duration": 3,
    "start_time": "2023-05-02T20:25:12.869Z"
   },
   {
    "duration": 83,
    "start_time": "2023-05-02T20:25:12.874Z"
   },
   {
    "duration": 11,
    "start_time": "2023-05-02T20:25:12.959Z"
   },
   {
    "duration": 11,
    "start_time": "2023-05-02T20:25:12.973Z"
   },
   {
    "duration": 20,
    "start_time": "2023-05-02T20:25:12.986Z"
   },
   {
    "duration": 27,
    "start_time": "2023-05-02T20:25:13.009Z"
   },
   {
    "duration": 22,
    "start_time": "2023-05-02T20:25:13.038Z"
   },
   {
    "duration": 19,
    "start_time": "2023-05-02T20:25:15.826Z"
   },
   {
    "duration": 12,
    "start_time": "2023-05-02T20:25:19.977Z"
   },
   {
    "duration": 25,
    "start_time": "2023-05-02T20:25:58.757Z"
   },
   {
    "duration": 18,
    "start_time": "2023-05-02T20:26:17.622Z"
   },
   {
    "duration": 56,
    "start_time": "2023-05-02T20:37:38.636Z"
   },
   {
    "duration": 13,
    "start_time": "2023-05-02T20:44:13.388Z"
   },
   {
    "duration": 10,
    "start_time": "2023-05-02T20:44:47.728Z"
   },
   {
    "duration": 678,
    "start_time": "2023-05-02T20:44:57.643Z"
   },
   {
    "duration": 176,
    "start_time": "2023-05-02T20:45:03.680Z"
   },
   {
    "duration": 201,
    "start_time": "2023-05-02T20:45:11.281Z"
   },
   {
    "duration": 189,
    "start_time": "2023-05-02T20:45:15.808Z"
   },
   {
    "duration": 9,
    "start_time": "2023-05-02T20:45:40.014Z"
   },
   {
    "duration": 7,
    "start_time": "2023-05-02T20:45:47.281Z"
   },
   {
    "duration": 186,
    "start_time": "2023-05-02T20:45:53.658Z"
   },
   {
    "duration": 183,
    "start_time": "2023-05-02T20:47:51.963Z"
   },
   {
    "duration": 8,
    "start_time": "2023-05-02T20:48:03.601Z"
   },
   {
    "duration": 8,
    "start_time": "2023-05-02T20:48:11.283Z"
   },
   {
    "duration": 187,
    "start_time": "2023-05-02T20:48:33.591Z"
   },
   {
    "duration": 166,
    "start_time": "2023-05-02T20:48:49.250Z"
   },
   {
    "duration": 173,
    "start_time": "2023-05-02T20:48:54.213Z"
   },
   {
    "duration": 23,
    "start_time": "2023-05-02T20:57:36.580Z"
   },
   {
    "duration": 22,
    "start_time": "2023-05-02T20:57:43.954Z"
   },
   {
    "duration": 16,
    "start_time": "2023-05-02T20:58:47.753Z"
   },
   {
    "duration": 436,
    "start_time": "2023-05-02T20:59:21.951Z"
   },
   {
    "duration": 62,
    "start_time": "2023-05-02T21:00:08.879Z"
   },
   {
    "duration": 22,
    "start_time": "2023-05-02T21:00:22.908Z"
   },
   {
    "duration": 3,
    "start_time": "2023-05-02T21:03:13.856Z"
   },
   {
    "duration": 18,
    "start_time": "2023-05-02T21:03:54.481Z"
   },
   {
    "duration": 16,
    "start_time": "2023-05-02T21:04:10.051Z"
   },
   {
    "duration": 14,
    "start_time": "2023-05-02T21:04:53.945Z"
   },
   {
    "duration": 16,
    "start_time": "2023-05-02T21:05:07.211Z"
   },
   {
    "duration": 129,
    "start_time": "2023-05-02T21:06:01.423Z"
   },
   {
    "duration": 124,
    "start_time": "2023-05-02T21:10:32.144Z"
   },
   {
    "duration": 230,
    "start_time": "2023-05-02T21:15:27.203Z"
   },
   {
    "duration": 7,
    "start_time": "2023-05-02T21:15:49.736Z"
   },
   {
    "duration": 5,
    "start_time": "2023-05-02T21:16:37.586Z"
   },
   {
    "duration": 7907,
    "start_time": "2023-05-02T21:16:43.535Z"
   },
   {
    "duration": 185,
    "start_time": "2023-05-02T21:17:05.088Z"
   },
   {
    "duration": 176,
    "start_time": "2023-05-02T21:17:07.353Z"
   },
   {
    "duration": 143,
    "start_time": "2023-05-02T21:17:16.947Z"
   },
   {
    "duration": 6,
    "start_time": "2023-05-02T21:17:29.785Z"
   },
   {
    "duration": 4,
    "start_time": "2023-05-02T21:17:41.357Z"
   },
   {
    "duration": 12,
    "start_time": "2023-05-02T21:18:14.589Z"
   },
   {
    "duration": 15,
    "start_time": "2023-05-02T21:18:45.034Z"
   },
   {
    "duration": 12,
    "start_time": "2023-05-02T21:19:23.428Z"
   },
   {
    "duration": 14,
    "start_time": "2023-05-02T21:19:30.625Z"
   },
   {
    "duration": 3,
    "start_time": "2023-05-02T21:19:39.858Z"
   },
   {
    "duration": 69,
    "start_time": "2023-05-02T21:19:39.863Z"
   },
   {
    "duration": 11,
    "start_time": "2023-05-02T21:19:39.934Z"
   },
   {
    "duration": 22,
    "start_time": "2023-05-02T21:19:39.947Z"
   },
   {
    "duration": 19,
    "start_time": "2023-05-02T21:19:39.972Z"
   },
   {
    "duration": 27,
    "start_time": "2023-05-02T21:19:39.993Z"
   },
   {
    "duration": 41,
    "start_time": "2023-05-02T21:19:40.022Z"
   },
   {
    "duration": 22,
    "start_time": "2023-05-02T21:19:40.066Z"
   },
   {
    "duration": 23,
    "start_time": "2023-05-02T21:19:40.090Z"
   },
   {
    "duration": 27,
    "start_time": "2023-05-02T21:19:40.115Z"
   },
   {
    "duration": 16,
    "start_time": "2023-05-02T21:19:40.145Z"
   },
   {
    "duration": 220,
    "start_time": "2023-05-02T21:19:40.163Z"
   },
   {
    "duration": 142,
    "start_time": "2023-05-02T21:19:40.392Z"
   },
   {
    "duration": 15,
    "start_time": "2023-05-02T21:19:44.911Z"
   },
   {
    "duration": 12,
    "start_time": "2023-05-02T21:20:08.179Z"
   },
   {
    "duration": 151,
    "start_time": "2023-05-02T21:20:59.343Z"
   },
   {
    "duration": 268,
    "start_time": "2023-05-02T21:21:24.733Z"
   },
   {
    "duration": 136,
    "start_time": "2023-05-02T21:21:59.381Z"
   },
   {
    "duration": 137,
    "start_time": "2023-05-02T21:22:05.501Z"
   },
   {
    "duration": 301,
    "start_time": "2023-05-02T21:22:15.450Z"
   },
   {
    "duration": 296,
    "start_time": "2023-05-02T21:22:27.438Z"
   },
   {
    "duration": 121,
    "start_time": "2023-05-03T07:30:38.752Z"
   },
   {
    "duration": 538,
    "start_time": "2023-05-03T07:30:43.516Z"
   },
   {
    "duration": 539,
    "start_time": "2023-05-03T07:30:44.064Z"
   },
   {
    "duration": 43,
    "start_time": "2023-05-03T07:30:44.609Z"
   },
   {
    "duration": 22,
    "start_time": "2023-05-03T07:30:44.657Z"
   },
   {
    "duration": 16,
    "start_time": "2023-05-03T07:30:44.681Z"
   },
   {
    "duration": 15,
    "start_time": "2023-05-03T07:30:44.699Z"
   },
   {
    "duration": 21,
    "start_time": "2023-05-03T07:30:44.716Z"
   },
   {
    "duration": 30,
    "start_time": "2023-05-03T07:30:44.739Z"
   },
   {
    "duration": 28,
    "start_time": "2023-05-03T07:30:44.770Z"
   },
   {
    "duration": 35,
    "start_time": "2023-05-03T07:30:44.805Z"
   },
   {
    "duration": 28,
    "start_time": "2023-05-03T07:30:44.842Z"
   },
   {
    "duration": 897,
    "start_time": "2023-05-03T07:30:44.874Z"
   },
   {
    "duration": 176,
    "start_time": "2023-05-03T07:30:45.773Z"
   },
   {
    "duration": 354,
    "start_time": "2023-05-03T07:30:45.956Z"
   },
   {
    "duration": 2240,
    "start_time": "2023-05-03T07:30:48.838Z"
   },
   {
    "duration": 26,
    "start_time": "2023-05-03T07:31:23.437Z"
   },
   {
    "duration": 234,
    "start_time": "2023-05-03T07:37:34.676Z"
   },
   {
    "duration": 14,
    "start_time": "2023-05-03T07:40:45.932Z"
   },
   {
    "duration": 9,
    "start_time": "2023-05-03T07:41:18.320Z"
   },
   {
    "duration": 191,
    "start_time": "2023-05-03T07:41:23.017Z"
   },
   {
    "duration": 9,
    "start_time": "2023-05-03T07:42:20.545Z"
   },
   {
    "duration": 9,
    "start_time": "2023-05-03T07:42:43.037Z"
   },
   {
    "duration": 10,
    "start_time": "2023-05-03T07:52:20.631Z"
   },
   {
    "duration": 22,
    "start_time": "2023-05-03T07:52:28.227Z"
   },
   {
    "duration": 10,
    "start_time": "2023-05-03T07:53:54.660Z"
   },
   {
    "duration": 188,
    "start_time": "2023-05-03T07:54:31.310Z"
   },
   {
    "duration": 108,
    "start_time": "2023-05-03T07:55:05.273Z"
   },
   {
    "duration": 20,
    "start_time": "2023-05-03T07:55:16.812Z"
   },
   {
    "duration": 15,
    "start_time": "2023-05-03T07:55:30.318Z"
   },
   {
    "duration": 174,
    "start_time": "2023-05-03T08:05:19.809Z"
   },
   {
    "duration": 179,
    "start_time": "2023-05-03T08:07:27.365Z"
   },
   {
    "duration": 169,
    "start_time": "2023-05-03T08:07:42.753Z"
   },
   {
    "duration": 199,
    "start_time": "2023-05-03T08:11:02.221Z"
   },
   {
    "duration": 9,
    "start_time": "2023-05-03T08:13:14.815Z"
   },
   {
    "duration": 9,
    "start_time": "2023-05-03T08:13:43.966Z"
   },
   {
    "duration": 18,
    "start_time": "2023-05-03T08:13:55.958Z"
   },
   {
    "duration": 58,
    "start_time": "2023-05-03T08:14:15.714Z"
   },
   {
    "duration": 10,
    "start_time": "2023-05-03T08:14:24.552Z"
   },
   {
    "duration": 54,
    "start_time": "2023-05-03T08:16:44.218Z"
   },
   {
    "duration": 3,
    "start_time": "2023-05-03T08:16:51.653Z"
   },
   {
    "duration": 94,
    "start_time": "2023-05-03T08:16:51.658Z"
   },
   {
    "duration": 8,
    "start_time": "2023-05-03T08:16:51.753Z"
   },
   {
    "duration": 17,
    "start_time": "2023-05-03T08:16:51.762Z"
   },
   {
    "duration": 20,
    "start_time": "2023-05-03T08:16:51.781Z"
   },
   {
    "duration": 13,
    "start_time": "2023-05-03T08:16:51.808Z"
   },
   {
    "duration": 13,
    "start_time": "2023-05-03T08:16:51.823Z"
   },
   {
    "duration": 15,
    "start_time": "2023-05-03T08:16:51.839Z"
   },
   {
    "duration": 8,
    "start_time": "2023-05-03T08:16:51.856Z"
   },
   {
    "duration": 46,
    "start_time": "2023-05-03T08:16:51.865Z"
   },
   {
    "duration": 15,
    "start_time": "2023-05-03T08:16:51.913Z"
   },
   {
    "duration": 199,
    "start_time": "2023-05-03T08:16:51.930Z"
   },
   {
    "duration": 138,
    "start_time": "2023-05-03T08:16:52.132Z"
   },
   {
    "duration": 354,
    "start_time": "2023-05-03T08:16:52.272Z"
   },
   {
    "duration": 5,
    "start_time": "2023-05-03T08:16:52.628Z"
   },
   {
    "duration": 50,
    "start_time": "2023-05-03T08:16:57.121Z"
   },
   {
    "duration": 44,
    "start_time": "2023-05-03T08:17:07.811Z"
   },
   {
    "duration": 16,
    "start_time": "2023-05-03T08:17:20.046Z"
   },
   {
    "duration": 13,
    "start_time": "2023-05-03T08:17:28.511Z"
   },
   {
    "duration": 12,
    "start_time": "2023-05-03T08:17:40.938Z"
   },
   {
    "duration": 12,
    "start_time": "2023-05-03T08:19:27.912Z"
   },
   {
    "duration": 13,
    "start_time": "2023-05-03T08:19:35.010Z"
   },
   {
    "duration": 15,
    "start_time": "2023-05-03T08:21:32.937Z"
   },
   {
    "duration": 20,
    "start_time": "2023-05-03T08:21:38.493Z"
   },
   {
    "duration": 203,
    "start_time": "2023-05-03T08:24:23.215Z"
   },
   {
    "duration": 14,
    "start_time": "2023-05-03T08:24:46.646Z"
   },
   {
    "duration": 252,
    "start_time": "2023-05-03T08:42:48.547Z"
   },
   {
    "duration": 172,
    "start_time": "2023-05-03T08:42:57.463Z"
   },
   {
    "duration": 183,
    "start_time": "2023-05-03T08:43:00.953Z"
   },
   {
    "duration": 172,
    "start_time": "2023-05-03T08:43:06.549Z"
   },
   {
    "duration": 172,
    "start_time": "2023-05-03T08:43:12.974Z"
   },
   {
    "duration": 167,
    "start_time": "2023-05-03T08:43:22.064Z"
   },
   {
    "duration": 257,
    "start_time": "2023-05-03T08:45:47.081Z"
   },
   {
    "duration": 189,
    "start_time": "2023-05-03T08:46:18.414Z"
   },
   {
    "duration": 197,
    "start_time": "2023-05-03T08:46:26.015Z"
   },
   {
    "duration": 177,
    "start_time": "2023-05-03T08:47:05.341Z"
   },
   {
    "duration": 180,
    "start_time": "2023-05-03T08:47:27.832Z"
   },
   {
    "duration": 246,
    "start_time": "2023-05-03T08:47:39.418Z"
   },
   {
    "duration": 180,
    "start_time": "2023-05-03T08:47:45.927Z"
   },
   {
    "duration": 179,
    "start_time": "2023-05-03T08:47:50.835Z"
   },
   {
    "duration": 172,
    "start_time": "2023-05-03T08:48:04.511Z"
   },
   {
    "duration": 187,
    "start_time": "2023-05-03T08:48:34.867Z"
   },
   {
    "duration": 168,
    "start_time": "2023-05-03T08:48:41.001Z"
   },
   {
    "duration": 10,
    "start_time": "2023-05-03T08:54:24.811Z"
   },
   {
    "duration": 197,
    "start_time": "2023-05-03T09:06:39.854Z"
   },
   {
    "duration": 760,
    "start_time": "2023-05-03T09:06:55.600Z"
   },
   {
    "duration": 2,
    "start_time": "2023-05-03T09:07:09.971Z"
   },
   {
    "duration": 67,
    "start_time": "2023-05-03T09:07:09.975Z"
   },
   {
    "duration": 9,
    "start_time": "2023-05-03T09:07:10.044Z"
   },
   {
    "duration": 15,
    "start_time": "2023-05-03T09:07:10.054Z"
   },
   {
    "duration": 24,
    "start_time": "2023-05-03T09:07:10.072Z"
   },
   {
    "duration": 25,
    "start_time": "2023-05-03T09:07:10.098Z"
   },
   {
    "duration": 14,
    "start_time": "2023-05-03T09:07:10.125Z"
   },
   {
    "duration": 35,
    "start_time": "2023-05-03T09:07:10.141Z"
   },
   {
    "duration": 14,
    "start_time": "2023-05-03T09:07:10.178Z"
   },
   {
    "duration": 20,
    "start_time": "2023-05-03T09:07:10.193Z"
   },
   {
    "duration": 16,
    "start_time": "2023-05-03T09:07:10.215Z"
   },
   {
    "duration": 175,
    "start_time": "2023-05-03T09:07:10.233Z"
   },
   {
    "duration": 115,
    "start_time": "2023-05-03T09:07:10.410Z"
   },
   {
    "duration": 236,
    "start_time": "2023-05-03T09:07:10.527Z"
   },
   {
    "duration": 5,
    "start_time": "2023-05-03T09:07:10.764Z"
   },
   {
    "duration": 769,
    "start_time": "2023-05-03T09:07:16.962Z"
   },
   {
    "duration": 186,
    "start_time": "2023-05-03T09:07:24.154Z"
   },
   {
    "duration": 6,
    "start_time": "2023-05-03T09:07:26.663Z"
   },
   {
    "duration": 264,
    "start_time": "2023-05-03T09:07:30.324Z"
   },
   {
    "duration": 5,
    "start_time": "2023-05-03T09:07:44.226Z"
   },
   {
    "duration": 58,
    "start_time": "2023-05-03T09:08:37.969Z"
   },
   {
    "duration": 10,
    "start_time": "2023-05-03T09:13:20.206Z"
   },
   {
    "duration": 21,
    "start_time": "2023-05-03T09:13:31.425Z"
   },
   {
    "duration": 19,
    "start_time": "2023-05-03T09:15:37.599Z"
   },
   {
    "duration": 21,
    "start_time": "2023-05-03T09:19:29.935Z"
   },
   {
    "duration": 25,
    "start_time": "2023-05-03T09:20:37.315Z"
   },
   {
    "duration": 6,
    "start_time": "2023-05-03T09:21:33.756Z"
   },
   {
    "duration": 6,
    "start_time": "2023-05-03T09:21:35.660Z"
   },
   {
    "duration": 970,
    "start_time": "2023-05-03T09:24:15.264Z"
   },
   {
    "duration": 977,
    "start_time": "2023-05-03T09:24:36.627Z"
   },
   {
    "duration": 144,
    "start_time": "2023-05-03T09:24:51.906Z"
   },
   {
    "duration": 127,
    "start_time": "2023-05-03T09:25:41.350Z"
   },
   {
    "duration": 129,
    "start_time": "2023-05-03T09:25:49.780Z"
   },
   {
    "duration": 141,
    "start_time": "2023-05-03T09:26:05.079Z"
   },
   {
    "duration": 1478,
    "start_time": "2023-05-03T11:11:05.253Z"
   },
   {
    "duration": 111,
    "start_time": "2023-05-03T11:11:52.932Z"
   },
   {
    "duration": 3,
    "start_time": "2023-05-03T11:11:59.107Z"
   },
   {
    "duration": 333,
    "start_time": "2023-05-03T11:11:59.112Z"
   },
   {
    "duration": 15,
    "start_time": "2023-05-03T11:11:59.448Z"
   },
   {
    "duration": 19,
    "start_time": "2023-05-03T11:11:59.465Z"
   },
   {
    "duration": 14,
    "start_time": "2023-05-03T11:11:59.486Z"
   },
   {
    "duration": 15,
    "start_time": "2023-05-03T11:11:59.502Z"
   },
   {
    "duration": 25,
    "start_time": "2023-05-03T11:11:59.519Z"
   },
   {
    "duration": 16,
    "start_time": "2023-05-03T11:11:59.546Z"
   },
   {
    "duration": 18,
    "start_time": "2023-05-03T11:11:59.565Z"
   },
   {
    "duration": 19,
    "start_time": "2023-05-03T11:11:59.586Z"
   },
   {
    "duration": 35,
    "start_time": "2023-05-03T11:11:59.607Z"
   },
   {
    "duration": 199,
    "start_time": "2023-05-03T11:11:59.644Z"
   },
   {
    "duration": 114,
    "start_time": "2023-05-03T11:11:59.845Z"
   },
   {
    "duration": 282,
    "start_time": "2023-05-03T11:11:59.961Z"
   },
   {
    "duration": 4,
    "start_time": "2023-05-03T11:12:00.245Z"
   },
   {
    "duration": 229,
    "start_time": "2023-05-03T11:12:00.251Z"
   },
   {
    "duration": 6,
    "start_time": "2023-05-03T11:12:00.482Z"
   },
   {
    "duration": 241,
    "start_time": "2023-05-03T11:12:00.490Z"
   },
   {
    "duration": 12,
    "start_time": "2023-05-03T11:12:00.733Z"
   },
   {
    "duration": 47,
    "start_time": "2023-05-03T11:12:00.747Z"
   },
   {
    "duration": 59,
    "start_time": "2023-05-03T11:12:00.796Z"
   },
   {
    "duration": 30,
    "start_time": "2023-05-03T11:12:00.857Z"
   },
   {
    "duration": 41,
    "start_time": "2023-05-03T11:12:00.889Z"
   },
   {
    "duration": 23,
    "start_time": "2023-05-03T11:12:06.197Z"
   },
   {
    "duration": 716,
    "start_time": "2023-05-03T11:12:20.210Z"
   },
   {
    "duration": 677,
    "start_time": "2023-05-03T11:12:44.489Z"
   },
   {
    "duration": 732,
    "start_time": "2023-05-03T11:14:35.029Z"
   },
   {
    "duration": 632,
    "start_time": "2023-05-03T11:19:14.627Z"
   },
   {
    "duration": 620,
    "start_time": "2023-05-03T11:19:25.409Z"
   },
   {
    "duration": 665,
    "start_time": "2023-05-03T11:19:50.296Z"
   },
   {
    "duration": 209,
    "start_time": "2023-05-03T11:20:44.514Z"
   },
   {
    "duration": 180,
    "start_time": "2023-05-03T11:20:49.611Z"
   },
   {
    "duration": 172,
    "start_time": "2023-05-03T11:21:28.887Z"
   },
   {
    "duration": 253,
    "start_time": "2023-05-03T11:21:46.284Z"
   },
   {
    "duration": 24,
    "start_time": "2023-05-03T11:22:34.011Z"
   },
   {
    "duration": 3,
    "start_time": "2023-05-03T11:23:04.114Z"
   },
   {
    "duration": 100,
    "start_time": "2023-05-03T11:23:04.119Z"
   },
   {
    "duration": 9,
    "start_time": "2023-05-03T11:23:04.221Z"
   },
   {
    "duration": 14,
    "start_time": "2023-05-03T11:23:04.232Z"
   },
   {
    "duration": 27,
    "start_time": "2023-05-03T11:23:04.251Z"
   },
   {
    "duration": 14,
    "start_time": "2023-05-03T11:23:04.279Z"
   },
   {
    "duration": 20,
    "start_time": "2023-05-03T11:23:04.295Z"
   },
   {
    "duration": 16,
    "start_time": "2023-05-03T11:23:04.317Z"
   },
   {
    "duration": 17,
    "start_time": "2023-05-03T11:23:04.342Z"
   },
   {
    "duration": 74,
    "start_time": "2023-05-03T11:23:04.361Z"
   },
   {
    "duration": 133,
    "start_time": "2023-05-03T11:23:04.437Z"
   },
   {
    "duration": 233,
    "start_time": "2023-05-03T11:23:04.572Z"
   },
   {
    "duration": 116,
    "start_time": "2023-05-03T11:23:04.807Z"
   },
   {
    "duration": 293,
    "start_time": "2023-05-03T11:23:04.926Z"
   },
   {
    "duration": 5,
    "start_time": "2023-05-03T11:23:05.221Z"
   },
   {
    "duration": 336,
    "start_time": "2023-05-03T11:23:05.229Z"
   },
   {
    "duration": 6,
    "start_time": "2023-05-03T11:23:05.566Z"
   },
   {
    "duration": 345,
    "start_time": "2023-05-03T11:23:05.573Z"
   },
   {
    "duration": 7,
    "start_time": "2023-05-03T11:23:05.919Z"
   },
   {
    "duration": 102,
    "start_time": "2023-05-03T11:23:05.928Z"
   },
   {
    "duration": 47,
    "start_time": "2023-05-03T11:23:06.031Z"
   },
   {
    "duration": 11,
    "start_time": "2023-05-03T11:23:06.080Z"
   },
   {
    "duration": 56,
    "start_time": "2023-05-03T11:23:06.093Z"
   },
   {
    "duration": 212,
    "start_time": "2023-05-03T11:23:06.151Z"
   },
   {
    "duration": 26,
    "start_time": "2023-05-03T11:23:23.189Z"
   },
   {
    "duration": 272,
    "start_time": "2023-05-03T11:25:17.903Z"
   },
   {
    "duration": 181,
    "start_time": "2023-05-03T11:27:27.050Z"
   },
   {
    "duration": 164,
    "start_time": "2023-05-03T11:27:32.920Z"
   },
   {
    "duration": 168,
    "start_time": "2023-05-03T11:27:47.383Z"
   },
   {
    "duration": 210,
    "start_time": "2023-05-03T11:27:59.188Z"
   },
   {
    "duration": 98,
    "start_time": "2023-05-03T11:28:37.291Z"
   },
   {
    "duration": 202,
    "start_time": "2023-05-03T11:28:48.715Z"
   },
   {
    "duration": 228,
    "start_time": "2023-05-03T11:33:28.924Z"
   },
   {
    "duration": 219,
    "start_time": "2023-05-03T11:33:33.189Z"
   },
   {
    "duration": 295,
    "start_time": "2023-05-03T11:33:46.526Z"
   },
   {
    "duration": 204,
    "start_time": "2023-05-03T11:34:57.546Z"
   },
   {
    "duration": 373,
    "start_time": "2023-05-03T11:35:00.118Z"
   },
   {
    "duration": 76,
    "start_time": "2023-05-03T11:35:38.728Z"
   },
   {
    "duration": 257,
    "start_time": "2023-05-03T11:35:50.923Z"
   },
   {
    "duration": 238,
    "start_time": "2023-05-03T11:35:57.180Z"
   },
   {
    "duration": 265,
    "start_time": "2023-05-03T11:36:03.619Z"
   },
   {
    "duration": 234,
    "start_time": "2023-05-03T11:36:26.058Z"
   },
   {
    "duration": 253,
    "start_time": "2023-05-03T11:36:32.569Z"
   },
   {
    "duration": 262,
    "start_time": "2023-05-03T11:36:38.154Z"
   },
   {
    "duration": 56,
    "start_time": "2023-05-03T11:51:14.215Z"
   },
   {
    "duration": 93,
    "start_time": "2023-05-03T11:51:31.831Z"
   },
   {
    "duration": 59,
    "start_time": "2023-05-03T11:52:09.710Z"
   },
   {
    "duration": 59,
    "start_time": "2023-05-03T11:52:12.378Z"
   },
   {
    "duration": 14,
    "start_time": "2023-05-03T11:53:42.917Z"
   },
   {
    "duration": 67,
    "start_time": "2023-05-03T11:53:59.618Z"
   },
   {
    "duration": 64,
    "start_time": "2023-05-03T11:54:21.904Z"
   },
   {
    "duration": 72,
    "start_time": "2023-05-03T11:55:42.026Z"
   },
   {
    "duration": 2002,
    "start_time": "2023-05-03T11:57:58.415Z"
   },
   {
    "duration": 23,
    "start_time": "2023-05-03T11:58:21.591Z"
   },
   {
    "duration": 55,
    "start_time": "2023-05-03T11:58:30.311Z"
   },
   {
    "duration": 68,
    "start_time": "2023-05-03T12:12:52.812Z"
   },
   {
    "duration": 17,
    "start_time": "2023-05-03T12:20:57.357Z"
   },
   {
    "duration": 12,
    "start_time": "2023-05-03T12:21:52.207Z"
   },
   {
    "duration": 13,
    "start_time": "2023-05-03T12:22:19.906Z"
   },
   {
    "duration": 3,
    "start_time": "2023-05-03T12:22:31.947Z"
   },
   {
    "duration": 5,
    "start_time": "2023-05-03T12:22:41.928Z"
   },
   {
    "duration": 15,
    "start_time": "2023-05-03T12:23:04.052Z"
   },
   {
    "duration": 6,
    "start_time": "2023-05-03T12:23:19.372Z"
   },
   {
    "duration": 5,
    "start_time": "2023-05-03T12:23:29.219Z"
   },
   {
    "duration": 14,
    "start_time": "2023-05-03T12:24:27.818Z"
   },
   {
    "duration": 16,
    "start_time": "2023-05-03T12:25:16.312Z"
   },
   {
    "duration": 24,
    "start_time": "2023-05-03T12:25:23.731Z"
   },
   {
    "duration": 23,
    "start_time": "2023-05-03T12:26:12.002Z"
   },
   {
    "duration": 37,
    "start_time": "2023-05-03T12:28:04.855Z"
   },
   {
    "duration": 14,
    "start_time": "2023-05-03T12:57:29.182Z"
   },
   {
    "duration": 7,
    "start_time": "2023-05-03T12:59:19.110Z"
   },
   {
    "duration": 11,
    "start_time": "2023-05-03T12:59:28.727Z"
   },
   {
    "duration": 20,
    "start_time": "2023-05-03T12:59:33.001Z"
   },
   {
    "duration": 15,
    "start_time": "2023-05-03T12:59:58.527Z"
   },
   {
    "duration": 17,
    "start_time": "2023-05-03T13:06:41.567Z"
   },
   {
    "duration": 23,
    "start_time": "2023-05-03T13:06:46.523Z"
   },
   {
    "duration": 24,
    "start_time": "2023-05-03T13:06:54.201Z"
   },
   {
    "duration": 3111,
    "start_time": "2023-05-03T13:08:34.618Z"
   },
   {
    "duration": 137,
    "start_time": "2023-05-03T13:09:26.997Z"
   },
   {
    "duration": 4,
    "start_time": "2023-05-03T13:09:56.426Z"
   },
   {
    "duration": 3,
    "start_time": "2023-05-03T13:10:00.989Z"
   },
   {
    "duration": 9,
    "start_time": "2023-05-03T13:10:12.009Z"
   },
   {
    "duration": 14,
    "start_time": "2023-05-03T13:11:00.006Z"
   },
   {
    "duration": 1938,
    "start_time": "2023-05-03T13:11:07.000Z"
   },
   {
    "duration": 9,
    "start_time": "2023-05-03T13:12:03.502Z"
   },
   {
    "duration": 13,
    "start_time": "2023-05-03T13:12:11.562Z"
   },
   {
    "duration": 22,
    "start_time": "2023-05-03T13:12:39.878Z"
   },
   {
    "duration": 57,
    "start_time": "2023-05-03T13:12:57.003Z"
   },
   {
    "duration": 4,
    "start_time": "2023-05-03T13:14:07.830Z"
   },
   {
    "duration": 90,
    "start_time": "2023-05-03T13:14:07.837Z"
   },
   {
    "duration": 11,
    "start_time": "2023-05-03T13:14:07.929Z"
   },
   {
    "duration": 46,
    "start_time": "2023-05-03T13:14:07.942Z"
   },
   {
    "duration": 28,
    "start_time": "2023-05-03T13:14:07.992Z"
   },
   {
    "duration": 11,
    "start_time": "2023-05-03T13:14:08.022Z"
   },
   {
    "duration": 37,
    "start_time": "2023-05-03T13:14:08.035Z"
   },
   {
    "duration": 22,
    "start_time": "2023-05-03T13:14:08.074Z"
   },
   {
    "duration": 10,
    "start_time": "2023-05-03T13:14:08.097Z"
   },
   {
    "duration": 21,
    "start_time": "2023-05-03T13:14:08.109Z"
   },
   {
    "duration": 30,
    "start_time": "2023-05-03T13:14:08.131Z"
   },
   {
    "duration": 200,
    "start_time": "2023-05-03T13:14:08.164Z"
   },
   {
    "duration": 123,
    "start_time": "2023-05-03T13:14:08.366Z"
   },
   {
    "duration": 299,
    "start_time": "2023-05-03T13:14:08.494Z"
   },
   {
    "duration": 6,
    "start_time": "2023-05-03T13:14:08.795Z"
   },
   {
    "duration": 345,
    "start_time": "2023-05-03T13:14:08.803Z"
   },
   {
    "duration": 11,
    "start_time": "2023-05-03T13:14:09.149Z"
   },
   {
    "duration": 227,
    "start_time": "2023-05-03T13:14:09.162Z"
   },
   {
    "duration": 6,
    "start_time": "2023-05-03T13:14:09.391Z"
   },
   {
    "duration": 34,
    "start_time": "2023-05-03T13:14:09.398Z"
   },
   {
    "duration": 26,
    "start_time": "2023-05-03T13:14:09.441Z"
   },
   {
    "duration": 17,
    "start_time": "2023-05-03T13:14:09.470Z"
   },
   {
    "duration": 23,
    "start_time": "2023-05-03T13:14:09.489Z"
   },
   {
    "duration": 253,
    "start_time": "2023-05-03T13:14:09.514Z"
   },
   {
    "duration": 289,
    "start_time": "2023-05-03T13:14:09.769Z"
   },
   {
    "duration": 238,
    "start_time": "2023-05-03T13:14:10.060Z"
   },
   {
    "duration": 279,
    "start_time": "2023-05-03T13:14:10.300Z"
   },
   {
    "duration": 46,
    "start_time": "2023-05-03T13:14:10.581Z"
   },
   {
    "duration": 38,
    "start_time": "2023-05-03T13:14:23.192Z"
   },
   {
    "duration": 42,
    "start_time": "2023-05-03T13:14:26.785Z"
   },
   {
    "duration": 52,
    "start_time": "2023-05-03T13:15:14.135Z"
   },
   {
    "duration": 46,
    "start_time": "2023-05-03T13:20:45.599Z"
   },
   {
    "duration": 47,
    "start_time": "2023-05-03T13:20:49.414Z"
   },
   {
    "duration": 7,
    "start_time": "2023-05-03T13:23:21.576Z"
   },
   {
    "duration": 14,
    "start_time": "2023-05-03T13:23:29.783Z"
   },
   {
    "duration": 4,
    "start_time": "2023-05-03T13:23:41.510Z"
   },
   {
    "duration": 96,
    "start_time": "2023-05-03T13:23:41.516Z"
   },
   {
    "duration": 11,
    "start_time": "2023-05-03T13:23:41.615Z"
   },
   {
    "duration": 33,
    "start_time": "2023-05-03T13:23:41.628Z"
   },
   {
    "duration": 17,
    "start_time": "2023-05-03T13:23:41.664Z"
   },
   {
    "duration": 19,
    "start_time": "2023-05-03T13:23:41.683Z"
   },
   {
    "duration": 26,
    "start_time": "2023-05-03T13:23:41.705Z"
   },
   {
    "duration": 25,
    "start_time": "2023-05-03T13:23:41.733Z"
   },
   {
    "duration": 34,
    "start_time": "2023-05-03T13:23:41.760Z"
   },
   {
    "duration": 25,
    "start_time": "2023-05-03T13:23:41.797Z"
   },
   {
    "duration": 16,
    "start_time": "2023-05-03T13:23:41.824Z"
   },
   {
    "duration": 218,
    "start_time": "2023-05-03T13:23:41.844Z"
   },
   {
    "duration": 119,
    "start_time": "2023-05-03T13:23:42.064Z"
   },
   {
    "duration": 288,
    "start_time": "2023-05-03T13:23:42.186Z"
   },
   {
    "duration": 6,
    "start_time": "2023-05-03T13:23:42.476Z"
   },
   {
    "duration": 235,
    "start_time": "2023-05-03T13:23:42.484Z"
   },
   {
    "duration": 6,
    "start_time": "2023-05-03T13:23:42.722Z"
   },
   {
    "duration": 366,
    "start_time": "2023-05-03T13:23:42.743Z"
   },
   {
    "duration": 8,
    "start_time": "2023-05-03T13:23:43.111Z"
   },
   {
    "duration": 40,
    "start_time": "2023-05-03T13:23:43.121Z"
   },
   {
    "duration": 24,
    "start_time": "2023-05-03T13:23:43.163Z"
   },
   {
    "duration": 8,
    "start_time": "2023-05-03T13:23:43.189Z"
   },
   {
    "duration": 22,
    "start_time": "2023-05-03T13:23:43.200Z"
   },
   {
    "duration": 273,
    "start_time": "2023-05-03T13:23:43.224Z"
   },
   {
    "duration": 249,
    "start_time": "2023-05-03T13:23:43.499Z"
   },
   {
    "duration": 242,
    "start_time": "2023-05-03T13:23:43.750Z"
   },
   {
    "duration": 277,
    "start_time": "2023-05-03T13:23:43.995Z"
   },
   {
    "duration": 34,
    "start_time": "2023-05-03T13:23:44.274Z"
   },
   {
    "duration": 16,
    "start_time": "2023-05-03T13:23:52.884Z"
   },
   {
    "duration": 43,
    "start_time": "2023-05-03T13:26:04.332Z"
   },
   {
    "duration": 3,
    "start_time": "2023-05-03T13:26:09.573Z"
   },
   {
    "duration": 96,
    "start_time": "2023-05-03T13:26:09.579Z"
   },
   {
    "duration": 16,
    "start_time": "2023-05-03T13:26:09.678Z"
   },
   {
    "duration": 30,
    "start_time": "2023-05-03T13:26:09.696Z"
   },
   {
    "duration": 44,
    "start_time": "2023-05-03T13:26:09.732Z"
   },
   {
    "duration": 21,
    "start_time": "2023-05-03T13:26:09.778Z"
   },
   {
    "duration": 29,
    "start_time": "2023-05-03T13:26:09.802Z"
   },
   {
    "duration": 52,
    "start_time": "2023-05-03T13:26:09.833Z"
   },
   {
    "duration": 30,
    "start_time": "2023-05-03T13:26:09.887Z"
   },
   {
    "duration": 55,
    "start_time": "2023-05-03T13:26:09.920Z"
   },
   {
    "duration": 39,
    "start_time": "2023-05-03T13:26:09.977Z"
   },
   {
    "duration": 297,
    "start_time": "2023-05-03T13:26:10.020Z"
   },
   {
    "duration": 143,
    "start_time": "2023-05-03T13:26:10.320Z"
   },
   {
    "duration": 433,
    "start_time": "2023-05-03T13:26:10.469Z"
   },
   {
    "duration": 7,
    "start_time": "2023-05-03T13:26:10.907Z"
   },
   {
    "duration": 353,
    "start_time": "2023-05-03T13:26:10.916Z"
   },
   {
    "duration": 15,
    "start_time": "2023-05-03T13:26:11.271Z"
   },
   {
    "duration": 302,
    "start_time": "2023-05-03T13:26:11.291Z"
   },
   {
    "duration": 10,
    "start_time": "2023-05-03T13:26:11.596Z"
   },
   {
    "duration": 59,
    "start_time": "2023-05-03T13:26:11.609Z"
   },
   {
    "duration": 32,
    "start_time": "2023-05-03T13:26:11.675Z"
   },
   {
    "duration": 11,
    "start_time": "2023-05-03T13:26:11.711Z"
   },
   {
    "duration": 31,
    "start_time": "2023-05-03T13:26:11.725Z"
   },
   {
    "duration": 531,
    "start_time": "2023-05-03T13:26:11.758Z"
   },
   {
    "duration": 309,
    "start_time": "2023-05-03T13:26:12.292Z"
   },
   {
    "duration": 330,
    "start_time": "2023-05-03T13:26:12.603Z"
   },
   {
    "duration": 398,
    "start_time": "2023-05-03T13:26:12.940Z"
   },
   {
    "duration": 62,
    "start_time": "2023-05-03T13:26:17.117Z"
   },
   {
    "duration": 64,
    "start_time": "2023-05-03T13:27:06.418Z"
   },
   {
    "duration": 39,
    "start_time": "2023-05-03T13:28:29.281Z"
   },
   {
    "duration": 28,
    "start_time": "2023-05-03T13:28:45.942Z"
   },
   {
    "duration": 51,
    "start_time": "2023-05-03T13:28:48.435Z"
   },
   {
    "duration": 104,
    "start_time": "2023-05-03T13:29:15.706Z"
   },
   {
    "duration": 36,
    "start_time": "2023-05-03T13:29:21.248Z"
   },
   {
    "duration": 437,
    "start_time": "2023-05-03T13:32:16.630Z"
   },
   {
    "duration": 33,
    "start_time": "2023-05-03T13:32:32.394Z"
   },
   {
    "duration": 41,
    "start_time": "2023-05-03T13:32:45.094Z"
   },
   {
    "duration": 243,
    "start_time": "2023-05-03T13:42:08.234Z"
   },
   {
    "duration": 2753,
    "start_time": "2023-05-03T13:42:20.220Z"
   },
   {
    "duration": 32,
    "start_time": "2023-05-03T13:42:27.904Z"
   },
   {
    "duration": 50,
    "start_time": "2023-05-03T13:42:36.854Z"
   },
   {
    "duration": 34,
    "start_time": "2023-05-03T13:45:28.902Z"
   },
   {
    "duration": 50,
    "start_time": "2023-05-03T13:45:53.241Z"
   },
   {
    "duration": 1629,
    "start_time": "2023-05-03T13:46:45.268Z"
   },
   {
    "duration": 40,
    "start_time": "2023-05-03T13:47:05.314Z"
   },
   {
    "duration": 2117,
    "start_time": "2023-05-03T13:47:30.338Z"
   },
   {
    "duration": 1905,
    "start_time": "2023-05-03T13:47:34.944Z"
   },
   {
    "duration": 8,
    "start_time": "2023-05-03T13:48:54.237Z"
   },
   {
    "duration": 29,
    "start_time": "2023-05-03T13:49:04.301Z"
   },
   {
    "duration": 28,
    "start_time": "2023-05-03T13:51:54.670Z"
   },
   {
    "duration": 138,
    "start_time": "2023-05-03T13:52:57.315Z"
   },
   {
    "duration": 17,
    "start_time": "2023-05-03T13:53:10.332Z"
   },
   {
    "duration": 112,
    "start_time": "2023-05-03T13:53:14.256Z"
   },
   {
    "duration": 16,
    "start_time": "2023-05-03T13:54:45.017Z"
   },
   {
    "duration": 16,
    "start_time": "2023-05-03T13:54:58.237Z"
   },
   {
    "duration": 15,
    "start_time": "2023-05-03T13:55:01.747Z"
   },
   {
    "duration": 118,
    "start_time": "2023-05-03T13:55:28.195Z"
   },
   {
    "duration": 98,
    "start_time": "2023-05-03T13:56:20.220Z"
   },
   {
    "duration": 13,
    "start_time": "2023-05-03T13:56:46.644Z"
   },
   {
    "duration": 159,
    "start_time": "2023-05-03T13:57:01.346Z"
   },
   {
    "duration": 10,
    "start_time": "2023-05-03T13:57:03.876Z"
   },
   {
    "duration": 99,
    "start_time": "2023-05-03T13:59:14.443Z"
   },
   {
    "duration": 93,
    "start_time": "2023-05-03T14:00:38.723Z"
   },
   {
    "duration": 90,
    "start_time": "2023-05-03T14:01:00.548Z"
   },
   {
    "duration": 90,
    "start_time": "2023-05-03T14:01:15.133Z"
   },
   {
    "duration": 14,
    "start_time": "2023-05-03T14:06:10.618Z"
   },
   {
    "duration": 135,
    "start_time": "2023-05-03T14:10:29.406Z"
   },
   {
    "duration": 15,
    "start_time": "2023-05-03T14:10:43.835Z"
   },
   {
    "duration": 30,
    "start_time": "2023-05-03T14:11:11.733Z"
   },
   {
    "duration": 103,
    "start_time": "2023-05-03T14:13:04.238Z"
   },
   {
    "duration": 109,
    "start_time": "2023-05-03T14:13:26.122Z"
   },
   {
    "duration": 97,
    "start_time": "2023-05-03T14:13:29.479Z"
   },
   {
    "duration": 19,
    "start_time": "2023-05-03T14:21:42.938Z"
   },
   {
    "duration": 20,
    "start_time": "2023-05-03T14:22:16.971Z"
   },
   {
    "duration": 14,
    "start_time": "2023-05-03T14:57:37.317Z"
   },
   {
    "duration": 9,
    "start_time": "2023-05-03T14:57:46.613Z"
   },
   {
    "duration": 17,
    "start_time": "2023-05-03T14:57:49.514Z"
   },
   {
    "duration": 6,
    "start_time": "2023-05-03T14:58:04.218Z"
   },
   {
    "duration": 37,
    "start_time": "2023-05-03T15:02:58.479Z"
   },
   {
    "duration": 36,
    "start_time": "2023-05-03T15:04:11.828Z"
   },
   {
    "duration": 41,
    "start_time": "2023-05-03T15:04:16.633Z"
   },
   {
    "duration": 126,
    "start_time": "2023-05-03T15:04:29.903Z"
   },
   {
    "duration": 35,
    "start_time": "2023-05-03T15:04:39.046Z"
   },
   {
    "duration": 26,
    "start_time": "2023-05-03T15:06:11.882Z"
   },
   {
    "duration": 7,
    "start_time": "2023-05-03T15:06:27.953Z"
   },
   {
    "duration": 7,
    "start_time": "2023-05-03T15:06:30.314Z"
   },
   {
    "duration": 23,
    "start_time": "2023-05-03T15:06:39.199Z"
   },
   {
    "duration": 22,
    "start_time": "2023-05-03T15:07:00.633Z"
   },
   {
    "duration": 20,
    "start_time": "2023-05-03T15:07:10.011Z"
   },
   {
    "duration": 22,
    "start_time": "2023-05-03T15:07:18.607Z"
   },
   {
    "duration": 28,
    "start_time": "2023-05-03T15:11:00.267Z"
   },
   {
    "duration": 26,
    "start_time": "2023-05-03T15:11:35.109Z"
   },
   {
    "duration": 21,
    "start_time": "2023-05-03T15:12:30.627Z"
   },
   {
    "duration": 28,
    "start_time": "2023-05-03T15:13:11.996Z"
   },
   {
    "duration": 47,
    "start_time": "2023-05-03T15:13:19.756Z"
   },
   {
    "duration": 34,
    "start_time": "2023-05-03T15:13:56.965Z"
   },
   {
    "duration": 6,
    "start_time": "2023-05-03T15:14:27.263Z"
   },
   {
    "duration": 5,
    "start_time": "2023-05-03T15:14:29.267Z"
   },
   {
    "duration": 23,
    "start_time": "2023-05-03T15:14:32.098Z"
   },
   {
    "duration": 45,
    "start_time": "2023-05-03T15:15:47.754Z"
   },
   {
    "duration": 21,
    "start_time": "2023-05-03T16:32:44.091Z"
   },
   {
    "duration": 6,
    "start_time": "2023-05-03T16:33:05.287Z"
   },
   {
    "duration": 5,
    "start_time": "2023-05-03T16:33:13.709Z"
   },
   {
    "duration": 107,
    "start_time": "2023-05-03T16:33:55.706Z"
   },
   {
    "duration": 3,
    "start_time": "2023-05-03T16:35:55.816Z"
   },
   {
    "duration": 4,
    "start_time": "2023-05-03T16:38:03.515Z"
   },
   {
    "duration": 5,
    "start_time": "2023-05-03T16:38:13.750Z"
   },
   {
    "duration": 13,
    "start_time": "2023-05-03T16:40:39.138Z"
   },
   {
    "duration": 3,
    "start_time": "2023-05-03T16:41:48.056Z"
   },
   {
    "duration": 94,
    "start_time": "2023-05-03T16:41:48.062Z"
   },
   {
    "duration": 10,
    "start_time": "2023-05-03T16:41:48.158Z"
   },
   {
    "duration": 25,
    "start_time": "2023-05-03T16:41:48.170Z"
   },
   {
    "duration": 26,
    "start_time": "2023-05-03T16:41:48.197Z"
   },
   {
    "duration": 29,
    "start_time": "2023-05-03T16:41:48.225Z"
   },
   {
    "duration": 31,
    "start_time": "2023-05-03T16:41:48.257Z"
   },
   {
    "duration": 16,
    "start_time": "2023-05-03T16:41:48.290Z"
   },
   {
    "duration": 57,
    "start_time": "2023-05-03T16:41:48.308Z"
   },
   {
    "duration": 17,
    "start_time": "2023-05-03T16:41:48.367Z"
   },
   {
    "duration": 14,
    "start_time": "2023-05-03T16:41:48.387Z"
   },
   {
    "duration": 208,
    "start_time": "2023-05-03T16:41:48.403Z"
   },
   {
    "duration": 117,
    "start_time": "2023-05-03T16:41:48.614Z"
   },
   {
    "duration": 297,
    "start_time": "2023-05-03T16:41:48.732Z"
   },
   {
    "duration": 5,
    "start_time": "2023-05-03T16:41:49.031Z"
   },
   {
    "duration": 223,
    "start_time": "2023-05-03T16:41:49.042Z"
   },
   {
    "duration": 6,
    "start_time": "2023-05-03T16:41:49.267Z"
   },
   {
    "duration": 225,
    "start_time": "2023-05-03T16:41:49.274Z"
   },
   {
    "duration": 5,
    "start_time": "2023-05-03T16:41:49.501Z"
   },
   {
    "duration": 25,
    "start_time": "2023-05-03T16:41:49.508Z"
   },
   {
    "duration": 28,
    "start_time": "2023-05-03T16:41:49.542Z"
   },
   {
    "duration": 6,
    "start_time": "2023-05-03T16:41:49.572Z"
   },
   {
    "duration": 29,
    "start_time": "2023-05-03T16:41:49.580Z"
   },
   {
    "duration": 389,
    "start_time": "2023-05-03T16:41:49.611Z"
   },
   {
    "duration": 254,
    "start_time": "2023-05-03T16:41:50.002Z"
   },
   {
    "duration": 232,
    "start_time": "2023-05-03T16:41:50.258Z"
   },
   {
    "duration": 280,
    "start_time": "2023-05-03T16:41:50.492Z"
   },
   {
    "duration": 35,
    "start_time": "2023-05-03T16:41:50.775Z"
   },
   {
    "duration": 55,
    "start_time": "2023-05-03T16:41:50.813Z"
   },
   {
    "duration": 5,
    "start_time": "2023-05-03T16:41:50.870Z"
   },
   {
    "duration": 28,
    "start_time": "2023-05-03T16:41:50.877Z"
   },
   {
    "duration": 28,
    "start_time": "2023-05-03T16:41:50.907Z"
   },
   {
    "duration": 3,
    "start_time": "2023-05-03T16:41:50.937Z"
   },
   {
    "duration": 11,
    "start_time": "2023-05-03T16:41:57.224Z"
   },
   {
    "duration": 6,
    "start_time": "2023-05-03T16:42:43.782Z"
   },
   {
    "duration": 4,
    "start_time": "2023-05-03T16:55:02.783Z"
   },
   {
    "duration": 29,
    "start_time": "2023-05-03T16:55:05.963Z"
   },
   {
    "duration": 13,
    "start_time": "2023-05-03T16:55:57.624Z"
   },
   {
    "duration": 14,
    "start_time": "2023-05-03T16:56:27.454Z"
   },
   {
    "duration": 15,
    "start_time": "2023-05-03T16:57:09.169Z"
   },
   {
    "duration": 25,
    "start_time": "2023-05-03T16:58:36.814Z"
   },
   {
    "duration": 18,
    "start_time": "2023-05-03T16:58:49.901Z"
   },
   {
    "duration": 82,
    "start_time": "2023-05-03T16:59:04.086Z"
   },
   {
    "duration": 25,
    "start_time": "2023-05-03T16:59:10.835Z"
   },
   {
    "duration": 17,
    "start_time": "2023-05-03T16:59:22.356Z"
   },
   {
    "duration": 22,
    "start_time": "2023-05-03T16:59:42.046Z"
   },
   {
    "duration": 33,
    "start_time": "2023-05-03T16:59:50.110Z"
   },
   {
    "duration": 36,
    "start_time": "2023-05-03T17:00:42.408Z"
   },
   {
    "duration": 19,
    "start_time": "2023-05-03T17:01:05.225Z"
   },
   {
    "duration": 4,
    "start_time": "2023-05-03T17:06:59.312Z"
   },
   {
    "duration": 21,
    "start_time": "2023-05-03T17:07:02.763Z"
   },
   {
    "duration": 14,
    "start_time": "2023-05-03T17:07:45.358Z"
   },
   {
    "duration": 19,
    "start_time": "2023-05-03T17:11:18.338Z"
   },
   {
    "duration": 9,
    "start_time": "2023-05-03T17:11:46.361Z"
   },
   {
    "duration": 9,
    "start_time": "2023-05-03T17:11:58.422Z"
   },
   {
    "duration": 13,
    "start_time": "2023-05-03T17:14:00.777Z"
   },
   {
    "duration": 5,
    "start_time": "2023-05-03T17:15:22.549Z"
   },
   {
    "duration": 5,
    "start_time": "2023-05-03T17:25:31.566Z"
   },
   {
    "duration": 6,
    "start_time": "2023-05-03T17:25:45.016Z"
   },
   {
    "duration": 3,
    "start_time": "2023-05-03T17:25:54.608Z"
   },
   {
    "duration": 67,
    "start_time": "2023-05-03T17:25:54.614Z"
   },
   {
    "duration": 10,
    "start_time": "2023-05-03T17:25:54.683Z"
   },
   {
    "duration": 16,
    "start_time": "2023-05-03T17:25:54.695Z"
   },
   {
    "duration": 20,
    "start_time": "2023-05-03T17:25:54.714Z"
   },
   {
    "duration": 16,
    "start_time": "2023-05-03T17:25:54.735Z"
   },
   {
    "duration": 22,
    "start_time": "2023-05-03T17:25:54.753Z"
   },
   {
    "duration": 17,
    "start_time": "2023-05-03T17:25:54.776Z"
   },
   {
    "duration": 18,
    "start_time": "2023-05-03T17:25:54.795Z"
   },
   {
    "duration": 26,
    "start_time": "2023-05-03T17:25:54.815Z"
   },
   {
    "duration": 14,
    "start_time": "2023-05-03T17:25:54.844Z"
   },
   {
    "duration": 185,
    "start_time": "2023-05-03T17:25:54.859Z"
   },
   {
    "duration": 111,
    "start_time": "2023-05-03T17:25:55.046Z"
   },
   {
    "duration": 290,
    "start_time": "2023-05-03T17:25:55.160Z"
   },
   {
    "duration": 5,
    "start_time": "2023-05-03T17:25:55.452Z"
   },
   {
    "duration": 208,
    "start_time": "2023-05-03T17:25:55.459Z"
   },
   {
    "duration": 6,
    "start_time": "2023-05-03T17:25:55.669Z"
   },
   {
    "duration": 220,
    "start_time": "2023-05-03T17:25:55.677Z"
   },
   {
    "duration": 7,
    "start_time": "2023-05-03T17:25:55.899Z"
   },
   {
    "duration": 35,
    "start_time": "2023-05-03T17:25:55.908Z"
   },
   {
    "duration": 29,
    "start_time": "2023-05-03T17:25:55.946Z"
   },
   {
    "duration": 10,
    "start_time": "2023-05-03T17:25:55.977Z"
   },
   {
    "duration": 26,
    "start_time": "2023-05-03T17:25:55.990Z"
   },
   {
    "duration": 291,
    "start_time": "2023-05-03T17:25:56.019Z"
   },
   {
    "duration": 416,
    "start_time": "2023-05-03T17:25:56.312Z"
   },
   {
    "duration": 220,
    "start_time": "2023-05-03T17:25:56.740Z"
   },
   {
    "duration": 251,
    "start_time": "2023-05-03T17:25:56.962Z"
   },
   {
    "duration": 52,
    "start_time": "2023-05-03T17:25:57.215Z"
   },
   {
    "duration": 44,
    "start_time": "2023-05-03T17:25:57.271Z"
   },
   {
    "duration": 6,
    "start_time": "2023-05-03T17:25:57.317Z"
   },
   {
    "duration": 11,
    "start_time": "2023-05-03T17:25:57.340Z"
   },
   {
    "duration": 37,
    "start_time": "2023-05-03T17:25:57.352Z"
   },
   {
    "duration": 5,
    "start_time": "2023-05-03T17:26:07.239Z"
   },
   {
    "duration": 6,
    "start_time": "2023-05-03T17:26:08.611Z"
   },
   {
    "duration": 6,
    "start_time": "2023-05-03T18:11:18.458Z"
   },
   {
    "duration": 11,
    "start_time": "2023-05-03T18:26:52.127Z"
   },
   {
    "duration": 11,
    "start_time": "2023-05-03T18:27:08.758Z"
   },
   {
    "duration": 3,
    "start_time": "2023-05-03T18:27:13.996Z"
   },
   {
    "duration": 7,
    "start_time": "2023-05-03T18:27:15.152Z"
   },
   {
    "duration": 6,
    "start_time": "2023-05-03T18:28:38.018Z"
   },
   {
    "duration": 107,
    "start_time": "2023-05-03T18:29:50.556Z"
   },
   {
    "duration": 91,
    "start_time": "2023-05-03T18:29:58.334Z"
   },
   {
    "duration": 6,
    "start_time": "2023-05-03T18:30:04.629Z"
   },
   {
    "duration": 3,
    "start_time": "2023-05-03T18:38:53.198Z"
   },
   {
    "duration": 84,
    "start_time": "2023-05-03T18:38:53.203Z"
   },
   {
    "duration": 9,
    "start_time": "2023-05-03T18:38:53.289Z"
   },
   {
    "duration": 20,
    "start_time": "2023-05-03T18:38:53.300Z"
   },
   {
    "duration": 33,
    "start_time": "2023-05-03T18:38:53.322Z"
   },
   {
    "duration": 20,
    "start_time": "2023-05-03T18:38:53.358Z"
   },
   {
    "duration": 15,
    "start_time": "2023-05-03T18:38:53.380Z"
   },
   {
    "duration": 20,
    "start_time": "2023-05-03T18:38:53.396Z"
   },
   {
    "duration": 24,
    "start_time": "2023-05-03T18:38:53.418Z"
   },
   {
    "duration": 20,
    "start_time": "2023-05-03T18:38:53.444Z"
   },
   {
    "duration": 20,
    "start_time": "2023-05-03T18:38:53.468Z"
   },
   {
    "duration": 208,
    "start_time": "2023-05-03T18:38:53.490Z"
   },
   {
    "duration": 117,
    "start_time": "2023-05-03T18:38:53.700Z"
   },
   {
    "duration": 300,
    "start_time": "2023-05-03T18:38:53.819Z"
   },
   {
    "duration": 6,
    "start_time": "2023-05-03T18:38:54.121Z"
   },
   {
    "duration": 203,
    "start_time": "2023-05-03T18:38:54.129Z"
   },
   {
    "duration": 11,
    "start_time": "2023-05-03T18:38:54.334Z"
   },
   {
    "duration": 218,
    "start_time": "2023-05-03T18:38:54.347Z"
   },
   {
    "duration": 5,
    "start_time": "2023-05-03T18:38:54.567Z"
   },
   {
    "duration": 19,
    "start_time": "2023-05-03T18:38:54.574Z"
   },
   {
    "duration": 25,
    "start_time": "2023-05-03T18:38:54.595Z"
   },
   {
    "duration": 8,
    "start_time": "2023-05-03T18:38:54.641Z"
   },
   {
    "duration": 10,
    "start_time": "2023-05-03T18:38:54.651Z"
   },
   {
    "duration": 249,
    "start_time": "2023-05-03T18:38:54.663Z"
   },
   {
    "duration": 254,
    "start_time": "2023-05-03T18:38:54.915Z"
   },
   {
    "duration": 512,
    "start_time": "2023-05-03T18:38:55.172Z"
   },
   {
    "duration": 295,
    "start_time": "2023-05-03T18:38:55.686Z"
   },
   {
    "duration": 58,
    "start_time": "2023-05-03T18:38:55.984Z"
   },
   {
    "duration": 43,
    "start_time": "2023-05-03T18:38:56.046Z"
   },
   {
    "duration": 9,
    "start_time": "2023-05-03T18:38:56.091Z"
   },
   {
    "duration": 17,
    "start_time": "2023-05-03T18:38:56.102Z"
   },
   {
    "duration": 43,
    "start_time": "2023-05-03T18:38:56.121Z"
   },
   {
    "duration": 3,
    "start_time": "2023-05-03T18:38:56.166Z"
   },
   {
    "duration": 3,
    "start_time": "2023-05-03T18:39:00.192Z"
   },
   {
    "duration": 7,
    "start_time": "2023-05-03T18:39:01.370Z"
   },
   {
    "duration": 6,
    "start_time": "2023-05-03T18:39:15.530Z"
   },
   {
    "duration": 6,
    "start_time": "2023-05-03T18:40:08.756Z"
   },
   {
    "duration": 6,
    "start_time": "2023-05-03T18:40:12.690Z"
   },
   {
    "duration": 6,
    "start_time": "2023-05-03T18:40:23.991Z"
   },
   {
    "duration": 14,
    "start_time": "2023-05-03T18:45:04.719Z"
   },
   {
    "duration": 18,
    "start_time": "2023-05-03T18:45:23.032Z"
   },
   {
    "duration": 6,
    "start_time": "2023-05-03T18:48:18.264Z"
   },
   {
    "duration": 6,
    "start_time": "2023-05-03T18:48:28.785Z"
   },
   {
    "duration": 10,
    "start_time": "2023-05-03T18:48:40.541Z"
   },
   {
    "duration": 26,
    "start_time": "2023-05-03T18:54:15.981Z"
   },
   {
    "duration": 7,
    "start_time": "2023-05-03T18:54:30.712Z"
   },
   {
    "duration": 10,
    "start_time": "2023-05-03T19:07:55.000Z"
   },
   {
    "duration": 7,
    "start_time": "2023-05-03T19:07:56.143Z"
   },
   {
    "duration": 88,
    "start_time": "2023-05-03T19:16:49.549Z"
   },
   {
    "duration": 6,
    "start_time": "2023-05-03T19:17:50.148Z"
   },
   {
    "duration": 10,
    "start_time": "2023-05-03T19:19:47.825Z"
   },
   {
    "duration": 1427,
    "start_time": "2023-05-04T08:05:59.579Z"
   },
   {
    "duration": 499,
    "start_time": "2023-05-04T08:06:01.008Z"
   },
   {
    "duration": 15,
    "start_time": "2023-05-04T08:06:01.510Z"
   },
   {
    "duration": 153,
    "start_time": "2023-05-04T08:06:01.526Z"
   },
   {
    "duration": 106,
    "start_time": "2023-05-04T08:06:01.681Z"
   },
   {
    "duration": 156,
    "start_time": "2023-05-04T08:06:01.788Z"
   },
   {
    "duration": 233,
    "start_time": "2023-05-04T08:06:01.946Z"
   },
   {
    "duration": 66,
    "start_time": "2023-05-04T08:06:02.181Z"
   },
   {
    "duration": 87,
    "start_time": "2023-05-04T08:06:02.252Z"
   },
   {
    "duration": 62,
    "start_time": "2023-05-04T08:06:02.348Z"
   },
   {
    "duration": 76,
    "start_time": "2023-05-04T08:06:02.412Z"
   },
   {
    "duration": 220,
    "start_time": "2023-05-04T08:06:02.491Z"
   },
   {
    "duration": 144,
    "start_time": "2023-05-04T08:06:02.714Z"
   },
   {
    "duration": 265,
    "start_time": "2023-05-04T08:06:02.861Z"
   },
   {
    "duration": 7,
    "start_time": "2023-05-04T08:06:03.134Z"
   },
   {
    "duration": 266,
    "start_time": "2023-05-04T08:06:03.146Z"
   },
   {
    "duration": 8,
    "start_time": "2023-05-04T08:06:03.414Z"
   },
   {
    "duration": 265,
    "start_time": "2023-05-04T08:06:03.424Z"
   },
   {
    "duration": 5,
    "start_time": "2023-05-04T08:06:03.691Z"
   },
   {
    "duration": 58,
    "start_time": "2023-05-04T08:06:03.698Z"
   },
   {
    "duration": 66,
    "start_time": "2023-05-04T08:06:03.757Z"
   },
   {
    "duration": 8,
    "start_time": "2023-05-04T08:06:03.824Z"
   },
   {
    "duration": 58,
    "start_time": "2023-05-04T08:06:03.833Z"
   },
   {
    "duration": 267,
    "start_time": "2023-05-04T08:06:03.893Z"
   },
   {
    "duration": 239,
    "start_time": "2023-05-04T08:06:04.161Z"
   },
   {
    "duration": 218,
    "start_time": "2023-05-04T08:06:04.402Z"
   },
   {
    "duration": 378,
    "start_time": "2023-05-04T08:06:04.622Z"
   },
   {
    "duration": 60,
    "start_time": "2023-05-04T08:06:05.002Z"
   },
   {
    "duration": 81,
    "start_time": "2023-05-04T08:06:05.064Z"
   },
   {
    "duration": 10,
    "start_time": "2023-05-04T08:06:05.147Z"
   },
   {
    "duration": 106,
    "start_time": "2023-05-04T08:06:05.161Z"
   },
   {
    "duration": 63,
    "start_time": "2023-05-04T08:06:05.269Z"
   },
   {
    "duration": 47,
    "start_time": "2023-05-04T08:06:05.338Z"
   },
   {
    "duration": 34,
    "start_time": "2023-05-04T08:06:05.389Z"
   },
   {
    "duration": 98,
    "start_time": "2023-05-04T08:06:05.425Z"
   },
   {
    "duration": 69,
    "start_time": "2023-05-04T08:06:05.524Z"
   },
   {
    "duration": 190,
    "start_time": "2023-05-04T08:06:05.595Z"
   },
   {
    "duration": 0,
    "start_time": "2023-05-04T08:06:05.788Z"
   },
   {
    "duration": 0,
    "start_time": "2023-05-04T08:06:05.790Z"
   },
   {
    "duration": 1044,
    "start_time": "2023-05-04T17:38:14.901Z"
   },
   {
    "duration": 418,
    "start_time": "2023-05-04T17:38:15.947Z"
   },
   {
    "duration": 18,
    "start_time": "2023-05-04T17:38:16.367Z"
   },
   {
    "duration": 31,
    "start_time": "2023-05-04T17:38:16.386Z"
   },
   {
    "duration": 11,
    "start_time": "2023-05-04T17:38:16.420Z"
   },
   {
    "duration": 13,
    "start_time": "2023-05-04T17:38:16.433Z"
   },
   {
    "duration": 37,
    "start_time": "2023-05-04T17:38:16.448Z"
   },
   {
    "duration": 19,
    "start_time": "2023-05-04T17:38:16.498Z"
   },
   {
    "duration": 18,
    "start_time": "2023-05-04T17:38:16.519Z"
   },
   {
    "duration": 27,
    "start_time": "2023-05-04T17:38:16.539Z"
   },
   {
    "duration": 30,
    "start_time": "2023-05-04T17:38:16.568Z"
   },
   {
    "duration": 202,
    "start_time": "2023-05-04T17:38:16.603Z"
   },
   {
    "duration": 103,
    "start_time": "2023-05-04T17:38:16.807Z"
   },
   {
    "duration": 227,
    "start_time": "2023-05-04T17:38:16.912Z"
   },
   {
    "duration": 4,
    "start_time": "2023-05-04T17:38:17.140Z"
   },
   {
    "duration": 173,
    "start_time": "2023-05-04T17:38:17.146Z"
   },
   {
    "duration": 10,
    "start_time": "2023-05-04T17:38:17.321Z"
   },
   {
    "duration": 179,
    "start_time": "2023-05-04T17:38:17.333Z"
   },
   {
    "duration": 5,
    "start_time": "2023-05-04T17:38:17.513Z"
   },
   {
    "duration": 16,
    "start_time": "2023-05-04T17:38:17.524Z"
   },
   {
    "duration": 15,
    "start_time": "2023-05-04T17:38:17.541Z"
   },
   {
    "duration": 39,
    "start_time": "2023-05-04T17:38:17.558Z"
   },
   {
    "duration": 10,
    "start_time": "2023-05-04T17:38:17.599Z"
   },
   {
    "duration": 216,
    "start_time": "2023-05-04T17:38:17.610Z"
   },
   {
    "duration": 185,
    "start_time": "2023-05-04T17:38:17.828Z"
   },
   {
    "duration": 193,
    "start_time": "2023-05-04T17:38:18.014Z"
   },
   {
    "duration": 292,
    "start_time": "2023-05-04T17:38:18.209Z"
   },
   {
    "duration": 27,
    "start_time": "2023-05-04T17:38:18.503Z"
   },
   {
    "duration": 78,
    "start_time": "2023-05-04T17:38:18.532Z"
   },
   {
    "duration": 7,
    "start_time": "2023-05-04T17:38:18.612Z"
   },
   {
    "duration": 15,
    "start_time": "2023-05-04T17:38:18.621Z"
   },
   {
    "duration": 28,
    "start_time": "2023-05-04T17:38:18.638Z"
   },
   {
    "duration": 38,
    "start_time": "2023-05-04T17:38:18.667Z"
   },
   {
    "duration": 22,
    "start_time": "2023-05-04T17:38:18.707Z"
   },
   {
    "duration": 9,
    "start_time": "2023-05-04T17:38:18.731Z"
   },
   {
    "duration": 20,
    "start_time": "2023-05-04T17:38:18.742Z"
   },
   {
    "duration": 159,
    "start_time": "2023-05-04T17:38:18.764Z"
   },
   {
    "duration": 0,
    "start_time": "2023-05-04T17:38:18.924Z"
   },
   {
    "duration": 0,
    "start_time": "2023-05-04T17:38:18.925Z"
   },
   {
    "duration": 5,
    "start_time": "2023-05-04T18:19:42.289Z"
   },
   {
    "duration": 7,
    "start_time": "2023-05-04T18:20:02.114Z"
   },
   {
    "duration": 56,
    "start_time": "2023-05-04T18:49:36.844Z"
   },
   {
    "duration": 1651,
    "start_time": "2023-05-04T18:49:40.082Z"
   },
   {
    "duration": 712,
    "start_time": "2023-05-04T18:49:41.735Z"
   },
   {
    "duration": 15,
    "start_time": "2023-05-04T18:49:42.452Z"
   },
   {
    "duration": 19,
    "start_time": "2023-05-04T18:49:44.808Z"
   },
   {
    "duration": 12,
    "start_time": "2023-05-04T18:50:01.492Z"
   },
   {
    "duration": 16,
    "start_time": "2023-05-04T18:50:34.735Z"
   },
   {
    "duration": 189,
    "start_time": "2023-05-04T18:58:39.440Z"
   },
   {
    "duration": 167,
    "start_time": "2023-05-04T18:58:45.560Z"
   },
   {
    "duration": 322,
    "start_time": "2023-05-04T19:03:57.000Z"
   },
   {
    "duration": 379,
    "start_time": "2023-05-04T19:04:12.312Z"
   },
   {
    "duration": 5,
    "start_time": "2023-05-04T19:05:01.729Z"
   },
   {
    "duration": 8,
    "start_time": "2023-05-04T19:05:06.568Z"
   },
   {
    "duration": 1356,
    "start_time": "2023-05-04T19:05:39.898Z"
   },
   {
    "duration": 8,
    "start_time": "2023-05-04T19:06:08.847Z"
   },
   {
    "duration": 242,
    "start_time": "2023-05-04T19:06:25.729Z"
   },
   {
    "duration": 92,
    "start_time": "2023-05-04T19:07:39.818Z"
   },
   {
    "duration": 190,
    "start_time": "2023-05-04T19:08:54.194Z"
   },
   {
    "duration": 16,
    "start_time": "2023-05-04T19:09:00.049Z"
   },
   {
    "duration": 146,
    "start_time": "2023-05-04T19:09:29.755Z"
   },
   {
    "duration": 250,
    "start_time": "2023-05-04T19:09:51.918Z"
   },
   {
    "duration": 226,
    "start_time": "2023-05-04T19:10:07.228Z"
   },
   {
    "duration": 220,
    "start_time": "2023-05-04T19:10:26.664Z"
   },
   {
    "duration": 281,
    "start_time": "2023-05-04T19:10:32.351Z"
   },
   {
    "duration": 192,
    "start_time": "2023-05-04T19:10:35.730Z"
   },
   {
    "duration": 219,
    "start_time": "2023-05-04T19:10:38.724Z"
   },
   {
    "duration": 270,
    "start_time": "2023-05-04T19:10:43.259Z"
   },
   {
    "duration": 225,
    "start_time": "2023-05-04T19:10:48.603Z"
   },
   {
    "duration": 9,
    "start_time": "2023-05-04T19:11:14.258Z"
   },
   {
    "duration": 214,
    "start_time": "2023-05-04T19:13:34.035Z"
   },
   {
    "duration": 262,
    "start_time": "2023-05-04T19:14:11.374Z"
   },
   {
    "duration": 276,
    "start_time": "2023-05-04T19:15:55.950Z"
   },
   {
    "duration": 402,
    "start_time": "2023-05-04T19:16:33.635Z"
   },
   {
    "duration": 13,
    "start_time": "2023-05-04T19:17:18.852Z"
   },
   {
    "duration": 11,
    "start_time": "2023-05-04T19:17:31.045Z"
   },
   {
    "duration": 10,
    "start_time": "2023-05-04T19:32:56.346Z"
   },
   {
    "duration": 22,
    "start_time": "2023-05-04T19:33:01.714Z"
   },
   {
    "duration": 14,
    "start_time": "2023-05-04T19:33:07.016Z"
   },
   {
    "duration": 76,
    "start_time": "2023-05-04T19:33:07.033Z"
   },
   {
    "duration": 20,
    "start_time": "2023-05-04T19:33:07.112Z"
   },
   {
    "duration": 18,
    "start_time": "2023-05-04T19:33:07.135Z"
   },
   {
    "duration": 26,
    "start_time": "2023-05-04T19:33:07.155Z"
   },
   {
    "duration": 45,
    "start_time": "2023-05-04T19:33:07.183Z"
   },
   {
    "duration": 30,
    "start_time": "2023-05-04T19:33:07.230Z"
   },
   {
    "duration": 26,
    "start_time": "2023-05-04T19:33:07.261Z"
   },
   {
    "duration": 19,
    "start_time": "2023-05-04T19:33:07.290Z"
   },
   {
    "duration": 34,
    "start_time": "2023-05-04T19:33:07.311Z"
   },
   {
    "duration": 32,
    "start_time": "2023-05-04T19:33:07.347Z"
   },
   {
    "duration": 27,
    "start_time": "2023-05-04T19:33:07.381Z"
   },
   {
    "duration": 37,
    "start_time": "2023-05-04T19:33:07.410Z"
   },
   {
    "duration": 17,
    "start_time": "2023-05-04T19:33:07.449Z"
   },
   {
    "duration": 220,
    "start_time": "2023-05-04T19:33:07.467Z"
   },
   {
    "duration": 121,
    "start_time": "2023-05-04T19:33:07.690Z"
   },
   {
    "duration": 296,
    "start_time": "2023-05-04T19:33:07.819Z"
   },
   {
    "duration": 11,
    "start_time": "2023-05-04T19:33:08.120Z"
   },
   {
    "duration": 264,
    "start_time": "2023-05-04T19:33:08.132Z"
   },
   {
    "duration": 19,
    "start_time": "2023-05-04T19:33:08.398Z"
   },
   {
    "duration": 258,
    "start_time": "2023-05-04T19:33:08.432Z"
   },
   {
    "duration": 9,
    "start_time": "2023-05-04T19:33:08.692Z"
   },
   {
    "duration": 38,
    "start_time": "2023-05-04T19:33:08.703Z"
   },
   {
    "duration": 23,
    "start_time": "2023-05-04T19:33:08.744Z"
   },
   {
    "duration": 11,
    "start_time": "2023-05-04T19:33:08.769Z"
   },
   {
    "duration": 33,
    "start_time": "2023-05-04T19:33:08.782Z"
   },
   {
    "duration": 317,
    "start_time": "2023-05-04T19:33:10.760Z"
   },
   {
    "duration": 328,
    "start_time": "2023-05-04T19:33:23.807Z"
   },
   {
    "duration": 214,
    "start_time": "2023-05-04T19:33:30.340Z"
   },
   {
    "duration": 330,
    "start_time": "2023-05-04T19:33:35.584Z"
   },
   {
    "duration": 35,
    "start_time": "2023-05-04T19:47:53.011Z"
   },
   {
    "duration": 6,
    "start_time": "2023-05-04T19:49:01.861Z"
   },
   {
    "duration": 28,
    "start_time": "2023-05-04T19:49:13.657Z"
   },
   {
    "duration": 23,
    "start_time": "2023-05-04T19:50:16.751Z"
   },
   {
    "duration": 28,
    "start_time": "2023-05-04T19:50:31.638Z"
   },
   {
    "duration": 31,
    "start_time": "2023-05-04T19:51:08.938Z"
   },
   {
    "duration": 6,
    "start_time": "2023-05-04T19:59:46.997Z"
   },
   {
    "duration": 3,
    "start_time": "2023-05-04T20:03:04.259Z"
   },
   {
    "duration": 90,
    "start_time": "2023-05-04T20:03:04.266Z"
   },
   {
    "duration": 8,
    "start_time": "2023-05-04T20:03:04.358Z"
   },
   {
    "duration": 36,
    "start_time": "2023-05-04T20:03:04.368Z"
   },
   {
    "duration": 34,
    "start_time": "2023-05-04T20:03:04.406Z"
   },
   {
    "duration": 29,
    "start_time": "2023-05-04T20:03:04.441Z"
   },
   {
    "duration": 30,
    "start_time": "2023-05-04T20:03:04.472Z"
   },
   {
    "duration": 28,
    "start_time": "2023-05-04T20:03:04.504Z"
   },
   {
    "duration": 29,
    "start_time": "2023-05-04T20:03:04.534Z"
   },
   {
    "duration": 29,
    "start_time": "2023-05-04T20:03:04.565Z"
   },
   {
    "duration": 35,
    "start_time": "2023-05-04T20:03:04.598Z"
   },
   {
    "duration": 39,
    "start_time": "2023-05-04T20:03:04.634Z"
   },
   {
    "duration": 30,
    "start_time": "2023-05-04T20:03:04.675Z"
   },
   {
    "duration": 31,
    "start_time": "2023-05-04T20:03:04.707Z"
   },
   {
    "duration": 194,
    "start_time": "2023-05-04T20:03:04.739Z"
   },
   {
    "duration": 110,
    "start_time": "2023-05-04T20:03:04.935Z"
   },
   {
    "duration": 290,
    "start_time": "2023-05-04T20:03:05.047Z"
   },
   {
    "duration": 8,
    "start_time": "2023-05-04T20:03:05.339Z"
   },
   {
    "duration": 255,
    "start_time": "2023-05-04T20:03:05.349Z"
   },
   {
    "duration": 25,
    "start_time": "2023-05-04T20:03:05.606Z"
   },
   {
    "duration": 271,
    "start_time": "2023-05-04T20:03:05.633Z"
   },
   {
    "duration": 19,
    "start_time": "2023-05-04T20:03:05.907Z"
   },
   {
    "duration": 38,
    "start_time": "2023-05-04T20:03:05.931Z"
   },
   {
    "duration": 33,
    "start_time": "2023-05-04T20:03:05.970Z"
   },
   {
    "duration": 36,
    "start_time": "2023-05-04T20:03:06.005Z"
   },
   {
    "duration": 35,
    "start_time": "2023-05-04T20:03:06.043Z"
   },
   {
    "duration": 252,
    "start_time": "2023-05-04T20:03:06.080Z"
   },
   {
    "duration": 232,
    "start_time": "2023-05-04T20:03:06.333Z"
   },
   {
    "duration": 222,
    "start_time": "2023-05-04T20:03:06.568Z"
   },
   {
    "duration": 263,
    "start_time": "2023-05-04T20:03:06.792Z"
   },
   {
    "duration": 29,
    "start_time": "2023-05-04T20:03:07.056Z"
   },
   {
    "duration": 47,
    "start_time": "2023-05-04T20:03:07.087Z"
   },
   {
    "duration": 7,
    "start_time": "2023-05-04T20:03:07.136Z"
   },
   {
    "duration": 11,
    "start_time": "2023-05-04T20:03:07.144Z"
   },
   {
    "duration": 27,
    "start_time": "2023-05-04T20:03:07.157Z"
   },
   {
    "duration": 49,
    "start_time": "2023-05-04T20:03:07.185Z"
   },
   {
    "duration": 18,
    "start_time": "2023-05-04T20:03:07.236Z"
   },
   {
    "duration": 28,
    "start_time": "2023-05-04T20:03:07.256Z"
   },
   {
    "duration": 24,
    "start_time": "2023-05-04T20:03:07.286Z"
   },
   {
    "duration": 6,
    "start_time": "2023-05-04T20:03:11.149Z"
   },
   {
    "duration": 6,
    "start_time": "2023-05-04T20:12:26.585Z"
   },
   {
    "duration": 6,
    "start_time": "2023-05-04T20:12:56.710Z"
   },
   {
    "duration": 0,
    "start_time": "2023-05-04T20:14:11.176Z"
   },
   {
    "duration": 7,
    "start_time": "2023-05-04T20:14:22.546Z"
   },
   {
    "duration": 16,
    "start_time": "2023-05-04T20:19:53.845Z"
   },
   {
    "duration": 7,
    "start_time": "2023-05-04T20:20:13.057Z"
   },
   {
    "duration": 6,
    "start_time": "2023-05-04T20:25:22.982Z"
   },
   {
    "duration": 6,
    "start_time": "2023-05-04T20:31:49.994Z"
   },
   {
    "duration": 5,
    "start_time": "2023-05-04T21:04:49.773Z"
   },
   {
    "duration": 8,
    "start_time": "2023-05-04T21:04:58.031Z"
   },
   {
    "duration": 6,
    "start_time": "2023-05-04T21:05:07.134Z"
   },
   {
    "duration": 6,
    "start_time": "2023-05-04T21:05:12.947Z"
   },
   {
    "duration": 11,
    "start_time": "2023-05-04T21:05:34.270Z"
   },
   {
    "duration": 8,
    "start_time": "2023-05-04T21:05:35.152Z"
   },
   {
    "duration": 14,
    "start_time": "2023-05-04T21:14:28.155Z"
   },
   {
    "duration": 9,
    "start_time": "2023-05-04T21:17:05.601Z"
   },
   {
    "duration": 9,
    "start_time": "2023-05-04T21:21:53.828Z"
   },
   {
    "duration": 14,
    "start_time": "2023-05-04T21:22:56.879Z"
   },
   {
    "duration": 10,
    "start_time": "2023-05-04T21:23:37.845Z"
   },
   {
    "duration": 16,
    "start_time": "2023-05-04T21:23:45.131Z"
   },
   {
    "duration": 5,
    "start_time": "2023-05-04T21:24:44.702Z"
   },
   {
    "duration": 15,
    "start_time": "2023-05-04T21:25:00.490Z"
   },
   {
    "duration": 51,
    "start_time": "2023-05-04T21:25:37.636Z"
   },
   {
    "duration": 22,
    "start_time": "2023-05-04T21:25:51.557Z"
   },
   {
    "duration": 18,
    "start_time": "2023-05-04T21:26:18.348Z"
   },
   {
    "duration": 7,
    "start_time": "2023-05-04T21:26:22.396Z"
   },
   {
    "duration": 70,
    "start_time": "2023-05-04T21:27:20.432Z"
   },
   {
    "duration": 17,
    "start_time": "2023-05-04T21:28:49.332Z"
   },
   {
    "duration": 18,
    "start_time": "2023-05-04T21:29:43.894Z"
   },
   {
    "duration": 19,
    "start_time": "2023-05-04T21:29:51.779Z"
   },
   {
    "duration": 3,
    "start_time": "2023-05-04T21:39:59.388Z"
   },
   {
    "duration": 3,
    "start_time": "2023-05-04T21:48:30.869Z"
   },
   {
    "duration": 102,
    "start_time": "2023-05-04T21:48:30.876Z"
   },
   {
    "duration": 8,
    "start_time": "2023-05-04T21:48:30.980Z"
   },
   {
    "duration": 53,
    "start_time": "2023-05-04T21:48:30.990Z"
   },
   {
    "duration": 56,
    "start_time": "2023-05-04T21:48:31.045Z"
   },
   {
    "duration": 50,
    "start_time": "2023-05-04T21:48:31.104Z"
   },
   {
    "duration": 63,
    "start_time": "2023-05-04T21:48:31.156Z"
   },
   {
    "duration": 38,
    "start_time": "2023-05-04T21:48:31.221Z"
   },
   {
    "duration": 52,
    "start_time": "2023-05-04T21:48:31.261Z"
   },
   {
    "duration": 30,
    "start_time": "2023-05-04T21:48:31.315Z"
   },
   {
    "duration": 44,
    "start_time": "2023-05-04T21:48:31.347Z"
   },
   {
    "duration": 38,
    "start_time": "2023-05-04T21:48:31.393Z"
   },
   {
    "duration": 39,
    "start_time": "2023-05-04T21:48:31.433Z"
   },
   {
    "duration": 38,
    "start_time": "2023-05-04T21:48:31.474Z"
   },
   {
    "duration": 197,
    "start_time": "2023-05-04T21:48:31.515Z"
   },
   {
    "duration": 247,
    "start_time": "2023-05-04T21:48:31.717Z"
   },
   {
    "duration": 272,
    "start_time": "2023-05-04T21:48:31.966Z"
   },
   {
    "duration": 9,
    "start_time": "2023-05-04T21:48:32.240Z"
   },
   {
    "duration": 271,
    "start_time": "2023-05-04T21:48:32.251Z"
   },
   {
    "duration": 11,
    "start_time": "2023-05-04T21:48:32.524Z"
   },
   {
    "duration": 267,
    "start_time": "2023-05-04T21:48:32.537Z"
   },
   {
    "duration": 16,
    "start_time": "2023-05-04T21:48:32.806Z"
   },
   {
    "duration": 34,
    "start_time": "2023-05-04T21:48:32.823Z"
   },
   {
    "duration": 29,
    "start_time": "2023-05-04T21:48:32.859Z"
   },
   {
    "duration": 49,
    "start_time": "2023-05-04T21:48:32.890Z"
   },
   {
    "duration": 29,
    "start_time": "2023-05-04T21:48:32.941Z"
   },
   {
    "duration": 221,
    "start_time": "2023-05-04T21:48:32.972Z"
   },
   {
    "duration": 219,
    "start_time": "2023-05-04T21:48:33.195Z"
   },
   {
    "duration": 203,
    "start_time": "2023-05-04T21:48:33.418Z"
   },
   {
    "duration": 219,
    "start_time": "2023-05-04T21:48:33.623Z"
   },
   {
    "duration": 27,
    "start_time": "2023-05-04T21:48:33.843Z"
   },
   {
    "duration": 46,
    "start_time": "2023-05-04T21:48:33.872Z"
   },
   {
    "duration": 5,
    "start_time": "2023-05-04T21:48:33.920Z"
   },
   {
    "duration": 55,
    "start_time": "2023-05-04T21:48:33.926Z"
   },
   {
    "duration": 54,
    "start_time": "2023-05-04T21:48:33.982Z"
   },
   {
    "duration": 38,
    "start_time": "2023-05-04T21:48:34.038Z"
   },
   {
    "duration": 44,
    "start_time": "2023-05-04T21:48:34.078Z"
   },
   {
    "duration": 53,
    "start_time": "2023-05-04T21:48:34.123Z"
   },
   {
    "duration": 18,
    "start_time": "2023-05-04T21:48:34.178Z"
   },
   {
    "duration": 33,
    "start_time": "2023-05-04T21:48:34.198Z"
   },
   {
    "duration": 55,
    "start_time": "2023-05-04T21:48:34.233Z"
   },
   {
    "duration": 20,
    "start_time": "2023-05-04T21:48:34.293Z"
   },
   {
    "duration": 50,
    "start_time": "2023-05-04T21:48:34.315Z"
   },
   {
    "duration": 38,
    "start_time": "2023-05-04T21:48:34.367Z"
   },
   {
    "duration": 37,
    "start_time": "2023-05-04T21:48:34.407Z"
   },
   {
    "duration": 5,
    "start_time": "2023-05-04T21:48:58.146Z"
   },
   {
    "duration": 3,
    "start_time": "2023-05-04T21:49:09.216Z"
   },
   {
    "duration": 73,
    "start_time": "2023-05-04T21:49:09.223Z"
   },
   {
    "duration": 9,
    "start_time": "2023-05-04T21:49:09.298Z"
   },
   {
    "duration": 16,
    "start_time": "2023-05-04T21:49:09.308Z"
   },
   {
    "duration": 13,
    "start_time": "2023-05-04T21:49:09.325Z"
   },
   {
    "duration": 16,
    "start_time": "2023-05-04T21:49:09.339Z"
   },
   {
    "duration": 7,
    "start_time": "2023-05-04T21:49:09.356Z"
   },
   {
    "duration": 14,
    "start_time": "2023-05-04T21:49:09.365Z"
   },
   {
    "duration": 13,
    "start_time": "2023-05-04T21:49:09.381Z"
   },
   {
    "duration": 27,
    "start_time": "2023-05-04T21:49:09.395Z"
   },
   {
    "duration": 14,
    "start_time": "2023-05-04T21:49:09.424Z"
   },
   {
    "duration": 8,
    "start_time": "2023-05-04T21:49:09.439Z"
   },
   {
    "duration": 18,
    "start_time": "2023-05-04T21:49:09.449Z"
   },
   {
    "duration": 12,
    "start_time": "2023-05-04T21:49:09.469Z"
   },
   {
    "duration": 160,
    "start_time": "2023-05-04T21:49:09.518Z"
   },
   {
    "duration": 98,
    "start_time": "2023-05-04T21:49:09.680Z"
   },
   {
    "duration": 244,
    "start_time": "2023-05-04T21:49:09.780Z"
   },
   {
    "duration": 7,
    "start_time": "2023-05-04T21:49:10.027Z"
   },
   {
    "duration": 322,
    "start_time": "2023-05-04T21:49:10.036Z"
   },
   {
    "duration": 9,
    "start_time": "2023-05-04T21:49:10.360Z"
   },
   {
    "duration": 240,
    "start_time": "2023-05-04T21:49:10.371Z"
   },
   {
    "duration": 11,
    "start_time": "2023-05-04T21:49:10.613Z"
   },
   {
    "duration": 19,
    "start_time": "2023-05-04T21:49:10.626Z"
   },
   {
    "duration": 18,
    "start_time": "2023-05-04T21:49:10.647Z"
   },
   {
    "duration": 6,
    "start_time": "2023-05-04T21:49:10.667Z"
   },
   {
    "duration": 6,
    "start_time": "2023-05-04T21:49:10.674Z"
   },
   {
    "duration": 227,
    "start_time": "2023-05-04T21:49:10.682Z"
   },
   {
    "duration": 198,
    "start_time": "2023-05-04T21:49:10.917Z"
   },
   {
    "duration": 192,
    "start_time": "2023-05-04T21:49:11.118Z"
   },
   {
    "duration": 211,
    "start_time": "2023-05-04T21:49:11.312Z"
   },
   {
    "duration": 27,
    "start_time": "2023-05-04T21:49:11.524Z"
   },
   {
    "duration": 28,
    "start_time": "2023-05-04T21:49:11.553Z"
   },
   {
    "duration": 4,
    "start_time": "2023-05-04T21:49:11.583Z"
   },
   {
    "duration": 29,
    "start_time": "2023-05-04T21:49:11.588Z"
   },
   {
    "duration": 17,
    "start_time": "2023-05-04T21:49:11.619Z"
   },
   {
    "duration": 2,
    "start_time": "2023-05-04T21:49:11.637Z"
   },
   {
    "duration": 10,
    "start_time": "2023-05-04T21:49:11.641Z"
   },
   {
    "duration": 9,
    "start_time": "2023-05-04T21:49:11.652Z"
   },
   {
    "duration": 6,
    "start_time": "2023-05-04T21:49:11.662Z"
   },
   {
    "duration": 6,
    "start_time": "2023-05-04T21:49:11.669Z"
   },
   {
    "duration": 6,
    "start_time": "2023-05-04T21:49:11.676Z"
   },
   {
    "duration": 9,
    "start_time": "2023-05-04T21:49:11.683Z"
   },
   {
    "duration": 34,
    "start_time": "2023-05-04T21:49:11.694Z"
   },
   {
    "duration": 2,
    "start_time": "2023-05-04T21:49:11.730Z"
   },
   {
    "duration": 7,
    "start_time": "2023-05-04T21:49:11.733Z"
   },
   {
    "duration": 1112,
    "start_time": "2023-05-05T16:32:51.530Z"
   },
   {
    "duration": 108,
    "start_time": "2023-05-05T16:32:52.644Z"
   },
   {
    "duration": 12,
    "start_time": "2023-05-05T16:32:52.753Z"
   },
   {
    "duration": 34,
    "start_time": "2023-05-05T16:32:52.767Z"
   },
   {
    "duration": 19,
    "start_time": "2023-05-05T16:32:52.803Z"
   },
   {
    "duration": 15,
    "start_time": "2023-05-05T16:32:52.824Z"
   },
   {
    "duration": 7,
    "start_time": "2023-05-05T16:32:52.840Z"
   },
   {
    "duration": 13,
    "start_time": "2023-05-05T16:32:52.849Z"
   },
   {
    "duration": 14,
    "start_time": "2023-05-05T16:32:52.864Z"
   },
   {
    "duration": 12,
    "start_time": "2023-05-05T16:32:52.880Z"
   },
   {
    "duration": 13,
    "start_time": "2023-05-05T16:32:52.893Z"
   },
   {
    "duration": 15,
    "start_time": "2023-05-05T16:32:52.907Z"
   },
   {
    "duration": 32,
    "start_time": "2023-05-05T16:32:52.924Z"
   },
   {
    "duration": 14,
    "start_time": "2023-05-05T16:32:52.957Z"
   },
   {
    "duration": 183,
    "start_time": "2023-05-05T16:32:52.973Z"
   },
   {
    "duration": 105,
    "start_time": "2023-05-05T16:32:53.157Z"
   },
   {
    "duration": 253,
    "start_time": "2023-05-05T16:32:53.263Z"
   },
   {
    "duration": 9,
    "start_time": "2023-05-05T16:32:53.517Z"
   },
   {
    "duration": 229,
    "start_time": "2023-05-05T16:32:53.527Z"
   },
   {
    "duration": 9,
    "start_time": "2023-05-05T16:32:53.757Z"
   },
   {
    "duration": 289,
    "start_time": "2023-05-05T16:32:53.767Z"
   },
   {
    "duration": 11,
    "start_time": "2023-05-05T16:32:54.058Z"
   },
   {
    "duration": 47,
    "start_time": "2023-05-05T16:32:54.071Z"
   },
   {
    "duration": 24,
    "start_time": "2023-05-05T16:32:54.120Z"
   },
   {
    "duration": 12,
    "start_time": "2023-05-05T16:32:54.146Z"
   },
   {
    "duration": 12,
    "start_time": "2023-05-05T16:32:54.160Z"
   },
   {
    "duration": 240,
    "start_time": "2023-05-05T16:32:54.174Z"
   },
   {
    "duration": 218,
    "start_time": "2023-05-05T16:32:54.418Z"
   },
   {
    "duration": 198,
    "start_time": "2023-05-05T16:32:54.638Z"
   },
   {
    "duration": 302,
    "start_time": "2023-05-05T16:32:54.838Z"
   },
   {
    "duration": 34,
    "start_time": "2023-05-05T16:32:55.142Z"
   },
   {
    "duration": 27,
    "start_time": "2023-05-05T16:32:55.177Z"
   },
   {
    "duration": 5,
    "start_time": "2023-05-05T16:32:55.206Z"
   },
   {
    "duration": 44,
    "start_time": "2023-05-05T16:32:55.212Z"
   },
   {
    "duration": 18,
    "start_time": "2023-05-05T16:32:55.258Z"
   },
   {
    "duration": 3,
    "start_time": "2023-05-05T16:32:55.278Z"
   },
   {
    "duration": 27,
    "start_time": "2023-05-05T16:32:55.282Z"
   },
   {
    "duration": 20,
    "start_time": "2023-05-05T16:32:55.311Z"
   },
   {
    "duration": 13,
    "start_time": "2023-05-05T16:32:55.333Z"
   },
   {
    "duration": 9,
    "start_time": "2023-05-05T16:32:55.348Z"
   },
   {
    "duration": 5,
    "start_time": "2023-05-05T16:32:55.358Z"
   },
   {
    "duration": 11,
    "start_time": "2023-05-05T16:32:55.365Z"
   },
   {
    "duration": 26,
    "start_time": "2023-05-05T16:32:55.378Z"
   },
   {
    "duration": 3,
    "start_time": "2023-05-05T16:32:55.406Z"
   },
   {
    "duration": 5,
    "start_time": "2023-05-05T16:32:55.411Z"
   },
   {
    "duration": 102,
    "start_time": "2023-05-05T16:40:16.268Z"
   },
   {
    "duration": 4,
    "start_time": "2023-05-05T16:40:20.608Z"
   },
   {
    "duration": 8,
    "start_time": "2023-05-05T16:40:34.999Z"
   },
   {
    "duration": 10,
    "start_time": "2023-05-05T16:40:46.928Z"
   },
   {
    "duration": 17,
    "start_time": "2023-05-05T16:41:06.376Z"
   },
   {
    "duration": 6,
    "start_time": "2023-05-05T16:41:38.085Z"
   },
   {
    "duration": 5,
    "start_time": "2023-05-05T16:54:54.664Z"
   },
   {
    "duration": 5,
    "start_time": "2023-05-05T16:54:59.383Z"
   },
   {
    "duration": 5,
    "start_time": "2023-05-05T16:55:02.472Z"
   },
   {
    "duration": 1055,
    "start_time": "2023-05-06T09:33:39.264Z"
   },
   {
    "duration": 323,
    "start_time": "2023-05-06T09:33:40.320Z"
   },
   {
    "duration": 11,
    "start_time": "2023-05-06T09:33:40.644Z"
   },
   {
    "duration": 10,
    "start_time": "2023-05-06T09:33:40.656Z"
   },
   {
    "duration": 15,
    "start_time": "2023-05-06T09:33:40.668Z"
   },
   {
    "duration": 11,
    "start_time": "2023-05-06T09:33:40.685Z"
   },
   {
    "duration": 6,
    "start_time": "2023-05-06T09:33:40.698Z"
   },
   {
    "duration": 25,
    "start_time": "2023-05-06T09:33:40.706Z"
   },
   {
    "duration": 16,
    "start_time": "2023-05-06T09:33:40.733Z"
   },
   {
    "duration": 14,
    "start_time": "2023-05-06T09:33:40.752Z"
   },
   {
    "duration": 10,
    "start_time": "2023-05-06T09:33:40.768Z"
   },
   {
    "duration": 7,
    "start_time": "2023-05-06T09:33:40.780Z"
   },
   {
    "duration": 16,
    "start_time": "2023-05-06T09:33:40.788Z"
   },
   {
    "duration": 44,
    "start_time": "2023-05-06T09:33:40.805Z"
   },
   {
    "duration": 173,
    "start_time": "2023-05-06T09:33:40.850Z"
   },
   {
    "duration": 95,
    "start_time": "2023-05-06T09:33:41.024Z"
   },
   {
    "duration": 227,
    "start_time": "2023-05-06T09:33:41.121Z"
   },
   {
    "duration": 7,
    "start_time": "2023-05-06T09:33:41.350Z"
   },
   {
    "duration": 211,
    "start_time": "2023-05-06T09:33:41.359Z"
   },
   {
    "duration": 8,
    "start_time": "2023-05-06T09:33:41.572Z"
   },
   {
    "duration": 220,
    "start_time": "2023-05-06T09:33:41.582Z"
   },
   {
    "duration": 7,
    "start_time": "2023-05-06T09:33:41.803Z"
   },
   {
    "duration": 15,
    "start_time": "2023-05-06T09:33:41.812Z"
   },
   {
    "duration": 34,
    "start_time": "2023-05-06T09:33:41.828Z"
   },
   {
    "duration": 7,
    "start_time": "2023-05-06T09:33:41.863Z"
   },
   {
    "duration": 29,
    "start_time": "2023-05-06T09:33:41.871Z"
   },
   {
    "duration": 202,
    "start_time": "2023-05-06T09:33:41.901Z"
   },
   {
    "duration": 186,
    "start_time": "2023-05-06T09:33:42.107Z"
   },
   {
    "duration": 185,
    "start_time": "2023-05-06T09:33:42.295Z"
   },
   {
    "duration": 270,
    "start_time": "2023-05-06T09:33:42.482Z"
   },
   {
    "duration": 26,
    "start_time": "2023-05-06T09:33:42.753Z"
   },
   {
    "duration": 24,
    "start_time": "2023-05-06T09:33:42.781Z"
   },
   {
    "duration": 4,
    "start_time": "2023-05-06T09:33:42.807Z"
   },
   {
    "duration": 10,
    "start_time": "2023-05-06T09:33:42.812Z"
   },
   {
    "duration": 39,
    "start_time": "2023-05-06T09:33:42.823Z"
   },
   {
    "duration": 3,
    "start_time": "2023-05-06T09:33:42.863Z"
   },
   {
    "duration": 5,
    "start_time": "2023-05-06T09:33:42.868Z"
   },
   {
    "duration": 12,
    "start_time": "2023-05-06T09:33:42.875Z"
   },
   {
    "duration": 17,
    "start_time": "2023-05-06T09:33:42.889Z"
   },
   {
    "duration": 23,
    "start_time": "2023-05-06T09:33:42.907Z"
   },
   {
    "duration": 28,
    "start_time": "2023-05-06T09:33:42.931Z"
   },
   {
    "duration": 8,
    "start_time": "2023-05-06T09:33:42.960Z"
   },
   {
    "duration": 17,
    "start_time": "2023-05-06T09:33:42.970Z"
   },
   {
    "duration": 5,
    "start_time": "2023-05-06T09:33:42.988Z"
   }
  ],
  "kernelspec": {
   "display_name": "Python 3 (ipykernel)",
   "language": "python",
   "name": "python3"
  },
  "language_info": {
   "codemirror_mode": {
    "name": "ipython",
    "version": 3
   },
   "file_extension": ".py",
   "mimetype": "text/x-python",
   "name": "python",
   "nbconvert_exporter": "python",
   "pygments_lexer": "ipython3",
   "version": "3.9.12"
  },
  "toc": {
   "base_numbering": 1,
   "nav_menu": {},
   "number_sections": true,
   "sideBar": true,
   "skip_h1_title": true,
   "title_cell": "Table of Contents",
   "title_sidebar": "Contents",
   "toc_cell": false,
   "toc_position": {
    "height": "calc(100% - 180px)",
    "left": "10px",
    "top": "150px",
    "width": "165px"
   },
   "toc_section_display": true,
   "toc_window_display": true
  }
 },
 "nbformat": 4,
 "nbformat_minor": 5
}
