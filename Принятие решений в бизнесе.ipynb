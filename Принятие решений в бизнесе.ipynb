{
 "cells": [
  {
   "cell_type": "markdown",
   "metadata": {},
   "source": [
    "## Принятие решений в бизнесе"
   ]
  },
  {
   "cell_type": "markdown",
   "metadata": {},
   "source": [
    "**Описание проекта:**\n",
    "\n",
    "Вы — аналитик крупного интернет-магазина. Вместе с отделом маркетинга вы подготовили список гипотез для увеличения выручки.\n",
    "Приоритизируйте гипотезы, запустите A/B-тест и проанализируйте результаты. \n",
    "\n",
    "\n",
    "**План работы по проекту**\n",
    "\n",
    "**Часть 1. Приоритизация гипотез.**\n",
    "- Применим фреймворк ICE для приоритизации гипотез. Отсортируем их по убыванию приоритета.\n",
    "- Применим фреймворк RICE для приоритизации гипотез. Отсортируем их по убыванию приоритета.\n",
    "- Опишем и объясним различия в результатах, если они будут \n",
    "\n",
    "**Часть 2. Анализ A/B-теста**\n",
    "\n",
    "После проведенного А/В-теста, проведем его анализ, а именно:\n",
    "- Построим график кумулятивной выручки по группам. Сделаем выводы и предположения.\n",
    "- Построим график кумулятивного среднего чека по группам. Сделаем выводы и предположения.\n",
    "- Построим график относительного изменения кумулятивного среднего чека группы B к группе A. Сделаем выводы и предположения.\n",
    "- Построим график кумулятивного среднего количества заказов на посетителя по группам. Сделаем выводы и предположения.\n",
    "- Построим график относительного изменения кумулятивного среднего количества заказов на посетителя группы B к группе A. Сделаем выводы и предположения.\n",
    "- Построим точечный график количества заказов по пользователям. Сделаем выводы и предположения.\n",
    "- Посчитаем 95-й и 99-й перцентили количества заказов на пользователя. Выберите границу для определения аномальных пользователей.\n",
    "- Построим точечный график стоимостей заказов. Сделаем выводы и предположения.\n",
    "- Посчитаем 95-й и 99-й перцентили стоимости заказов. Выберем границу для определения аномальных заказов.\n",
    "- Посчитаем статистическую значимость различий в среднем количестве заказов на посетителя между группами по «сырым» данным. Сделаем выводы и предположения.\n",
    "- Посчитаем статистическую значимость различий в среднем чеке заказа между группами по «сырым» данным. Сделаем выводы и предположения.\n",
    "- Посчитаем статистическую значимость различий в среднем количестве заказов на посетителя между группами по «очищенным» данным. Сделаем выводы и предположения.\n",
    "- Посчитаем статистическую значимость различий в среднем чеке заказа между группами по «очищенным» данным. Сделаем выводы и предположения.\n",
    "\n",
    "- Примем решение по результатам теста и объясним его. Варианты решений:\n",
    "\n",
    "1. Остановить тест, зафиксировать победу одной из групп.\n",
    "2. Остановить тест, зафиксировать отсутствие различий между группами.\n",
    "3. Продолжить тест."
   ]
  },
  {
   "cell_type": "markdown",
   "metadata": {},
   "source": [
    "**Описание данных:**\n",
    "\n",
    "**Данные для первой части**\n",
    "\n",
    "Файл /datasets/hypothesis.csv.\n",
    "\n",
    "- Hypothesis — краткое описание гипотезы;\n",
    "- Reach — охват пользователей по 10-балльной шкале;\n",
    "- Impact — влияние на пользователей по 10-балльной шкале;\n",
    "- Confidence — уверенность в гипотезе по 10-балльной шкале;\n",
    "- Efforts — затраты ресурсов на проверку гипотезы по 10-балльной шкале. Чем больше значение Efforts, тем дороже проверка гипотезы.\n",
    "\n",
    "**Данные для второй части**\n",
    "\n",
    "Файл /datasets/orders.csv.\n",
    "\n",
    "- transactionId — идентификатор заказа;\n",
    "- visitorId — идентификатор пользователя, совершившего заказ;\n",
    "- date — дата, когда был совершён заказ;\n",
    "- revenue — выручка заказа;\n",
    "- group — группа A/B-теста, в которую попал заказ.\n",
    "\n",
    "Файл /datasets/visitors.csv.\n",
    "\n",
    "- date — дата;\n",
    "- group — группа A/B-теста;\n",
    "- visitors — количество пользователей в указанную дату в указанной группе A/B-теста\n"
   ]
  },
  {
   "cell_type": "markdown",
   "metadata": {},
   "source": [
    "## Итоговый вывод:"
   ]
  },
  {
   "cell_type": "markdown",
   "metadata": {},
   "source": [
    "Итак, для того, чтобы принять решение, необходимо зарезюмировать весь ход оценки результатов А/В- теста:\n",
    "\n",
    "- на протяжении всего теста группа В показывала стабильно лучше рельтат по выручке, чем группа А\n",
    "- По графикам редний чек группы В был выше, чем средний чек группы А, но при проверке гипотез было установлено, что различия между ними если и есть, то очень минимальны (нулевая гипотеза о равенстве средних чеков между группами не была отвергнута) \n",
    "- Среднее количество заказов группы В так же стабильно выше чем у группы А (коллебания в данных не превышают 1-2%)\n",
    "- несмотря на незначительные коллебания отношения конверсии группы В к группе А, она все равно остается стабильно выше 0 (то есть, стабильно выше конверсии группы А)\n",
    "- Гипотеза о равенстве среднего количества заказов между группами была отвергнута в пользу альтернативной (различия между группами есть - p-value был ниже 0.05 как в сырых данных, так и после удаления выбросов)\n",
    "\n",
    "\n",
    "Исходя из вышеперечисленных результатов, решение по результату:\n",
    "\n",
    "Остановить тест, зафиксировать победу одной из групп (Группы В)\n",
    "\n",
    "Даже если допустить, что данные еще не \"прожили\" достаточное кол-во времени, то мы уже видим четкое различие между группами и превосходство одной над другой по все параметрам. Смысла продолжать эксперимент нет, так как данные продолжат расти и либо увеличат разрыв между собой, либо останутся на том же уровне "
   ]
  },
  {
   "cell_type": "markdown",
   "metadata": {},
   "source": [
    "## Ход исследования:"
   ]
  },
  {
   "cell_type": "markdown",
   "metadata": {},
   "source": [
    "### Часть . Приоритизация гипотез"
   ]
  },
  {
   "cell_type": "code",
   "execution_count": 2,
   "metadata": {},
   "outputs": [],
   "source": [
    "import pandas as pd\n",
    "import scipy.stats as stats\n",
    "import datetime as dt\n",
    "import numpy as np\n",
    "import matplotlib.pyplot as plt\n",
    "from pandas.plotting import register_matplotlib_converters\n",
    "import warnings\n",
    "# конвертеры, которые позволяют использовать типы pandas в matplotlib \n",
    "register_matplotlib_converters()"
   ]
  },
  {
   "cell_type": "code",
   "execution_count": 3,
   "metadata": {},
   "outputs": [
    {
     "data": {
      "text/html": [
       "<div>\n",
       "<style scoped>\n",
       "    .dataframe tbody tr th:only-of-type {\n",
       "        vertical-align: middle;\n",
       "    }\n",
       "\n",
       "    .dataframe tbody tr th {\n",
       "        vertical-align: top;\n",
       "    }\n",
       "\n",
       "    .dataframe thead th {\n",
       "        text-align: right;\n",
       "    }\n",
       "</style>\n",
       "<table border=\"1\" class=\"dataframe\">\n",
       "  <thead>\n",
       "    <tr style=\"text-align: right;\">\n",
       "      <th></th>\n",
       "      <th>Hypothesis</th>\n",
       "      <th>Reach</th>\n",
       "      <th>Impact</th>\n",
       "      <th>Confidence</th>\n",
       "      <th>Efforts</th>\n",
       "    </tr>\n",
       "  </thead>\n",
       "  <tbody>\n",
       "    <tr>\n",
       "      <th>0</th>\n",
       "      <td>Добавить два новых канала привлечения трафика,...</td>\n",
       "      <td>3</td>\n",
       "      <td>10</td>\n",
       "      <td>8</td>\n",
       "      <td>6</td>\n",
       "    </tr>\n",
       "    <tr>\n",
       "      <th>1</th>\n",
       "      <td>Запустить собственную службу доставки, что сок...</td>\n",
       "      <td>2</td>\n",
       "      <td>5</td>\n",
       "      <td>4</td>\n",
       "      <td>10</td>\n",
       "    </tr>\n",
       "    <tr>\n",
       "      <th>2</th>\n",
       "      <td>Добавить блоки рекомендаций товаров на сайт ин...</td>\n",
       "      <td>8</td>\n",
       "      <td>3</td>\n",
       "      <td>7</td>\n",
       "      <td>3</td>\n",
       "    </tr>\n",
       "    <tr>\n",
       "      <th>3</th>\n",
       "      <td>Изменить структура категорий, что увеличит кон...</td>\n",
       "      <td>8</td>\n",
       "      <td>3</td>\n",
       "      <td>3</td>\n",
       "      <td>8</td>\n",
       "    </tr>\n",
       "    <tr>\n",
       "      <th>4</th>\n",
       "      <td>Изменить цвет фона главной страницы, чтобы уве...</td>\n",
       "      <td>3</td>\n",
       "      <td>1</td>\n",
       "      <td>1</td>\n",
       "      <td>1</td>\n",
       "    </tr>\n",
       "    <tr>\n",
       "      <th>5</th>\n",
       "      <td>Добавить страницу отзывов клиентов о магазине,...</td>\n",
       "      <td>3</td>\n",
       "      <td>2</td>\n",
       "      <td>2</td>\n",
       "      <td>3</td>\n",
       "    </tr>\n",
       "    <tr>\n",
       "      <th>6</th>\n",
       "      <td>Показать на главной странице баннеры с актуаль...</td>\n",
       "      <td>5</td>\n",
       "      <td>3</td>\n",
       "      <td>8</td>\n",
       "      <td>3</td>\n",
       "    </tr>\n",
       "    <tr>\n",
       "      <th>7</th>\n",
       "      <td>Добавить форму подписки на все основные страни...</td>\n",
       "      <td>10</td>\n",
       "      <td>7</td>\n",
       "      <td>8</td>\n",
       "      <td>5</td>\n",
       "    </tr>\n",
       "    <tr>\n",
       "      <th>8</th>\n",
       "      <td>Запустить акцию, дающую скидку на товар в день...</td>\n",
       "      <td>1</td>\n",
       "      <td>9</td>\n",
       "      <td>9</td>\n",
       "      <td>5</td>\n",
       "    </tr>\n",
       "  </tbody>\n",
       "</table>\n",
       "</div>"
      ],
      "text/plain": [
       "                                          Hypothesis  Reach  Impact  \\\n",
       "0  Добавить два новых канала привлечения трафика,...      3      10   \n",
       "1  Запустить собственную службу доставки, что сок...      2       5   \n",
       "2  Добавить блоки рекомендаций товаров на сайт ин...      8       3   \n",
       "3  Изменить структура категорий, что увеличит кон...      8       3   \n",
       "4  Изменить цвет фона главной страницы, чтобы уве...      3       1   \n",
       "5  Добавить страницу отзывов клиентов о магазине,...      3       2   \n",
       "6  Показать на главной странице баннеры с актуаль...      5       3   \n",
       "7  Добавить форму подписки на все основные страни...     10       7   \n",
       "8  Запустить акцию, дающую скидку на товар в день...      1       9   \n",
       "\n",
       "   Confidence  Efforts  \n",
       "0           8        6  \n",
       "1           4       10  \n",
       "2           7        3  \n",
       "3           3        8  \n",
       "4           1        1  \n",
       "5           2        3  \n",
       "6           8        3  \n",
       "7           8        5  \n",
       "8           9        5  "
      ]
     },
     "execution_count": 3,
     "metadata": {},
     "output_type": "execute_result"
    }
   ],
   "source": [
    "data = pd.read_csv('/datasets/hypothesis.csv')\n",
    "data"
   ]
  },
  {
   "cell_type": "code",
   "execution_count": 4,
   "metadata": {},
   "outputs": [
    {
     "data": {
      "text/plain": [
       "array(['Добавить два новых канала привлечения трафика, что позволит привлекать на 30% больше пользователей',\n",
       "       'Запустить собственную службу доставки, что сократит срок доставки заказов',\n",
       "       'Добавить блоки рекомендаций товаров на сайт интернет магазина, чтобы повысить конверсию и средний чек заказа',\n",
       "       'Изменить структура категорий, что увеличит конверсию, т.к. пользователи быстрее найдут нужный товар',\n",
       "       'Изменить цвет фона главной страницы, чтобы увеличить вовлеченность пользователей',\n",
       "       'Добавить страницу отзывов клиентов о магазине, что позволит увеличить количество заказов',\n",
       "       'Показать на главной странице баннеры с актуальными акциями и распродажами, чтобы увеличить конверсию',\n",
       "       'Добавить форму подписки на все основные страницы, чтобы собрать базу клиентов для email-рассылок',\n",
       "       'Запустить акцию, дающую скидку на товар в день рождения'],\n",
       "      dtype=object)"
      ]
     },
     "execution_count": 4,
     "metadata": {},
     "output_type": "execute_result"
    }
   ],
   "source": [
    "data['Hypothesis'].unique()"
   ]
  },
  {
   "cell_type": "markdown",
   "metadata": {},
   "source": [
    "В данной части нет необходимости делать предобработку данных, так как таблица - оценка гипотез по параметрам. Сразу перейдем к выполнению по пунктам:"
   ]
  },
  {
   "cell_type": "markdown",
   "metadata": {},
   "source": [
    "#### Применим фреймворк ICE для приоритизации гипотез. Отсортируем их по убыванию приоритета"
   ]
  },
  {
   "cell_type": "code",
   "execution_count": 5,
   "metadata": {
    "scrolled": true
   },
   "outputs": [
    {
     "data": {
      "text/html": [
       "<div>\n",
       "<style scoped>\n",
       "    .dataframe tbody tr th:only-of-type {\n",
       "        vertical-align: middle;\n",
       "    }\n",
       "\n",
       "    .dataframe tbody tr th {\n",
       "        vertical-align: top;\n",
       "    }\n",
       "\n",
       "    .dataframe thead th {\n",
       "        text-align: right;\n",
       "    }\n",
       "</style>\n",
       "<table border=\"1\" class=\"dataframe\">\n",
       "  <thead>\n",
       "    <tr style=\"text-align: right;\">\n",
       "      <th></th>\n",
       "      <th>Hypothesis</th>\n",
       "      <th>ICE</th>\n",
       "    </tr>\n",
       "  </thead>\n",
       "  <tbody>\n",
       "    <tr>\n",
       "      <th>8</th>\n",
       "      <td>Запустить акцию, дающую скидку на товар в день...</td>\n",
       "      <td>16.20</td>\n",
       "    </tr>\n",
       "    <tr>\n",
       "      <th>0</th>\n",
       "      <td>Добавить два новых канала привлечения трафика,...</td>\n",
       "      <td>13.33</td>\n",
       "    </tr>\n",
       "    <tr>\n",
       "      <th>7</th>\n",
       "      <td>Добавить форму подписки на все основные страни...</td>\n",
       "      <td>11.20</td>\n",
       "    </tr>\n",
       "    <tr>\n",
       "      <th>6</th>\n",
       "      <td>Показать на главной странице баннеры с актуаль...</td>\n",
       "      <td>8.00</td>\n",
       "    </tr>\n",
       "    <tr>\n",
       "      <th>2</th>\n",
       "      <td>Добавить блоки рекомендаций товаров на сайт ин...</td>\n",
       "      <td>7.00</td>\n",
       "    </tr>\n",
       "    <tr>\n",
       "      <th>1</th>\n",
       "      <td>Запустить собственную службу доставки, что сок...</td>\n",
       "      <td>2.00</td>\n",
       "    </tr>\n",
       "    <tr>\n",
       "      <th>5</th>\n",
       "      <td>Добавить страницу отзывов клиентов о магазине,...</td>\n",
       "      <td>1.33</td>\n",
       "    </tr>\n",
       "    <tr>\n",
       "      <th>3</th>\n",
       "      <td>Изменить структура категорий, что увеличит кон...</td>\n",
       "      <td>1.12</td>\n",
       "    </tr>\n",
       "    <tr>\n",
       "      <th>4</th>\n",
       "      <td>Изменить цвет фона главной страницы, чтобы уве...</td>\n",
       "      <td>1.00</td>\n",
       "    </tr>\n",
       "  </tbody>\n",
       "</table>\n",
       "</div>"
      ],
      "text/plain": [
       "                                          Hypothesis    ICE\n",
       "8  Запустить акцию, дающую скидку на товар в день...  16.20\n",
       "0  Добавить два новых канала привлечения трафика,...  13.33\n",
       "7  Добавить форму подписки на все основные страни...  11.20\n",
       "6  Показать на главной странице баннеры с актуаль...   8.00\n",
       "2  Добавить блоки рекомендаций товаров на сайт ин...   7.00\n",
       "1  Запустить собственную службу доставки, что сок...   2.00\n",
       "5  Добавить страницу отзывов клиентов о магазине,...   1.33\n",
       "3  Изменить структура категорий, что увеличит кон...   1.12\n",
       "4  Изменить цвет фона главной страницы, чтобы уве...   1.00"
      ]
     },
     "execution_count": 5,
     "metadata": {},
     "output_type": "execute_result"
    }
   ],
   "source": [
    "data['ICE'] = round(data['Impact'] * data['Confidence'] / data['Efforts'], 2)\n",
    "\n",
    "data[['Hypothesis', 'ICE']].sort_values(by= 'ICE', ascending = False)"
   ]
  },
  {
   "cell_type": "markdown",
   "metadata": {},
   "source": [
    "Самыми приоритетными можно назвать гипотезы  с индексом 8, 0 и 7. Средними по приоритету гипотезы с индексом  6 и 2"
   ]
  },
  {
   "cell_type": "markdown",
   "metadata": {},
   "source": [
    "#### Применим фреймворк RICE для приоритизации гипотез. Отсортируем их по убыванию приоритета."
   ]
  },
  {
   "cell_type": "code",
   "execution_count": 6,
   "metadata": {},
   "outputs": [
    {
     "data": {
      "text/html": [
       "<div>\n",
       "<style scoped>\n",
       "    .dataframe tbody tr th:only-of-type {\n",
       "        vertical-align: middle;\n",
       "    }\n",
       "\n",
       "    .dataframe tbody tr th {\n",
       "        vertical-align: top;\n",
       "    }\n",
       "\n",
       "    .dataframe thead th {\n",
       "        text-align: right;\n",
       "    }\n",
       "</style>\n",
       "<table border=\"1\" class=\"dataframe\">\n",
       "  <thead>\n",
       "    <tr style=\"text-align: right;\">\n",
       "      <th></th>\n",
       "      <th>Hypothesis</th>\n",
       "      <th>RICE</th>\n",
       "    </tr>\n",
       "  </thead>\n",
       "  <tbody>\n",
       "    <tr>\n",
       "      <th>7</th>\n",
       "      <td>Добавить форму подписки на все основные страни...</td>\n",
       "      <td>112.0</td>\n",
       "    </tr>\n",
       "    <tr>\n",
       "      <th>2</th>\n",
       "      <td>Добавить блоки рекомендаций товаров на сайт ин...</td>\n",
       "      <td>56.0</td>\n",
       "    </tr>\n",
       "    <tr>\n",
       "      <th>0</th>\n",
       "      <td>Добавить два новых канала привлечения трафика,...</td>\n",
       "      <td>40.0</td>\n",
       "    </tr>\n",
       "    <tr>\n",
       "      <th>6</th>\n",
       "      <td>Показать на главной странице баннеры с актуаль...</td>\n",
       "      <td>40.0</td>\n",
       "    </tr>\n",
       "    <tr>\n",
       "      <th>8</th>\n",
       "      <td>Запустить акцию, дающую скидку на товар в день...</td>\n",
       "      <td>16.2</td>\n",
       "    </tr>\n",
       "    <tr>\n",
       "      <th>3</th>\n",
       "      <td>Изменить структура категорий, что увеличит кон...</td>\n",
       "      <td>9.0</td>\n",
       "    </tr>\n",
       "    <tr>\n",
       "      <th>1</th>\n",
       "      <td>Запустить собственную службу доставки, что сок...</td>\n",
       "      <td>4.0</td>\n",
       "    </tr>\n",
       "    <tr>\n",
       "      <th>5</th>\n",
       "      <td>Добавить страницу отзывов клиентов о магазине,...</td>\n",
       "      <td>4.0</td>\n",
       "    </tr>\n",
       "    <tr>\n",
       "      <th>4</th>\n",
       "      <td>Изменить цвет фона главной страницы, чтобы уве...</td>\n",
       "      <td>3.0</td>\n",
       "    </tr>\n",
       "  </tbody>\n",
       "</table>\n",
       "</div>"
      ],
      "text/plain": [
       "                                          Hypothesis   RICE\n",
       "7  Добавить форму подписки на все основные страни...  112.0\n",
       "2  Добавить блоки рекомендаций товаров на сайт ин...   56.0\n",
       "0  Добавить два новых канала привлечения трафика,...   40.0\n",
       "6  Показать на главной странице баннеры с актуаль...   40.0\n",
       "8  Запустить акцию, дающую скидку на товар в день...   16.2\n",
       "3  Изменить структура категорий, что увеличит кон...    9.0\n",
       "1  Запустить собственную службу доставки, что сок...    4.0\n",
       "5  Добавить страницу отзывов клиентов о магазине,...    4.0\n",
       "4  Изменить цвет фона главной страницы, чтобы уве...    3.0"
      ]
     },
     "execution_count": 6,
     "metadata": {},
     "output_type": "execute_result"
    }
   ],
   "source": [
    "data['RICE'] = round(data['Reach'] * data['Impact'] * data['Confidence'] / data['Efforts'],2)\n",
    "\n",
    "data[['Hypothesis', 'RICE']].sort_values(by = 'RICE', ascending = False)"
   ]
  },
  {
   "cell_type": "markdown",
   "metadata": {},
   "source": [
    "В лидерах остались те же гипотезы, что и при применении ICE, однако порядок и разрыв между ними изменился: \n",
    "\n",
    "Первой по приоритетности можно назвать гипотезу с индексом 7: \"Добавить форму подписки на все основные страницы, чтобы собрать базу клиентов для email-рассылок\"  (в ICE она была только на 3-ем месте).Ее значения в половину больше, чем у гипотезы, занимающее второе место. Следующими, с примерно одинаковымы значениями, следуют гипотезы с индексами 2, 0, 6.\n",
    "\n",
    "Гипотеза под индексом 8 получила достаточно низкое значение и не включена в лидеры (хотя в ICE имела самый высокий результат)"
   ]
  },
  {
   "cell_type": "markdown",
   "metadata": {},
   "source": [
    "Причина различия результатов при применении разных фреймворков: \n",
    "\n",
    "фреймворки ICE и RICE отличаются параметром Reach - показатель охвата пользователей, которых затронет данное изменение. Добавление этого показателя и привело к изменению результата. Например, гипотеза с индексом 8 не изменила свое значение при проведения RICE, а значит,  она практически не затронет основную массу пользователей "
   ]
  },
  {
   "cell_type": "markdown",
   "metadata": {},
   "source": [
    "### Часть. Анализ A/B-теста"
   ]
  },
  {
   "cell_type": "code",
   "execution_count": 7,
   "metadata": {
    "scrolled": false
   },
   "outputs": [
    {
     "data": {
      "text/html": [
       "<div>\n",
       "<style scoped>\n",
       "    .dataframe tbody tr th:only-of-type {\n",
       "        vertical-align: middle;\n",
       "    }\n",
       "\n",
       "    .dataframe tbody tr th {\n",
       "        vertical-align: top;\n",
       "    }\n",
       "\n",
       "    .dataframe thead th {\n",
       "        text-align: right;\n",
       "    }\n",
       "</style>\n",
       "<table border=\"1\" class=\"dataframe\">\n",
       "  <thead>\n",
       "    <tr style=\"text-align: right;\">\n",
       "      <th></th>\n",
       "      <th>transactionId</th>\n",
       "      <th>visitorId</th>\n",
       "      <th>date</th>\n",
       "      <th>revenue</th>\n",
       "      <th>group</th>\n",
       "    </tr>\n",
       "  </thead>\n",
       "  <tbody>\n",
       "    <tr>\n",
       "      <th>0</th>\n",
       "      <td>3667963787</td>\n",
       "      <td>3312258926</td>\n",
       "      <td>2019-08-15</td>\n",
       "      <td>1650</td>\n",
       "      <td>B</td>\n",
       "    </tr>\n",
       "    <tr>\n",
       "      <th>1</th>\n",
       "      <td>2804400009</td>\n",
       "      <td>3642806036</td>\n",
       "      <td>2019-08-15</td>\n",
       "      <td>730</td>\n",
       "      <td>B</td>\n",
       "    </tr>\n",
       "    <tr>\n",
       "      <th>2</th>\n",
       "      <td>2961555356</td>\n",
       "      <td>4069496402</td>\n",
       "      <td>2019-08-15</td>\n",
       "      <td>400</td>\n",
       "      <td>A</td>\n",
       "    </tr>\n",
       "    <tr>\n",
       "      <th>3</th>\n",
       "      <td>3797467345</td>\n",
       "      <td>1196621759</td>\n",
       "      <td>2019-08-15</td>\n",
       "      <td>9759</td>\n",
       "      <td>B</td>\n",
       "    </tr>\n",
       "    <tr>\n",
       "      <th>4</th>\n",
       "      <td>2282983706</td>\n",
       "      <td>2322279887</td>\n",
       "      <td>2019-08-15</td>\n",
       "      <td>2308</td>\n",
       "      <td>B</td>\n",
       "    </tr>\n",
       "  </tbody>\n",
       "</table>\n",
       "</div>"
      ],
      "text/plain": [
       "   transactionId   visitorId        date  revenue group\n",
       "0     3667963787  3312258926  2019-08-15     1650     B\n",
       "1     2804400009  3642806036  2019-08-15      730     B\n",
       "2     2961555356  4069496402  2019-08-15      400     A\n",
       "3     3797467345  1196621759  2019-08-15     9759     B\n",
       "4     2282983706  2322279887  2019-08-15     2308     B"
      ]
     },
     "metadata": {},
     "output_type": "display_data"
    },
    {
     "data": {
      "text/html": [
       "<div>\n",
       "<style scoped>\n",
       "    .dataframe tbody tr th:only-of-type {\n",
       "        vertical-align: middle;\n",
       "    }\n",
       "\n",
       "    .dataframe tbody tr th {\n",
       "        vertical-align: top;\n",
       "    }\n",
       "\n",
       "    .dataframe thead th {\n",
       "        text-align: right;\n",
       "    }\n",
       "</style>\n",
       "<table border=\"1\" class=\"dataframe\">\n",
       "  <thead>\n",
       "    <tr style=\"text-align: right;\">\n",
       "      <th></th>\n",
       "      <th>date</th>\n",
       "      <th>group</th>\n",
       "      <th>visitors</th>\n",
       "    </tr>\n",
       "  </thead>\n",
       "  <tbody>\n",
       "    <tr>\n",
       "      <th>0</th>\n",
       "      <td>2019-08-01</td>\n",
       "      <td>A</td>\n",
       "      <td>719</td>\n",
       "    </tr>\n",
       "    <tr>\n",
       "      <th>1</th>\n",
       "      <td>2019-08-02</td>\n",
       "      <td>A</td>\n",
       "      <td>619</td>\n",
       "    </tr>\n",
       "    <tr>\n",
       "      <th>2</th>\n",
       "      <td>2019-08-03</td>\n",
       "      <td>A</td>\n",
       "      <td>507</td>\n",
       "    </tr>\n",
       "    <tr>\n",
       "      <th>3</th>\n",
       "      <td>2019-08-04</td>\n",
       "      <td>A</td>\n",
       "      <td>717</td>\n",
       "    </tr>\n",
       "    <tr>\n",
       "      <th>4</th>\n",
       "      <td>2019-08-05</td>\n",
       "      <td>A</td>\n",
       "      <td>756</td>\n",
       "    </tr>\n",
       "  </tbody>\n",
       "</table>\n",
       "</div>"
      ],
      "text/plain": [
       "         date group  visitors\n",
       "0  2019-08-01     A       719\n",
       "1  2019-08-02     A       619\n",
       "2  2019-08-03     A       507\n",
       "3  2019-08-04     A       717\n",
       "4  2019-08-05     A       756"
      ]
     },
     "execution_count": 7,
     "metadata": {},
     "output_type": "execute_result"
    }
   ],
   "source": [
    "orders = pd.read_csv('/datasets/orders.csv')\n",
    "visitors = pd.read_csv('/datasets/visitors.csv')\n",
    "\n",
    "display(orders.head(5))\n",
    "visitors.head(5)"
   ]
  },
  {
   "cell_type": "code",
   "execution_count": 8,
   "metadata": {
    "scrolled": true
   },
   "outputs": [
    {
     "name": "stdout",
     "output_type": "stream",
     "text": [
      "<class 'pandas.core.frame.DataFrame'>\n",
      "RangeIndex: 1197 entries, 0 to 1196\n",
      "Data columns (total 5 columns):\n",
      " #   Column         Non-Null Count  Dtype \n",
      "---  ------         --------------  ----- \n",
      " 0   transactionId  1197 non-null   int64 \n",
      " 1   visitorId      1197 non-null   int64 \n",
      " 2   date           1197 non-null   object\n",
      " 3   revenue        1197 non-null   int64 \n",
      " 4   group          1197 non-null   object\n",
      "dtypes: int64(3), object(2)\n",
      "memory usage: 46.9+ KB\n"
     ]
    },
    {
     "data": {
      "text/plain": [
       "None"
      ]
     },
     "metadata": {},
     "output_type": "display_data"
    },
    {
     "name": "stdout",
     "output_type": "stream",
     "text": [
      "<class 'pandas.core.frame.DataFrame'>\n",
      "RangeIndex: 62 entries, 0 to 61\n",
      "Data columns (total 3 columns):\n",
      " #   Column    Non-Null Count  Dtype \n",
      "---  ------    --------------  ----- \n",
      " 0   date      62 non-null     object\n",
      " 1   group     62 non-null     object\n",
      " 2   visitors  62 non-null     int64 \n",
      "dtypes: int64(1), object(2)\n",
      "memory usage: 1.6+ KB\n"
     ]
    }
   ],
   "source": [
    "display(orders.info())\n",
    "visitors.info()"
   ]
  },
  {
   "cell_type": "markdown",
   "metadata": {},
   "source": [
    "В данных нет пропусков, но тип данных в столбцах date обеих таблиц следует заменить на datetime"
   ]
  },
  {
   "cell_type": "code",
   "execution_count": 9,
   "metadata": {},
   "outputs": [],
   "source": [
    "orders['date'] = orders['date'].map(\n",
    "    lambda x: dt.datetime.strptime(x, '%Y-%m-%d')\n",
    ")\n",
    "visitors['date'] = visitors['date'].map(\n",
    "    lambda x: dt.datetime.strptime(x, '%Y-%m-%d')\n",
    ")"
   ]
  },
  {
   "cell_type": "markdown",
   "metadata": {},
   "source": [
    "проверим данные на наличие дубликатов "
   ]
  },
  {
   "cell_type": "code",
   "execution_count": 10,
   "metadata": {},
   "outputs": [
    {
     "data": {
      "text/plain": [
       "0"
      ]
     },
     "metadata": {},
     "output_type": "display_data"
    },
    {
     "data": {
      "text/plain": [
       "0"
      ]
     },
     "execution_count": 10,
     "metadata": {},
     "output_type": "execute_result"
    }
   ],
   "source": [
    "display(orders.duplicated().sum())\n",
    "visitors.duplicated().sum()"
   ]
  },
  {
   "cell_type": "markdown",
   "metadata": {},
   "source": [
    "дубликаты не обнаружены"
   ]
  },
  {
   "cell_type": "markdown",
   "metadata": {},
   "source": [
    "#### Построим график кумулятивной выручки по группам. Сделаем выводы и предположения."
   ]
  },
  {
   "cell_type": "markdown",
   "metadata": {},
   "source": [
    "Для того, чтобы построить график кумулятивной выручки, необходимо для начала подготовить данные для построения. Подробно опишем каждый шаг:"
   ]
  },
  {
   "cell_type": "code",
   "execution_count": 11,
   "metadata": {},
   "outputs": [
    {
     "data": {
      "text/html": [
       "<div>\n",
       "<style scoped>\n",
       "    .dataframe tbody tr th:only-of-type {\n",
       "        vertical-align: middle;\n",
       "    }\n",
       "\n",
       "    .dataframe tbody tr th {\n",
       "        vertical-align: top;\n",
       "    }\n",
       "\n",
       "    .dataframe thead th {\n",
       "        text-align: right;\n",
       "    }\n",
       "</style>\n",
       "<table border=\"1\" class=\"dataframe\">\n",
       "  <thead>\n",
       "    <tr style=\"text-align: right;\">\n",
       "      <th></th>\n",
       "      <th>date</th>\n",
       "      <th>group</th>\n",
       "      <th>orders</th>\n",
       "      <th>buyers</th>\n",
       "      <th>revenue</th>\n",
       "      <th>visitors</th>\n",
       "    </tr>\n",
       "  </thead>\n",
       "  <tbody>\n",
       "    <tr>\n",
       "      <th>0</th>\n",
       "      <td>2019-08-01</td>\n",
       "      <td>A</td>\n",
       "      <td>24</td>\n",
       "      <td>20</td>\n",
       "      <td>148579</td>\n",
       "      <td>719</td>\n",
       "    </tr>\n",
       "    <tr>\n",
       "      <th>1</th>\n",
       "      <td>2019-08-01</td>\n",
       "      <td>B</td>\n",
       "      <td>21</td>\n",
       "      <td>20</td>\n",
       "      <td>101217</td>\n",
       "      <td>713</td>\n",
       "    </tr>\n",
       "    <tr>\n",
       "      <th>2</th>\n",
       "      <td>2019-08-02</td>\n",
       "      <td>A</td>\n",
       "      <td>44</td>\n",
       "      <td>38</td>\n",
       "      <td>242401</td>\n",
       "      <td>1338</td>\n",
       "    </tr>\n",
       "    <tr>\n",
       "      <th>3</th>\n",
       "      <td>2019-08-02</td>\n",
       "      <td>B</td>\n",
       "      <td>45</td>\n",
       "      <td>43</td>\n",
       "      <td>266748</td>\n",
       "      <td>1294</td>\n",
       "    </tr>\n",
       "    <tr>\n",
       "      <th>4</th>\n",
       "      <td>2019-08-03</td>\n",
       "      <td>A</td>\n",
       "      <td>68</td>\n",
       "      <td>62</td>\n",
       "      <td>354874</td>\n",
       "      <td>1845</td>\n",
       "    </tr>\n",
       "    <tr>\n",
       "      <th>5</th>\n",
       "      <td>2019-08-03</td>\n",
       "      <td>B</td>\n",
       "      <td>61</td>\n",
       "      <td>59</td>\n",
       "      <td>380996</td>\n",
       "      <td>1803</td>\n",
       "    </tr>\n",
       "    <tr>\n",
       "      <th>6</th>\n",
       "      <td>2019-08-04</td>\n",
       "      <td>A</td>\n",
       "      <td>84</td>\n",
       "      <td>77</td>\n",
       "      <td>425699</td>\n",
       "      <td>2562</td>\n",
       "    </tr>\n",
       "    <tr>\n",
       "      <th>7</th>\n",
       "      <td>2019-08-04</td>\n",
       "      <td>B</td>\n",
       "      <td>78</td>\n",
       "      <td>75</td>\n",
       "      <td>489567</td>\n",
       "      <td>2573</td>\n",
       "    </tr>\n",
       "    <tr>\n",
       "      <th>8</th>\n",
       "      <td>2019-08-05</td>\n",
       "      <td>A</td>\n",
       "      <td>109</td>\n",
       "      <td>100</td>\n",
       "      <td>549917</td>\n",
       "      <td>3318</td>\n",
       "    </tr>\n",
       "    <tr>\n",
       "      <th>9</th>\n",
       "      <td>2019-08-05</td>\n",
       "      <td>B</td>\n",
       "      <td>101</td>\n",
       "      <td>98</td>\n",
       "      <td>581995</td>\n",
       "      <td>3280</td>\n",
       "    </tr>\n",
       "  </tbody>\n",
       "</table>\n",
       "</div>"
      ],
      "text/plain": [
       "        date group  orders  buyers  revenue  visitors\n",
       "0 2019-08-01     A      24      20   148579       719\n",
       "1 2019-08-01     B      21      20   101217       713\n",
       "2 2019-08-02     A      44      38   242401      1338\n",
       "3 2019-08-02     B      45      43   266748      1294\n",
       "4 2019-08-03     A      68      62   354874      1845\n",
       "5 2019-08-03     B      61      59   380996      1803\n",
       "6 2019-08-04     A      84      77   425699      2562\n",
       "7 2019-08-04     B      78      75   489567      2573\n",
       "8 2019-08-05     A     109     100   549917      3318\n",
       "9 2019-08-05     B     101      98   581995      3280"
      ]
     },
     "execution_count": 11,
     "metadata": {},
     "output_type": "execute_result"
    }
   ],
   "source": [
    "#Создаем df с уникальными значениями в date и group\n",
    "\n",
    "datesGroups = orders[['date', 'group']].drop_duplicates()\n",
    "\n",
    "\n",
    "#находим число заказов, пользователей и выручку для каждой группы в таблице orders\n",
    "ordersAggregated = (datesGroups.apply(lambda x: orders[np.logical_and(orders['date'] <= x['date'],\n",
    "                                                                      orders['group'] == x['group'])]\\\n",
    "                                      .agg({'date' : 'max', \n",
    "                                            'group' : 'max', \n",
    "                                            'transactionId' : 'nunique', \n",
    "                                            'visitorId' : 'nunique', \n",
    "                                            'revenue' : 'sum'}), axis=1)\n",
    "                    .sort_values(by=['date','group']) )\n",
    "\n",
    "# находим количество уникальных пользователей для каждой группы  в таблице visitors\n",
    "visitorsAggregated = (datesGroups.apply(lambda x: visitors[np.logical_and(visitors['date'] <= x['date'],\n",
    "                                                                          visitors['group'] == x['group'])]\n",
    "                                        .agg({'date' : 'max',\n",
    "                                              'group' : 'max',\n",
    "                                              'visitors' : 'sum'}), axis=1)\n",
    "                      .sort_values(by=['date','group'])) \n",
    "\n",
    "# соединяем ordersAggregated и visitorsAggregated по паре 'date'-'group'\n",
    "cumulativeData = ordersAggregated.merge(visitorsAggregated, \n",
    "                                        left_on=['date', 'group'], \n",
    "                                         right_on=['date', 'group'])\n",
    "cumulativeData.columns = ['date', 'group', 'orders', 'buyers', 'revenue', 'visitors' ]\n",
    "\n",
    "cumulativeData.head(10)"
   ]
  },
  {
   "cell_type": "markdown",
   "metadata": {},
   "source": [
    "Проверим, не пересекаются ли пользователи каждой из групп между собой:"
   ]
  },
  {
   "cell_type": "code",
   "execution_count": 30,
   "metadata": {},
   "outputs": [
    {
     "data": {
      "text/plain": [
       "group    58\n",
       "dtype: int64"
      ]
     },
     "execution_count": 30,
     "metadata": {},
     "output_type": "execute_result"
    }
   ],
   "source": [
    "a = orders.groupby(by = 'visitorId').agg({'group': 'nunique'})\n",
    "\n",
    "a[a['group']>1].count()"
   ]
  },
  {
   "cell_type": "markdown",
   "metadata": {},
   "source": [
    "Количество пользователей, которое пересекаются между группами относительное небольшое. Примем решение оставить их при проведении А\\В теста"
   ]
  },
  {
   "cell_type": "markdown",
   "metadata": {},
   "source": [
    "Отлично, теперь строим график функции:"
   ]
  },
  {
   "cell_type": "code",
   "execution_count": 14,
   "metadata": {
    "scrolled": true
   },
   "outputs": [
    {
     "data": {
      "image/png": "[encoded data removed]",
      "text/plain": [
       "<Figure size 1080x288 with 1 Axes>"
      ]
     },
     "metadata": {
      "needs_background": "light"
     },
     "output_type": "display_data"
    }
   ],
   "source": [
    "# отделяем группы для построения графика \n",
    "cumulativeRevenueA = cumulativeData[cumulativeData['group'] == 'A'][\n",
    "    ['date', 'revenue', 'orders']\n",
    "]\n",
    "\n",
    "cumulativeRevenueB = cumulativeData[cumulativeData['group'] == 'B'][\n",
    "    ['date', 'revenue', 'orders']\n",
    "]\n",
    "\n",
    "fig, ax = plt.subplots(figsize=(15, 4))\n",
    "plt.plot(cumulativeRevenueA['date'], cumulativeRevenueA['revenue'], label='A')\n",
    "plt.plot(cumulativeRevenueB['date'], cumulativeRevenueB['revenue'], label='B')\n",
    "plt.title('график кумулятивной выручки по группам')\n",
    "plt.xlabel('дата')\n",
    "plt.ylabel('кумулятивная выручка')\n",
    "plt.legend();"
   ]
  },
  {
   "cell_type": "markdown",
   "metadata": {},
   "source": [
    "Практически с самого начала теста группа В показывала более лучший результат, чем группа А. Однако, в определенный момент произошел резкий скачок в группе В - это могут быть или выбросы, или недостаточное время проведения теста (данные не успели прийти в норму)."
   ]
  },
  {
   "cell_type": "markdown",
   "metadata": {},
   "source": [
    "#### Построим график кумулятивного среднего чека по группам. Сделаем выводы и предположения."
   ]
  },
  {
   "cell_type": "code",
   "execution_count": 15,
   "metadata": {},
   "outputs": [
    {
     "data": {
      "image/png": "[encoded data removed]",
      "text/plain": [
       "<Figure size 1080x288 with 1 Axes>"
      ]
     },
     "metadata": {
      "needs_background": "light"
     },
     "output_type": "display_data"
    }
   ],
   "source": [
    "fig, ax = plt.subplots(figsize=(15, 4))\n",
    "plt.plot(cumulativeRevenueA['date'], cumulativeRevenueA['revenue']/cumulativeRevenueA['orders'], label='A')\n",
    "plt.plot(cumulativeRevenueB['date'], cumulativeRevenueB['revenue']/cumulativeRevenueB['orders'], label='B')\n",
    "plt.title('график кумулятивного среднего чека по группам')\n",
    "plt.xlabel('дата')\n",
    "plt.ylabel('кумулятивный средний чек')\n",
    "plt.legend();"
   ]
  },
  {
   "cell_type": "markdown",
   "metadata": {},
   "source": [
    "Средний чек группы А был стабильно выше, чем чек группы В. Но тут опять мы видим сильный единоразовый скачок. Кажется, что дело все-таки в выбросах, но утверждать пока мы не можем"
   ]
  },
  {
   "cell_type": "markdown",
   "metadata": {},
   "source": [
    "#### Построим график относительного изменения кумулятивного среднего чека группы B к группе A. Сделаем выводы и предположения."
   ]
  },
  {
   "cell_type": "code",
   "execution_count": 16,
   "metadata": {
    "scrolled": true
   },
   "outputs": [
    {
     "data": {
      "image/png": "[encoded data removed]",
      "text/plain": [
       "<Figure size 1080x288 with 1 Axes>"
      ]
     },
     "metadata": {
      "needs_background": "light"
     },
     "output_type": "display_data"
    }
   ],
   "source": [
    "#объединяем таблицы cumulativeRevenueA и umulativeRevenueB\n",
    "\n",
    "mergedCumulativeRevenue = cumulativeRevenueA.merge(cumulativeRevenueB, \n",
    "                                                   left_on='date', \n",
    "                                                   right_on='date', \n",
    "                                                   how='left',\n",
    "                                                   suffixes=['A', 'B'])\n",
    "\n",
    "# cтроим отношение средних чеков\n",
    "fig, ax = plt.subplots(figsize=(15, 4))\n",
    "plt.plot(mergedCumulativeRevenue['date'], (mergedCumulativeRevenue['revenueB']/mergedCumulativeRevenue['ordersB'])\n",
    "         /(mergedCumulativeRevenue['revenueA']/mergedCumulativeRevenue['ordersA'])-1)\n",
    "\n",
    "# добавляем ось X\n",
    "plt.axhline(y=0, color='black', linestyle='--');\n",
    "plt.title('график отношения среднего чека группы В к группе А ')\n",
    "plt.xlabel('дата')\n",
    "plt.ylabel('доля от группы А ');"
   ]
  },
  {
   "cell_type": "markdown",
   "metadata": {},
   "source": [
    "Данные за период несколько раз колебались. Аномальные продажи точно имеют место быть "
   ]
  },
  {
   "cell_type": "markdown",
   "metadata": {},
   "source": [
    "#### Построим график кумулятивного среднего количества заказов на посетителя по группам. Сделаем выводы и предположения."
   ]
  },
  {
   "cell_type": "code",
   "execution_count": 17,
   "metadata": {
    "scrolled": true
   },
   "outputs": [
    {
     "data": {
      "image/png": "[encoded data removed]",
      "text/plain": [
       "<Figure size 1080x288 with 1 Axes>"
      ]
     },
     "metadata": {
      "needs_background": "light"
     },
     "output_type": "display_data"
    }
   ],
   "source": [
    "# считаем столб с конверсией (умножаем на 100 для наглдности процентов)\n",
    "cumulativeData['conversion'] = cumulativeData['orders']/cumulativeData['visitors'] * 100\n",
    "\n",
    "# и обновляем все переменные \n",
    "cumulativeDataA = cumulativeData[cumulativeData['group']=='A']\n",
    "cumulativeDataB = cumulativeData[cumulativeData['group']=='B']\n",
    "\n",
    "fig, ax = plt.subplots(figsize=(15, 4))\n",
    "plt.plot(cumulativeDataA['date'], cumulativeDataA['conversion'], label='A')\n",
    "plt.plot(cumulativeDataB['date'], cumulativeDataB['conversion'], label='B')\n",
    "plt.title('график кумулятивного среднего количества заказов на посетителя по группам ')\n",
    "plt.xlabel('дата')\n",
    "plt.ylabel('среднее количество заказов ')\n",
    "plt.legend();"
   ]
  },
  {
   "cell_type": "markdown",
   "metadata": {},
   "source": [
    "Графики двух групп выглядят нормально. Сильный скачок в начале и примерно одинаковые данные после (разница между значениями не превышает 1-2%). Но точно говорить о том, что данные пришли в норму пока нельзя- динамика группы В постепенно снижается. Посмотрим на отношение среднего чека группы В к группе А:"
   ]
  },
  {
   "cell_type": "markdown",
   "metadata": {},
   "source": [
    "#### Построим график относительного изменения кумулятивного среднего количества заказов на посетителя группы B к группе A. Сделаем выводы и предположения."
   ]
  },
  {
   "cell_type": "code",
   "execution_count": 18,
   "metadata": {
    "scrolled": true
   },
   "outputs": [
    {
     "data": {
      "image/png": "[encoded data removed]",
      "text/plain": [
       "<Figure size 1080x288 with 1 Axes>"
      ]
     },
     "metadata": {
      "needs_background": "light"
     },
     "output_type": "display_data"
    }
   ],
   "source": [
    "mergedCumulativeConversions = (cumulativeDataA[['date','conversion']]\n",
    "                               .merge(cumulativeDataB[['date','conversion']],\n",
    "                                      left_on='date',\n",
    "                                      right_on='date',\n",
    "                                      how='left',\n",
    "                                      suffixes=['A', 'B']))\n",
    "\n",
    "fig, ax = plt.subplots(figsize=(15, 4))\n",
    "plt.plot(mergedCumulativeConversions['date'],\n",
    "         mergedCumulativeConversions['conversionB']/mergedCumulativeConversions['conversionA']-1,\n",
    "         label=\"Относительный прирост конверсии группы B относительно группы A\")\n",
    "plt.title('относительного изменения кумулятивного среднего количества заказов на посетителя группы B к группе A ')\n",
    "plt.xlabel('дата')\n",
    "plt.ylabel('доля от группы А ')\n",
    "plt.legend()\n",
    "\n",
    "plt.axhline(y=0, color='black', linestyle='--')\n",
    "plt.axhline(y=0.2, color='grey', linestyle='--');"
   ]
  },
  {
   "cell_type": "markdown",
   "metadata": {},
   "source": [
    "Видим, что конверсия группы В росла относительно группы А до 20%, а после начала снижаться "
   ]
  },
  {
   "cell_type": "markdown",
   "metadata": {},
   "source": [
    "#### Построим точечный график количества заказов по пользователям. Сделаем выводы и предположения."
   ]
  },
  {
   "cell_type": "code",
   "execution_count": 19,
   "metadata": {
    "scrolled": true
   },
   "outputs": [
    {
     "data": {
      "text/plain": [
       "''"
      ]
     },
     "execution_count": 19,
     "metadata": {},
     "output_type": "execute_result"
    },
    {
     "data": {
      "image/png": "[encoded data removed]",
      "text/plain": [
       "<Figure size 432x288 with 1 Axes>"
      ]
     },
     "metadata": {
      "needs_background": "light"
     },
     "output_type": "display_data"
    }
   ],
   "source": [
    "#создаем таблицу, где посчитано сколько раз каждый уникальный пользователей совершил заказов \n",
    "\n",
    "ordersByUsers = (\n",
    "    orders.groupby('visitorId', as_index=False)\n",
    "    .agg({'transactionId': 'nunique'})\n",
    ")\n",
    "ordersByUsers.columns = ['transactionId', 'orders']\n",
    "\n",
    "x_values = pd.Series(range(0, len(ordersByUsers)))\n",
    "\n",
    "plt.scatter(x = x_values, y = ordersByUsers['orders'] )\n",
    ";"
   ]
  },
  {
   "cell_type": "markdown",
   "metadata": {},
   "source": [
    "Пользователи в среднем совершают заказы  1 или 2, а, возможно, и 3 раза, но не совсем понятно, какое кол-во заказов считается хоть и высоким, но в пределах нормы, а какое - выбросом "
   ]
  },
  {
   "cell_type": "markdown",
   "metadata": {},
   "source": [
    "#### Посчитаем 95-й и 99-й перцентили количества заказов на пользователя. Выберите границу для определения аномальных пользователей."
   ]
  },
  {
   "cell_type": "code",
   "execution_count": 20,
   "metadata": {},
   "outputs": [
    {
     "data": {
      "text/plain": [
       "array([2., 4.])"
      ]
     },
     "execution_count": 20,
     "metadata": {},
     "output_type": "execute_result"
    }
   ],
   "source": [
    "np.percentile(ordersByUsers['orders'], [95,99]) "
   ]
  },
  {
   "cell_type": "markdown",
   "metadata": {},
   "source": [
    "Менее 5% пользователей совершили более 2х заказов, менее 1% - 4. Устанавливаем верхнюю границу в 2 заказа "
   ]
  },
  {
   "cell_type": "markdown",
   "metadata": {},
   "source": [
    "#### Построим точечный график стоимостей заказов. Сделаем выводы и предположения."
   ]
  },
  {
   "cell_type": "code",
   "execution_count": 21,
   "metadata": {
    "scrolled": true
   },
   "outputs": [
    {
     "data": {
      "image/png": "[encoded data removed]",
      "text/plain": [
       "<Figure size 432x288 with 1 Axes>"
      ]
     },
     "metadata": {
      "needs_background": "light"
     },
     "output_type": "display_data"
    }
   ],
   "source": [
    "\n",
    "x_values = pd.Series(range(0, len(orders['revenue'])))\n",
    "\n",
    "plt.scatter(x_values, orders['revenue']);"
   ]
  },
  {
   "cell_type": "markdown",
   "metadata": {},
   "source": [
    "По графику опять-таки, сложно понять, где прилегает верхняя граница нормы. Рассмотрим ее через перцентили "
   ]
  },
  {
   "cell_type": "markdown",
   "metadata": {},
   "source": [
    "#### Посчитаем 95-й и 99-й перцентили стоимости заказов. Выберем границу для определения аномальных заказов."
   ]
  },
  {
   "cell_type": "code",
   "execution_count": 22,
   "metadata": {
    "scrolled": true
   },
   "outputs": [
    {
     "data": {
      "text/plain": [
       "array([28000. , 58233.2])"
      ]
     },
     "execution_count": 22,
     "metadata": {},
     "output_type": "execute_result"
    }
   ],
   "source": [
    "np.percentile(orders['revenue'], [95,99])"
   ]
  },
  {
   "cell_type": "markdown",
   "metadata": {},
   "source": [
    "Верхней границей устанавливаем сумму заказа - 28000, так как менее 5% пользователей совершили заказ на более высокую сумму "
   ]
  },
  {
   "cell_type": "markdown",
   "metadata": {},
   "source": [
    "#### Посчитаем статистическую значимость различий в среднем количестве заказов на посетителя между группами по «сырым» данным. Сделаем выводы и предположения."
   ]
  },
  {
   "cell_type": "markdown",
   "metadata": {},
   "source": [
    "Для того, чтобы выполнить следующие шаги, необходимо опять подготовить данные:"
   ]
  },
  {
   "cell_type": "code",
   "execution_count": 23,
   "metadata": {
    "scrolled": true
   },
   "outputs": [
    {
     "data": {
      "text/html": [
       "<div>\n",
       "<style scoped>\n",
       "    .dataframe tbody tr th:only-of-type {\n",
       "        vertical-align: middle;\n",
       "    }\n",
       "\n",
       "    .dataframe tbody tr th {\n",
       "        vertical-align: top;\n",
       "    }\n",
       "\n",
       "    .dataframe thead th {\n",
       "        text-align: right;\n",
       "    }\n",
       "</style>\n",
       "<table border=\"1\" class=\"dataframe\">\n",
       "  <thead>\n",
       "    <tr style=\"text-align: right;\">\n",
       "      <th></th>\n",
       "      <th>date</th>\n",
       "      <th>ordersPerDateA</th>\n",
       "      <th>revenuePerDateA</th>\n",
       "      <th>ordersPerDateB</th>\n",
       "      <th>revenuePerDateB</th>\n",
       "      <th>ordersCummulativeA</th>\n",
       "      <th>revenueCummulativeA</th>\n",
       "      <th>ordersCummulativeB</th>\n",
       "      <th>revenueCummulativeB</th>\n",
       "      <th>visitorsPerDateA</th>\n",
       "      <th>visitorsPerDateB</th>\n",
       "      <th>visitorsCummulativeA</th>\n",
       "      <th>visitorsCummulativeB</th>\n",
       "    </tr>\n",
       "  </thead>\n",
       "  <tbody>\n",
       "    <tr>\n",
       "      <th>0</th>\n",
       "      <td>2019-08-01</td>\n",
       "      <td>24</td>\n",
       "      <td>148579</td>\n",
       "      <td>21</td>\n",
       "      <td>101217</td>\n",
       "      <td>24</td>\n",
       "      <td>148579</td>\n",
       "      <td>21</td>\n",
       "      <td>101217</td>\n",
       "      <td>719</td>\n",
       "      <td>713</td>\n",
       "      <td>719</td>\n",
       "      <td>713</td>\n",
       "    </tr>\n",
       "    <tr>\n",
       "      <th>1</th>\n",
       "      <td>2019-08-02</td>\n",
       "      <td>20</td>\n",
       "      <td>93822</td>\n",
       "      <td>24</td>\n",
       "      <td>165531</td>\n",
       "      <td>44</td>\n",
       "      <td>242401</td>\n",
       "      <td>45</td>\n",
       "      <td>266748</td>\n",
       "      <td>619</td>\n",
       "      <td>581</td>\n",
       "      <td>1338</td>\n",
       "      <td>1294</td>\n",
       "    </tr>\n",
       "    <tr>\n",
       "      <th>2</th>\n",
       "      <td>2019-08-03</td>\n",
       "      <td>24</td>\n",
       "      <td>112473</td>\n",
       "      <td>16</td>\n",
       "      <td>114248</td>\n",
       "      <td>68</td>\n",
       "      <td>354874</td>\n",
       "      <td>61</td>\n",
       "      <td>380996</td>\n",
       "      <td>507</td>\n",
       "      <td>509</td>\n",
       "      <td>1845</td>\n",
       "      <td>1803</td>\n",
       "    </tr>\n",
       "    <tr>\n",
       "      <th>3</th>\n",
       "      <td>2019-08-04</td>\n",
       "      <td>16</td>\n",
       "      <td>70825</td>\n",
       "      <td>17</td>\n",
       "      <td>108571</td>\n",
       "      <td>84</td>\n",
       "      <td>425699</td>\n",
       "      <td>78</td>\n",
       "      <td>489567</td>\n",
       "      <td>717</td>\n",
       "      <td>770</td>\n",
       "      <td>2562</td>\n",
       "      <td>2573</td>\n",
       "    </tr>\n",
       "    <tr>\n",
       "      <th>4</th>\n",
       "      <td>2019-08-05</td>\n",
       "      <td>25</td>\n",
       "      <td>124218</td>\n",
       "      <td>23</td>\n",
       "      <td>92428</td>\n",
       "      <td>109</td>\n",
       "      <td>549917</td>\n",
       "      <td>101</td>\n",
       "      <td>581995</td>\n",
       "      <td>756</td>\n",
       "      <td>707</td>\n",
       "      <td>3318</td>\n",
       "      <td>3280</td>\n",
       "    </tr>\n",
       "  </tbody>\n",
       "</table>\n",
       "</div>"
      ],
      "text/plain": [
       "        date  ordersPerDateA  revenuePerDateA  ordersPerDateB  \\\n",
       "0 2019-08-01              24           148579              21   \n",
       "1 2019-08-02              20            93822              24   \n",
       "2 2019-08-03              24           112473              16   \n",
       "3 2019-08-04              16            70825              17   \n",
       "4 2019-08-05              25           124218              23   \n",
       "\n",
       "   revenuePerDateB  ordersCummulativeA  revenueCummulativeA  \\\n",
       "0           101217                  24               148579   \n",
       "1           165531                  44               242401   \n",
       "2           114248                  68               354874   \n",
       "3           108571                  84               425699   \n",
       "4            92428                 109               549917   \n",
       "\n",
       "   ordersCummulativeB  revenueCummulativeB  visitorsPerDateA  \\\n",
       "0                  21               101217               719   \n",
       "1                  45               266748               619   \n",
       "2                  61               380996               507   \n",
       "3                  78               489567               717   \n",
       "4                 101               581995               756   \n",
       "\n",
       "   visitorsPerDateB  visitorsCummulativeA  visitorsCummulativeB  \n",
       "0               713                   719                   713  \n",
       "1               581                  1338                  1294  \n",
       "2               509                  1845                  1803  \n",
       "3               770                  2562                  2573  \n",
       "4               707                  3318                  3280  "
      ]
     },
     "execution_count": 23,
     "metadata": {},
     "output_type": "execute_result"
    }
   ],
   "source": [
    "# создаем новые df по каждой группе, где есть информация о дате и посетителях в эту дату \n",
    "\n",
    "# А\n",
    "visitorsADaily = visitors[visitors['group'] == 'A'][['date', 'visitors']]\n",
    "visitorsADaily.columns = ['date', 'visitorsPerDateA']\n",
    "# В\n",
    "visitorsBDaily = visitors[visitors['group'] == 'B'][['date', 'visitors']]\n",
    "visitorsBDaily.columns = ['date', 'visitorsPerDateB']\n",
    "\n",
    "# считаем кол-во пользователей на каждй день (кумулятивно)\n",
    "\n",
    "# А\n",
    "visitorsACummulative = visitorsADaily.apply(\n",
    "    lambda x: visitorsADaily[visitorsADaily['date'] <= x['date']].agg(\n",
    "        {'date': 'max', 'visitorsPerDateA': 'sum'}\n",
    "    ),\n",
    "    axis=1,\n",
    ")\n",
    "visitorsACummulative.columns = ['date', 'visitorsCummulativeA']\n",
    "# В\n",
    "visitorsBCummulative = visitorsBDaily.apply(\n",
    "    lambda x: visitorsBDaily[visitorsBDaily['date'] <= x['date']].agg(\n",
    "        {'date': 'max', 'visitorsPerDateB': 'sum'}\n",
    "    ),\n",
    "    axis=1,\n",
    ")\n",
    "visitorsBCummulative.columns = ['date', 'visitorsCummulativeB']\n",
    "\n",
    "# опять создаем df по группам, но уже с заказами и выручкой \n",
    "# А\n",
    "ordersADaily = (\n",
    "    orders[orders['group'] == 'A'][['date', 'transactionId', 'visitorId', 'revenue']]\n",
    "    .groupby('date', as_index=False)\n",
    "    .agg({'transactionId': pd.Series.nunique, 'revenue': 'sum'})\n",
    ")\n",
    "ordersADaily.columns = ['date', 'ordersPerDateA', 'revenuePerDateA']\n",
    "# В\n",
    "ordersBDaily = (\n",
    "    orders[orders['group'] == 'B'][['date', 'transactionId', 'visitorId', 'revenue']]\n",
    "    .groupby('date', as_index=False)\n",
    "    .agg({'transactionId': pd.Series.nunique, 'revenue': 'sum'})\n",
    ")\n",
    "ordersBDaily.columns = ['date', 'ordersPerDateB', 'revenuePerDateB']\n",
    "\n",
    "#считаем кумулятивную выручку по дням и пользователям \n",
    "\n",
    "# А\n",
    "ordersACummulative = ordersADaily.apply(\n",
    "    lambda x: ordersADaily[ordersADaily['date'] <= x['date']].agg(\n",
    "        {'date': 'max', 'ordersPerDateA': 'sum', 'revenuePerDateA': 'sum'}\n",
    "    ),\n",
    "    axis=1,\n",
    ").sort_values(by=['date'])\n",
    "ordersACummulative.columns = [\n",
    "    'date',\n",
    "    'ordersCummulativeA',\n",
    "    'revenueCummulativeA',\n",
    "]\n",
    "# В\n",
    "ordersBCummulative = ordersBDaily.apply(\n",
    "    lambda x: ordersBDaily[ordersBDaily['date'] <= x['date']].agg(\n",
    "        {'date': 'max', 'ordersPerDateB': 'sum', 'revenuePerDateB': 'sum'}\n",
    "    ),\n",
    "    axis=1,\n",
    ").sort_values(by=['date'])\n",
    "ordersBCummulative.columns = [\n",
    "    'date',\n",
    "    'ordersCummulativeB',\n",
    "    'revenueCummulativeB',\n",
    "]\n",
    "\n",
    "# создаем df где соединяем все это в одну таблицу \n",
    "data = (\n",
    "    ordersADaily.merge(\n",
    "        ordersBDaily, left_on='date', right_on='date', how='left'\n",
    "    )\n",
    "    .merge(ordersACummulative, left_on='date', right_on='date', how='left')\n",
    "    .merge(ordersBCummulative, left_on='date', right_on='date', how='left')\n",
    "    .merge(visitorsADaily, left_on='date', right_on='date', how='left')\n",
    "    .merge(visitorsBDaily, left_on='date', right_on='date', how='left')\n",
    "    .merge(visitorsACummulative, left_on='date', right_on='date', how='left')\n",
    "    .merge(visitorsBCummulative, left_on='date', right_on='date', how='left')\n",
    ")\n",
    "\n",
    "data.head()"
   ]
  },
  {
   "cell_type": "markdown",
   "metadata": {},
   "source": [
    "Теперь рассчитаем статистическую значимость. Сразу обозначим нулевую и альтернативную гипотезу:\n",
    "\n",
    "Нулевая: различий в среднем количестве заказов между группами нет. \n",
    "\n",
    "Альтернативная: различия  есть."
   ]
  },
  {
   "cell_type": "code",
   "execution_count": 24,
   "metadata": {},
   "outputs": [
    {
     "data": {
      "text/plain": [
       "'P-value 0.017'"
      ]
     },
     "metadata": {},
     "output_type": "display_data"
    },
    {
     "data": {
      "text/plain": [
       "'Oтносительное различие в среднем между группами 0.138'"
      ]
     },
     "execution_count": 24,
     "metadata": {},
     "output_type": "execute_result"
    }
   ],
   "source": [
    "# df с пользователями, которые совершили хотя бы 1 заказ с их кол-ми заказов \n",
    "# A\n",
    "ordersByUsersA = (\n",
    "    orders[orders['group'] == 'A']\n",
    "    .groupby('visitorId', as_index=False)\n",
    "    .agg({'transactionId': pd.Series.nunique})\n",
    ")\n",
    "ordersByUsersA.columns = ['visitorId', 'orders']\n",
    "# B\n",
    "ordersByUsersB = (\n",
    "    orders[orders['group'] == 'B']\n",
    "    .groupby('visitorId', as_index=False)\n",
    "    .agg({'transactionId': pd.Series.nunique})\n",
    ")\n",
    "ordersByUsersB.columns = ['visitorId', 'orders'] \n",
    "\n",
    "\n",
    "sampleA = pd.concat([ordersByUsersA['orders'],\n",
    "                     pd.Series(0, index=np.arange(data['visitorsPerDateA'].sum() - len(ordersByUsersA['orders'])),\n",
    "                               name='orders')],axis=0)\n",
    "\n",
    "sampleB = pd.concat([ordersByUsersB['orders']\n",
    "                     ,pd.Series(0, index=np.arange(data['visitorsPerDateB'].sum() - len(ordersByUsersB['orders'])),\n",
    "                                name='orders')],axis=0) \n",
    "\n",
    "display(\"P-value {0:.3f}\".format(stats.mannwhitneyu(sampleA, sampleB)[1]))\n",
    "\n",
    "\"Oтносительное различие в среднем между группами {0:.3f}\".format(sampleB.mean() / sampleA.mean() - 1)"
   ]
  },
  {
   "cell_type": "markdown",
   "metadata": {},
   "source": [
    "P-value меньше 0.05, значит, нулевая гипотеза  отвергнута - различия между группами есть \n",
    "Относительное различие между \"сырыми\" группами 13,8 % - видимо, этого достаточно, чтобы признать имеющиеся данные различными "
   ]
  },
  {
   "cell_type": "markdown",
   "metadata": {},
   "source": [
    "#### Посчитаем статистическую значимость различий в среднем чеке заказа между группами по «сырым» данным. Сделаем выводы и предположения."
   ]
  },
  {
   "cell_type": "markdown",
   "metadata": {},
   "source": [
    "Устанавливаем гипотезы:\n",
    "\n",
    "Нулевая: различий в среднем чеке между группами нет\n",
    "\n",
    "Альтернативная:  между группами есть различия "
   ]
  },
  {
   "cell_type": "code",
   "execution_count": 25,
   "metadata": {
    "scrolled": true
   },
   "outputs": [
    {
     "data": {
      "text/plain": [
       "'P-value 0.729'"
      ]
     },
     "metadata": {},
     "output_type": "display_data"
    },
    {
     "data": {
      "text/plain": [
       "'Oтносительное различие в среднем между группами 0.259'"
      ]
     },
     "execution_count": 25,
     "metadata": {},
     "output_type": "execute_result"
    }
   ],
   "source": [
    "display('P-value {0:.3f}'.format(stats.mannwhitneyu(orders[orders['group']=='A']['revenue'], \n",
    "                                            orders[orders['group']=='B']['revenue'])[1]))\n",
    "\n",
    "'Oтносительное различие в среднем между группами {0:.3f}'.format(orders[orders['group']=='B']['revenue']\n",
    "                                                                 .mean()/orders[orders['group']=='A']['revenue']\n",
    "                                                                 .mean()-1)"
   ]
  },
  {
   "cell_type": "markdown",
   "metadata": {},
   "source": [
    "Статистических значимых отклонений между данными нет, P-value  больше 0,05 , значит, нулевую гипотезу мы не можем отклонить. Относительное различие  между группами составляет 26% - данное различие не является статичтически значимым, поскольку нулевая гипотеза не отвергнута "
   ]
  },
  {
   "cell_type": "markdown",
   "metadata": {},
   "source": [
    "#### Посчитаем статистическую значимость различий в среднем количестве заказов на посетителя между группами по «очищенным» данным. Сделаем выводы и предположения."
   ]
  },
  {
   "cell_type": "markdown",
   "metadata": {},
   "source": [
    "Напомним гипотезы: \n",
    "\n",
    "Нулевая: различий в среднем количестве заказов между группами нет.\n",
    "\n",
    "Альтернативная: различия есть."
   ]
  },
  {
   "cell_type": "code",
   "execution_count": 26,
   "metadata": {
    "scrolled": false
   },
   "outputs": [
    {
     "data": {
      "text/plain": [
       "'P-value 0.01304'"
      ]
     },
     "metadata": {},
     "output_type": "display_data"
    },
    {
     "data": {
      "text/plain": [
       "'Oтносительное различие в среднем между группами 0.173'"
      ]
     },
     "execution_count": 26,
     "metadata": {},
     "output_type": "execute_result"
    }
   ],
   "source": [
    "# 'чистим' данные от выбросов \n",
    "usersWithManyOrders = pd.concat(\n",
    "    [\n",
    "        ordersByUsersA[ordersByUsersA['orders'] > 2]['visitorId'],\n",
    "        ordersByUsersB[ordersByUsersB['orders'] > 2]['visitorId'],\n",
    "    ],\n",
    "    axis=0,\n",
    ")\n",
    "usersWithExpensiveOrders = orders[orders['revenue'] > 28000]['visitorId']\n",
    "abnormalUsers = (\n",
    "    pd.concat([usersWithManyOrders, usersWithExpensiveOrders], axis=0)\n",
    "    .drop_duplicates()\n",
    "    .sort_values()\n",
    ")\n",
    "\n",
    "sampleAFiltered = pd.concat([ordersByUsersA[np.logical_not(ordersByUsersA['visitorId'].isin(abnormalUsers))]['orders'],\n",
    "        pd.Series(0, index=np.arange( data['visitorsPerDateA'].sum() - len(ordersByUsersA['orders'])),\n",
    "            name='orders',),],axis=0,)\n",
    "\n",
    "sampleBFiltered = pd.concat(\n",
    "    [ordersByUsersB[np.logical_not(ordersByUsersB['visitorId'].isin(abnormalUsers))]['orders'],\n",
    "        pd.Series(0,index=np.arange(data['visitorsPerDateB'].sum() - len(ordersByUsersB['orders']) ),\n",
    "            name='orders',),],axis=0,) \n",
    "\n",
    "\n",
    "display('P-value {0:.5f}'.format(stats.mannwhitneyu(sampleAFiltered, sampleBFiltered)[1]))\n",
    "'Oтносительное различие в среднем между группами {0:.3f}'.format(sampleBFiltered.mean()/sampleAFiltered.mean()-1)"
   ]
  },
  {
   "cell_type": "markdown",
   "metadata": {},
   "source": [
    "Итог не изменился: нулевая гипотеза отвергнута в пользу альтернативной - данные различны между собой. P-value стал еще меньше (от 0.017 до 0.013), а, значит, данные без выбросов еще больше отличаются друг от друга. Относительное значение повысилось с 13% до 17%"
   ]
  },
  {
   "cell_type": "markdown",
   "metadata": {},
   "source": [
    "#### Посчитаем статистическую значимость различий в среднем чеке заказа между группами по «очищенным» данным. Сделаем выводы и предположения.\n"
   ]
  },
  {
   "cell_type": "markdown",
   "metadata": {},
   "source": [
    "Нулевая: различий в среднем чеке между группами нет\n",
    "\n",
    "Альтернативная: между группами есть различия"
   ]
  },
  {
   "cell_type": "code",
   "execution_count": 27,
   "metadata": {},
   "outputs": [
    {
     "data": {
      "text/plain": [
       "'P-value 0.738'"
      ]
     },
     "metadata": {},
     "output_type": "display_data"
    },
    {
     "data": {
      "text/plain": [
       "'Oтносительное различие в среднем между группами -0.020'"
      ]
     },
     "execution_count": 27,
     "metadata": {},
     "output_type": "execute_result"
    }
   ],
   "source": [
    "display(\n",
    "    'P-value {0:.3f}'.format(stats.mannwhitneyu(\n",
    "            orders[np.logical_and(\n",
    "                    orders['group'] == 'A',\n",
    "                    np.logical_not(orders['visitorId'].isin(abnormalUsers)),)\n",
    "            ]['revenue'],\n",
    "            orders[ np.logical_and( orders['group'] == 'B',\n",
    "                    np.logical_not(orders['visitorId'].isin(abnormalUsers)),)\n",
    "            ]['revenue'],)[1]))\n",
    "\n",
    "\n",
    "\"Oтносительное различие в среднем между группами {0:.3f}\".format(orders[np.logical_and(\n",
    "                orders['group'] == 'B',\n",
    "                np.logical_not(orders['visitorId'].isin(abnormalUsers)),)]['revenue'].mean()\n",
    "        / orders[\n",
    "            np.logical_and(\n",
    "                orders['group'] == 'A',\n",
    "                np.logical_not(orders['visitorId'].isin(abnormalUsers)),)]['revenue'].mean() - 1)\n"
   ]
  },
  {
   "cell_type": "markdown",
   "metadata": {},
   "source": [
    "Нулевую гипотезу опять не удалось отвергнуть - различий в среднем чеке между группами нет. P-value выше 0.05"
   ]
  }
 ],
 "metadata": {
  "ExecuteTimeLog": [
   {
    "duration": 835,
    "start_time": "2023-07-04T09:05:03.468Z"
   },
   {
    "duration": 4,
    "start_time": "2023-07-04T09:19:08.405Z"
   },
   {
    "duration": 130,
    "start_time": "2023-07-04T09:19:59.953Z"
   },
   {
    "duration": 74,
    "start_time": "2023-07-04T09:21:04.501Z"
   },
   {
    "duration": 40,
    "start_time": "2023-07-04T09:21:14.532Z"
   },
   {
    "duration": 38,
    "start_time": "2023-07-04T09:21:25.098Z"
   },
   {
    "duration": 11,
    "start_time": "2023-07-04T09:26:35.642Z"
   },
   {
    "duration": 10,
    "start_time": "2023-07-04T09:26:50.128Z"
   },
   {
    "duration": 3,
    "start_time": "2023-07-04T09:51:11.134Z"
   },
   {
    "duration": 48,
    "start_time": "2023-07-04T09:51:11.141Z"
   },
   {
    "duration": 10,
    "start_time": "2023-07-04T09:51:11.191Z"
   },
   {
    "duration": 9,
    "start_time": "2023-07-04T09:53:30.313Z"
   },
   {
    "duration": 10,
    "start_time": "2023-07-04T09:53:36.517Z"
   },
   {
    "duration": 166,
    "start_time": "2023-07-04T10:45:51.017Z"
   },
   {
    "duration": 73,
    "start_time": "2023-07-04T10:46:06.708Z"
   },
   {
    "duration": 324,
    "start_time": "2023-07-04T11:00:01.513Z"
   },
   {
    "duration": 78,
    "start_time": "2023-07-04T11:00:23.653Z"
   },
   {
    "duration": 73,
    "start_time": "2023-07-04T11:00:38.561Z"
   },
   {
    "duration": 308,
    "start_time": "2023-07-04T11:05:41.330Z"
   },
   {
    "duration": 310,
    "start_time": "2023-07-04T11:05:50.394Z"
   },
   {
    "duration": 83,
    "start_time": "2023-07-04T11:06:36.780Z"
   },
   {
    "duration": 282,
    "start_time": "2023-07-04T11:06:41.230Z"
   },
   {
    "duration": 74,
    "start_time": "2023-07-04T11:06:52.029Z"
   },
   {
    "duration": 394,
    "start_time": "2023-07-04T11:06:56.378Z"
   },
   {
    "duration": 888,
    "start_time": "2023-07-04T14:40:50.538Z"
   },
   {
    "duration": 85,
    "start_time": "2023-07-04T14:40:51.433Z"
   },
   {
    "duration": 15,
    "start_time": "2023-07-04T14:40:51.520Z"
   },
   {
    "duration": 24,
    "start_time": "2023-07-04T14:40:51.536Z"
   },
   {
    "duration": 9,
    "start_time": "2023-07-04T14:40:51.562Z"
   },
   {
    "duration": 258,
    "start_time": "2023-07-04T14:40:51.573Z"
   },
   {
    "duration": 153,
    "start_time": "2023-07-04T14:41:24.451Z"
   },
   {
    "duration": 116,
    "start_time": "2023-07-04T14:41:39.045Z"
   },
   {
    "duration": 474,
    "start_time": "2023-07-04T14:54:52.194Z"
   },
   {
    "duration": 499,
    "start_time": "2023-07-04T14:55:56.137Z"
   },
   {
    "duration": 548,
    "start_time": "2023-07-04T14:56:10.340Z"
   },
   {
    "duration": 108,
    "start_time": "2023-07-04T14:58:08.363Z"
   },
   {
    "duration": 559,
    "start_time": "2023-07-04T14:58:50.431Z"
   },
   {
    "duration": 289,
    "start_time": "2023-07-04T14:58:55.354Z"
   },
   {
    "duration": 214,
    "start_time": "2023-07-04T14:59:24.378Z"
   },
   {
    "duration": 244,
    "start_time": "2023-07-04T15:00:07.733Z"
   },
   {
    "duration": 218,
    "start_time": "2023-07-04T15:03:11.720Z"
   },
   {
    "duration": 203,
    "start_time": "2023-07-04T15:03:17.435Z"
   },
   {
    "duration": 225,
    "start_time": "2023-07-04T15:03:25.464Z"
   },
   {
    "duration": 192,
    "start_time": "2023-07-04T15:03:49.550Z"
   },
   {
    "duration": 205,
    "start_time": "2023-07-04T15:03:54.132Z"
   },
   {
    "duration": 203,
    "start_time": "2023-07-04T15:03:59.530Z"
   },
   {
    "duration": 194,
    "start_time": "2023-07-04T15:04:06.771Z"
   },
   {
    "duration": 203,
    "start_time": "2023-07-04T15:04:11.787Z"
   },
   {
    "duration": 206,
    "start_time": "2023-07-04T15:04:18.596Z"
   },
   {
    "duration": 196,
    "start_time": "2023-07-04T15:04:22.926Z"
   },
   {
    "duration": 235,
    "start_time": "2023-07-04T15:04:30.735Z"
   },
   {
    "duration": 195,
    "start_time": "2023-07-04T15:04:39.263Z"
   },
   {
    "duration": 188,
    "start_time": "2023-07-04T15:04:49.760Z"
   },
   {
    "duration": 279,
    "start_time": "2023-07-04T15:04:57.062Z"
   },
   {
    "duration": 295,
    "start_time": "2023-07-04T15:05:29.697Z"
   },
   {
    "duration": 244,
    "start_time": "2023-07-04T15:05:50.524Z"
   },
   {
    "duration": 213,
    "start_time": "2023-07-04T15:11:53.161Z"
   },
   {
    "duration": 186,
    "start_time": "2023-07-04T15:13:27.350Z"
   },
   {
    "duration": 216,
    "start_time": "2023-07-04T15:13:44.899Z"
   },
   {
    "duration": 283,
    "start_time": "2023-07-04T15:21:38.427Z"
   },
   {
    "duration": 267,
    "start_time": "2023-07-04T15:22:33.619Z"
   },
   {
    "duration": 235,
    "start_time": "2023-07-04T15:23:17.846Z"
   },
   {
    "duration": 253,
    "start_time": "2023-07-04T15:23:52.558Z"
   },
   {
    "duration": 130,
    "start_time": "2023-07-04T16:05:52.905Z"
   },
   {
    "duration": 55,
    "start_time": "2023-07-05T07:41:53.731Z"
   },
   {
    "duration": 1344,
    "start_time": "2023-07-05T07:41:58.934Z"
   },
   {
    "duration": 79,
    "start_time": "2023-07-05T07:42:00.281Z"
   },
   {
    "duration": 36,
    "start_time": "2023-07-05T07:42:00.362Z"
   },
   {
    "duration": 74,
    "start_time": "2023-07-05T07:42:00.401Z"
   },
   {
    "duration": 258,
    "start_time": "2023-07-05T07:42:00.477Z"
   },
   {
    "duration": 489,
    "start_time": "2023-07-05T07:42:00.737Z"
   },
   {
    "duration": 400,
    "start_time": "2023-07-05T07:42:01.228Z"
   },
   {
    "duration": 197,
    "start_time": "2023-07-05T07:42:01.630Z"
   },
   {
    "duration": 340,
    "start_time": "2023-07-05T07:42:01.829Z"
   },
   {
    "duration": 207,
    "start_time": "2023-07-05T07:42:14.813Z"
   },
   {
    "duration": 213,
    "start_time": "2023-07-05T07:42:19.919Z"
   },
   {
    "duration": 187,
    "start_time": "2023-07-05T07:42:36.199Z"
   },
   {
    "duration": 209,
    "start_time": "2023-07-05T07:42:39.222Z"
   },
   {
    "duration": 270,
    "start_time": "2023-07-05T07:42:52.312Z"
   },
   {
    "duration": 220,
    "start_time": "2023-07-05T07:46:20.460Z"
   },
   {
    "duration": 256,
    "start_time": "2023-07-05T07:47:59.407Z"
   },
   {
    "duration": 190,
    "start_time": "2023-07-05T07:48:20.930Z"
   },
   {
    "duration": 202,
    "start_time": "2023-07-05T07:48:31.543Z"
   },
   {
    "duration": 175,
    "start_time": "2023-07-05T07:49:48.023Z"
   },
   {
    "duration": 186,
    "start_time": "2023-07-05T08:06:13.500Z"
   },
   {
    "duration": 178,
    "start_time": "2023-07-05T08:06:24.793Z"
   },
   {
    "duration": 177,
    "start_time": "2023-07-05T08:06:40.874Z"
   },
   {
    "duration": 306,
    "start_time": "2023-07-05T08:21:45.553Z"
   },
   {
    "duration": 284,
    "start_time": "2023-07-05T08:21:49.922Z"
   },
   {
    "duration": 270,
    "start_time": "2023-07-05T08:22:03.394Z"
   },
   {
    "duration": 22,
    "start_time": "2023-07-05T08:41:32.159Z"
   },
   {
    "duration": 154,
    "start_time": "2023-07-05T08:43:23.904Z"
   },
   {
    "duration": 133,
    "start_time": "2023-07-05T08:43:55.295Z"
   },
   {
    "duration": 232,
    "start_time": "2023-07-05T08:44:01.429Z"
   },
   {
    "duration": 125,
    "start_time": "2023-07-05T08:45:03.630Z"
   },
   {
    "duration": 128,
    "start_time": "2023-07-05T08:45:20.344Z"
   },
   {
    "duration": 158,
    "start_time": "2023-07-05T08:54:24.005Z"
   },
   {
    "duration": 129,
    "start_time": "2023-07-05T08:54:28.558Z"
   },
   {
    "duration": 103,
    "start_time": "2023-07-05T08:54:37.450Z"
   },
   {
    "duration": 129,
    "start_time": "2023-07-05T08:54:45.722Z"
   },
   {
    "duration": 3,
    "start_time": "2023-07-05T08:54:50.597Z"
   },
   {
    "duration": 43,
    "start_time": "2023-07-05T08:54:50.602Z"
   },
   {
    "duration": 10,
    "start_time": "2023-07-05T08:54:50.647Z"
   },
   {
    "duration": 22,
    "start_time": "2023-07-05T08:54:50.659Z"
   },
   {
    "duration": 105,
    "start_time": "2023-07-05T08:54:50.684Z"
   },
   {
    "duration": 416,
    "start_time": "2023-07-05T08:54:50.791Z"
   },
   {
    "duration": 191,
    "start_time": "2023-07-05T08:54:51.208Z"
   },
   {
    "duration": 225,
    "start_time": "2023-07-05T08:54:51.401Z"
   },
   {
    "duration": 304,
    "start_time": "2023-07-05T08:54:51.627Z"
   },
   {
    "duration": 202,
    "start_time": "2023-07-05T08:54:51.933Z"
   },
   {
    "duration": 303,
    "start_time": "2023-07-05T08:54:52.136Z"
   },
   {
    "duration": 137,
    "start_time": "2023-07-05T08:54:52.441Z"
   },
   {
    "duration": 16,
    "start_time": "2023-07-05T08:55:13.432Z"
   },
   {
    "duration": 150,
    "start_time": "2023-07-05T08:55:17.366Z"
   },
   {
    "duration": 3,
    "start_time": "2023-07-05T08:55:25.392Z"
   },
   {
    "duration": 34,
    "start_time": "2023-07-05T08:55:25.404Z"
   },
   {
    "duration": 11,
    "start_time": "2023-07-05T08:55:25.440Z"
   },
   {
    "duration": 15,
    "start_time": "2023-07-05T08:55:25.453Z"
   },
   {
    "duration": 83,
    "start_time": "2023-07-05T08:55:25.470Z"
   },
   {
    "duration": 409,
    "start_time": "2023-07-05T08:55:25.555Z"
   },
   {
    "duration": 196,
    "start_time": "2023-07-05T08:55:25.966Z"
   },
   {
    "duration": 289,
    "start_time": "2023-07-05T08:55:26.164Z"
   },
   {
    "duration": 288,
    "start_time": "2023-07-05T08:55:26.455Z"
   },
   {
    "duration": 211,
    "start_time": "2023-07-05T08:55:26.745Z"
   },
   {
    "duration": 289,
    "start_time": "2023-07-05T08:55:26.959Z"
   },
   {
    "duration": 132,
    "start_time": "2023-07-05T08:55:27.250Z"
   },
   {
    "duration": 136,
    "start_time": "2023-07-05T08:56:01.869Z"
   },
   {
    "duration": 5,
    "start_time": "2023-07-05T09:08:44.495Z"
   },
   {
    "duration": 1468,
    "start_time": "2023-07-05T09:12:43.230Z"
   },
   {
    "duration": 148,
    "start_time": "2023-07-05T09:13:15.898Z"
   },
   {
    "duration": 112,
    "start_time": "2023-07-05T09:14:24.757Z"
   },
   {
    "duration": 145,
    "start_time": "2023-07-05T09:14:27.337Z"
   },
   {
    "duration": 61,
    "start_time": "2023-07-05T09:28:19.938Z"
   },
   {
    "duration": 58,
    "start_time": "2023-07-05T09:29:51.400Z"
   },
   {
    "duration": 22,
    "start_time": "2023-07-05T09:30:26.932Z"
   },
   {
    "duration": 40,
    "start_time": "2023-07-05T09:31:42.774Z"
   },
   {
    "duration": 8,
    "start_time": "2023-07-05T09:34:00.844Z"
   },
   {
    "duration": 10,
    "start_time": "2023-07-05T09:34:44.106Z"
   },
   {
    "duration": 9,
    "start_time": "2023-07-05T09:35:22.845Z"
   },
   {
    "duration": 3,
    "start_time": "2023-07-05T09:35:38.805Z"
   },
   {
    "duration": 51,
    "start_time": "2023-07-05T09:35:38.810Z"
   },
   {
    "duration": 11,
    "start_time": "2023-07-05T09:35:38.862Z"
   },
   {
    "duration": 23,
    "start_time": "2023-07-05T09:35:38.874Z"
   },
   {
    "duration": 47,
    "start_time": "2023-07-05T09:35:38.899Z"
   },
   {
    "duration": 23,
    "start_time": "2023-07-05T09:35:38.948Z"
   },
   {
    "duration": 40,
    "start_time": "2023-07-05T09:35:38.973Z"
   },
   {
    "duration": 9,
    "start_time": "2023-07-05T09:35:39.014Z"
   },
   {
    "duration": 456,
    "start_time": "2023-07-05T09:35:39.025Z"
   },
   {
    "duration": 186,
    "start_time": "2023-07-05T09:35:39.483Z"
   },
   {
    "duration": 183,
    "start_time": "2023-07-05T09:35:39.670Z"
   },
   {
    "duration": 277,
    "start_time": "2023-07-05T09:35:39.859Z"
   },
   {
    "duration": 194,
    "start_time": "2023-07-05T09:35:40.140Z"
   },
   {
    "duration": 307,
    "start_time": "2023-07-05T09:35:40.335Z"
   },
   {
    "duration": 255,
    "start_time": "2023-07-05T09:35:40.644Z"
   },
   {
    "duration": 6,
    "start_time": "2023-07-05T09:35:40.900Z"
   },
   {
    "duration": 181,
    "start_time": "2023-07-05T09:35:40.908Z"
   },
   {
    "duration": 6,
    "start_time": "2023-07-05T09:38:00.640Z"
   },
   {
    "duration": 68,
    "start_time": "2023-07-05T09:39:50.112Z"
   },
   {
    "duration": 9,
    "start_time": "2023-07-05T09:49:14.347Z"
   },
   {
    "duration": 14,
    "start_time": "2023-07-05T09:50:33.443Z"
   },
   {
    "duration": 16,
    "start_time": "2023-07-05T09:52:02.241Z"
   },
   {
    "duration": 11,
    "start_time": "2023-07-05T09:52:07.394Z"
   },
   {
    "duration": 145,
    "start_time": "2023-07-05T09:58:00.789Z"
   },
   {
    "duration": 57,
    "start_time": "2023-07-05T10:02:33.324Z"
   },
   {
    "duration": 70,
    "start_time": "2023-07-05T10:03:32.700Z"
   },
   {
    "duration": 4,
    "start_time": "2023-07-05T10:07:04.723Z"
   },
   {
    "duration": 39,
    "start_time": "2023-07-05T10:07:04.728Z"
   },
   {
    "duration": 11,
    "start_time": "2023-07-05T10:07:04.768Z"
   },
   {
    "duration": 28,
    "start_time": "2023-07-05T10:07:04.782Z"
   },
   {
    "duration": 79,
    "start_time": "2023-07-05T10:07:04.812Z"
   },
   {
    "duration": 20,
    "start_time": "2023-07-05T10:07:04.892Z"
   },
   {
    "duration": 359,
    "start_time": "2023-07-05T10:07:04.913Z"
   },
   {
    "duration": 0,
    "start_time": "2023-07-05T10:07:05.274Z"
   },
   {
    "duration": 1,
    "start_time": "2023-07-05T10:07:05.275Z"
   },
   {
    "duration": 0,
    "start_time": "2023-07-05T10:07:05.277Z"
   },
   {
    "duration": 0,
    "start_time": "2023-07-05T10:07:05.278Z"
   },
   {
    "duration": 0,
    "start_time": "2023-07-05T10:07:05.279Z"
   },
   {
    "duration": 0,
    "start_time": "2023-07-05T10:07:05.280Z"
   },
   {
    "duration": 0,
    "start_time": "2023-07-05T10:07:05.281Z"
   },
   {
    "duration": 0,
    "start_time": "2023-07-05T10:07:05.282Z"
   },
   {
    "duration": 0,
    "start_time": "2023-07-05T10:07:05.283Z"
   },
   {
    "duration": 0,
    "start_time": "2023-07-05T10:07:05.284Z"
   },
   {
    "duration": 0,
    "start_time": "2023-07-05T10:07:05.285Z"
   },
   {
    "duration": 408,
    "start_time": "2023-07-05T10:08:00.306Z"
   },
   {
    "duration": 4,
    "start_time": "2023-07-05T10:08:10.757Z"
   },
   {
    "duration": 35,
    "start_time": "2023-07-05T10:08:10.763Z"
   },
   {
    "duration": 11,
    "start_time": "2023-07-05T10:08:10.799Z"
   },
   {
    "duration": 12,
    "start_time": "2023-07-05T10:08:10.811Z"
   },
   {
    "duration": 424,
    "start_time": "2023-07-05T10:08:10.825Z"
   },
   {
    "duration": 0,
    "start_time": "2023-07-05T10:08:11.251Z"
   },
   {
    "duration": 0,
    "start_time": "2023-07-05T10:08:11.252Z"
   },
   {
    "duration": 0,
    "start_time": "2023-07-05T10:08:11.253Z"
   },
   {
    "duration": 0,
    "start_time": "2023-07-05T10:08:11.254Z"
   },
   {
    "duration": 0,
    "start_time": "2023-07-05T10:08:11.255Z"
   },
   {
    "duration": 0,
    "start_time": "2023-07-05T10:08:11.256Z"
   },
   {
    "duration": 0,
    "start_time": "2023-07-05T10:08:11.258Z"
   },
   {
    "duration": 0,
    "start_time": "2023-07-05T10:08:11.259Z"
   },
   {
    "duration": 0,
    "start_time": "2023-07-05T10:08:11.260Z"
   },
   {
    "duration": 0,
    "start_time": "2023-07-05T10:08:11.261Z"
   },
   {
    "duration": 0,
    "start_time": "2023-07-05T10:08:11.262Z"
   },
   {
    "duration": 0,
    "start_time": "2023-07-05T10:08:11.263Z"
   },
   {
    "duration": 0,
    "start_time": "2023-07-05T10:08:11.264Z"
   },
   {
    "duration": 3,
    "start_time": "2023-07-05T10:09:18.868Z"
   },
   {
    "duration": 16,
    "start_time": "2023-07-05T10:09:22.284Z"
   },
   {
    "duration": 12,
    "start_time": "2023-07-05T10:09:41.233Z"
   },
   {
    "duration": 12,
    "start_time": "2023-07-05T10:09:51.039Z"
   },
   {
    "duration": 9,
    "start_time": "2023-07-05T10:10:34.373Z"
   },
   {
    "duration": 10,
    "start_time": "2023-07-05T10:10:48.537Z"
   },
   {
    "duration": 69,
    "start_time": "2023-07-05T10:12:09.141Z"
   },
   {
    "duration": 74,
    "start_time": "2023-07-05T10:12:14.253Z"
   },
   {
    "duration": 305,
    "start_time": "2023-07-05T10:12:18.959Z"
   },
   {
    "duration": 56,
    "start_time": "2023-07-05T10:13:25.318Z"
   },
   {
    "duration": 70,
    "start_time": "2023-07-05T10:13:39.361Z"
   },
   {
    "duration": 330,
    "start_time": "2023-07-05T10:14:01.475Z"
   },
   {
    "duration": 16,
    "start_time": "2023-07-05T10:14:39.278Z"
   },
   {
    "duration": 13,
    "start_time": "2023-07-05T10:15:11.064Z"
   },
   {
    "duration": 12,
    "start_time": "2023-07-05T10:15:26.534Z"
   },
   {
    "duration": 20,
    "start_time": "2023-07-05T10:15:35.691Z"
   },
   {
    "duration": 4,
    "start_time": "2023-07-05T10:15:41.269Z"
   },
   {
    "duration": 49,
    "start_time": "2023-07-05T10:15:41.275Z"
   },
   {
    "duration": 15,
    "start_time": "2023-07-05T10:15:41.326Z"
   },
   {
    "duration": 14,
    "start_time": "2023-07-05T10:15:41.343Z"
   },
   {
    "duration": 63,
    "start_time": "2023-07-05T10:15:41.359Z"
   },
   {
    "duration": 20,
    "start_time": "2023-07-05T10:15:41.424Z"
   },
   {
    "duration": 11,
    "start_time": "2023-07-05T10:15:58.199Z"
   },
   {
    "duration": 11,
    "start_time": "2023-07-05T10:15:58.872Z"
   },
   {
    "duration": 64,
    "start_time": "2023-07-05T10:16:23.363Z"
   },
   {
    "duration": 314,
    "start_time": "2023-07-05T10:16:28.497Z"
   },
   {
    "duration": 4,
    "start_time": "2023-07-05T10:16:53.248Z"
   },
   {
    "duration": 46,
    "start_time": "2023-07-05T10:16:53.254Z"
   },
   {
    "duration": 11,
    "start_time": "2023-07-05T10:16:53.301Z"
   },
   {
    "duration": 22,
    "start_time": "2023-07-05T10:16:53.314Z"
   },
   {
    "duration": 75,
    "start_time": "2023-07-05T10:16:53.338Z"
   },
   {
    "duration": 23,
    "start_time": "2023-07-05T10:16:53.415Z"
   },
   {
    "duration": 13,
    "start_time": "2023-07-05T10:16:57.540Z"
   },
   {
    "duration": 4,
    "start_time": "2023-07-05T10:17:07.624Z"
   },
   {
    "duration": 89,
    "start_time": "2023-07-05T10:17:07.631Z"
   },
   {
    "duration": 11,
    "start_time": "2023-07-05T10:17:07.721Z"
   },
   {
    "duration": 68,
    "start_time": "2023-07-05T10:17:07.734Z"
   },
   {
    "duration": 93,
    "start_time": "2023-07-05T10:17:07.804Z"
   },
   {
    "duration": 20,
    "start_time": "2023-07-05T10:17:07.899Z"
   },
   {
    "duration": 42,
    "start_time": "2023-07-05T10:17:07.921Z"
   },
   {
    "duration": 317,
    "start_time": "2023-07-05T10:17:07.964Z"
   },
   {
    "duration": 208,
    "start_time": "2023-07-05T10:17:08.283Z"
   },
   {
    "duration": 207,
    "start_time": "2023-07-05T10:17:08.494Z"
   },
   {
    "duration": 279,
    "start_time": "2023-07-05T10:17:08.702Z"
   },
   {
    "duration": 228,
    "start_time": "2023-07-05T10:17:08.983Z"
   },
   {
    "duration": 326,
    "start_time": "2023-07-05T10:17:09.212Z"
   },
   {
    "duration": 124,
    "start_time": "2023-07-05T10:17:09.540Z"
   },
   {
    "duration": 5,
    "start_time": "2023-07-05T10:17:09.666Z"
   },
   {
    "duration": 141,
    "start_time": "2023-07-05T10:17:09.673Z"
   },
   {
    "duration": 5,
    "start_time": "2023-07-05T10:17:09.816Z"
   },
   {
    "duration": 15,
    "start_time": "2023-07-05T10:17:09.822Z"
   },
   {
    "duration": 10,
    "start_time": "2023-07-05T11:21:36.803Z"
   },
   {
    "duration": 8,
    "start_time": "2023-07-05T11:21:42.430Z"
   },
   {
    "duration": 6,
    "start_time": "2023-07-05T11:21:47.852Z"
   },
   {
    "duration": 9,
    "start_time": "2023-07-05T11:22:09.147Z"
   },
   {
    "duration": 76,
    "start_time": "2023-07-05T11:22:23.898Z"
   },
   {
    "duration": 207,
    "start_time": "2023-07-05T11:39:24.392Z"
   },
   {
    "duration": 297,
    "start_time": "2023-07-05T11:41:00.485Z"
   },
   {
    "duration": 147,
    "start_time": "2023-07-05T11:50:45.833Z"
   },
   {
    "duration": 12,
    "start_time": "2023-07-05T11:51:50.762Z"
   },
   {
    "duration": 15,
    "start_time": "2023-07-05T11:52:11.204Z"
   },
   {
    "duration": 16,
    "start_time": "2023-07-05T11:52:50.437Z"
   },
   {
    "duration": 10,
    "start_time": "2023-07-05T11:52:57.250Z"
   },
   {
    "duration": 14,
    "start_time": "2023-07-05T11:53:06.577Z"
   },
   {
    "duration": 11,
    "start_time": "2023-07-05T11:53:14.425Z"
   },
   {
    "duration": 240,
    "start_time": "2023-07-05T12:12:49.082Z"
   },
   {
    "duration": 159,
    "start_time": "2023-07-05T12:13:07.824Z"
   },
   {
    "duration": 228,
    "start_time": "2023-07-05T12:13:42.335Z"
   },
   {
    "duration": 215,
    "start_time": "2023-07-05T12:33:53.083Z"
   },
   {
    "duration": 234,
    "start_time": "2023-07-05T12:33:58.948Z"
   },
   {
    "duration": 17,
    "start_time": "2023-07-05T12:49:38.703Z"
   },
   {
    "duration": 165,
    "start_time": "2023-07-05T12:50:30.232Z"
   },
   {
    "duration": 161,
    "start_time": "2023-07-05T12:50:53.907Z"
   },
   {
    "duration": 168,
    "start_time": "2023-07-05T12:51:12.507Z"
   },
   {
    "duration": 171,
    "start_time": "2023-07-05T12:56:56.169Z"
   },
   {
    "duration": 6,
    "start_time": "2023-07-05T12:57:06.509Z"
   },
   {
    "duration": 159,
    "start_time": "2023-07-05T12:57:10.103Z"
   },
   {
    "duration": 181,
    "start_time": "2023-07-05T12:57:23.108Z"
   },
   {
    "duration": 131,
    "start_time": "2023-07-05T12:57:36.822Z"
   },
   {
    "duration": 164,
    "start_time": "2023-07-05T12:58:26.913Z"
   },
   {
    "duration": 164,
    "start_time": "2023-07-05T12:59:29.313Z"
   },
   {
    "duration": 195,
    "start_time": "2023-07-05T13:04:36.503Z"
   },
   {
    "duration": 4,
    "start_time": "2023-07-05T13:05:23.956Z"
   },
   {
    "duration": 5,
    "start_time": "2023-07-05T13:05:28.592Z"
   },
   {
    "duration": 11,
    "start_time": "2023-07-05T13:05:32.473Z"
   },
   {
    "duration": 14,
    "start_time": "2023-07-05T13:05:48.216Z"
   },
   {
    "duration": 14,
    "start_time": "2023-07-05T13:06:05.881Z"
   },
   {
    "duration": 40,
    "start_time": "2023-07-05T13:59:23.788Z"
   },
   {
    "duration": 9,
    "start_time": "2023-07-05T14:02:34.141Z"
   },
   {
    "duration": 35,
    "start_time": "2023-07-05T14:02:55.047Z"
   },
   {
    "duration": 1070,
    "start_time": "2023-07-05T14:09:45.268Z"
   },
   {
    "duration": 22,
    "start_time": "2023-07-05T14:10:03.815Z"
   },
   {
    "duration": 18,
    "start_time": "2023-07-05T14:18:05.793Z"
   },
   {
    "duration": 19,
    "start_time": "2023-07-05T14:18:12.781Z"
   },
   {
    "duration": 4,
    "start_time": "2023-07-05T14:36:18.342Z"
   },
   {
    "duration": 47,
    "start_time": "2023-07-05T14:36:18.347Z"
   },
   {
    "duration": 10,
    "start_time": "2023-07-05T14:36:18.396Z"
   },
   {
    "duration": 35,
    "start_time": "2023-07-05T14:36:18.408Z"
   },
   {
    "duration": 72,
    "start_time": "2023-07-05T14:36:18.445Z"
   },
   {
    "duration": 18,
    "start_time": "2023-07-05T14:36:18.519Z"
   },
   {
    "duration": 13,
    "start_time": "2023-07-05T14:36:18.539Z"
   },
   {
    "duration": 12,
    "start_time": "2023-07-05T14:36:18.554Z"
   },
   {
    "duration": 320,
    "start_time": "2023-07-05T14:36:18.567Z"
   },
   {
    "duration": 218,
    "start_time": "2023-07-05T14:36:18.889Z"
   },
   {
    "duration": 217,
    "start_time": "2023-07-05T14:36:19.108Z"
   },
   {
    "duration": 336,
    "start_time": "2023-07-05T14:36:19.326Z"
   },
   {
    "duration": 236,
    "start_time": "2023-07-05T14:36:19.665Z"
   },
   {
    "duration": 307,
    "start_time": "2023-07-05T14:36:19.903Z"
   },
   {
    "duration": 125,
    "start_time": "2023-07-05T14:36:20.212Z"
   },
   {
    "duration": 5,
    "start_time": "2023-07-05T14:36:20.339Z"
   },
   {
    "duration": 142,
    "start_time": "2023-07-05T14:36:20.358Z"
   },
   {
    "duration": 6,
    "start_time": "2023-07-05T14:36:20.501Z"
   },
   {
    "duration": 261,
    "start_time": "2023-07-05T14:36:20.509Z"
   },
   {
    "duration": 180,
    "start_time": "2023-07-05T14:36:20.772Z"
   },
   {
    "duration": 13,
    "start_time": "2023-07-05T14:36:20.960Z"
   },
   {
    "duration": 35,
    "start_time": "2023-07-05T14:36:20.975Z"
   },
   {
    "duration": 16,
    "start_time": "2023-07-05T14:36:21.011Z"
   },
   {
    "duration": 58,
    "start_time": "2023-07-05T18:07:37.731Z"
   },
   {
    "duration": 1505,
    "start_time": "2023-07-05T18:07:41.601Z"
   },
   {
    "duration": 88,
    "start_time": "2023-07-05T18:07:43.108Z"
   },
   {
    "duration": 5,
    "start_time": "2023-07-05T18:07:46.080Z"
   },
   {
    "duration": 88,
    "start_time": "2023-07-05T18:08:23.111Z"
   },
   {
    "duration": 32,
    "start_time": "2023-07-05T18:08:27.448Z"
   },
   {
    "duration": 18,
    "start_time": "2023-07-05T18:08:49.423Z"
   },
   {
    "duration": 60,
    "start_time": "2023-07-05T18:12:25.588Z"
   },
   {
    "duration": 96,
    "start_time": "2023-07-05T18:15:57.422Z"
   },
   {
    "duration": 4,
    "start_time": "2023-07-05T18:16:08.943Z"
   },
   {
    "duration": 57,
    "start_time": "2023-07-05T18:16:08.951Z"
   },
   {
    "duration": 7,
    "start_time": "2023-07-05T18:16:09.010Z"
   },
   {
    "duration": 20,
    "start_time": "2023-07-05T18:16:09.018Z"
   },
   {
    "duration": 14,
    "start_time": "2023-07-05T18:16:09.041Z"
   },
   {
    "duration": 162,
    "start_time": "2023-07-05T18:16:09.057Z"
   },
   {
    "duration": 25,
    "start_time": "2023-07-05T18:16:09.222Z"
   },
   {
    "duration": 26,
    "start_time": "2023-07-05T18:16:09.249Z"
   },
   {
    "duration": 12,
    "start_time": "2023-07-05T18:16:09.277Z"
   },
   {
    "duration": 380,
    "start_time": "2023-07-05T18:16:09.291Z"
   },
   {
    "duration": 33,
    "start_time": "2023-07-05T18:16:09.678Z"
   },
   {
    "duration": 0,
    "start_time": "2023-07-05T18:16:09.713Z"
   },
   {
    "duration": 0,
    "start_time": "2023-07-05T18:16:09.714Z"
   },
   {
    "duration": 0,
    "start_time": "2023-07-05T18:16:09.716Z"
   },
   {
    "duration": 0,
    "start_time": "2023-07-05T18:16:09.717Z"
   },
   {
    "duration": 0,
    "start_time": "2023-07-05T18:16:09.719Z"
   },
   {
    "duration": 0,
    "start_time": "2023-07-05T18:16:09.724Z"
   },
   {
    "duration": 0,
    "start_time": "2023-07-05T18:16:09.726Z"
   },
   {
    "duration": 0,
    "start_time": "2023-07-05T18:16:09.727Z"
   },
   {
    "duration": 0,
    "start_time": "2023-07-05T18:16:09.729Z"
   },
   {
    "duration": 0,
    "start_time": "2023-07-05T18:16:09.731Z"
   },
   {
    "duration": 0,
    "start_time": "2023-07-05T18:16:09.732Z"
   },
   {
    "duration": 0,
    "start_time": "2023-07-05T18:16:09.763Z"
   },
   {
    "duration": 0,
    "start_time": "2023-07-05T18:16:09.765Z"
   },
   {
    "duration": 0,
    "start_time": "2023-07-05T18:16:09.765Z"
   },
   {
    "duration": 34,
    "start_time": "2023-07-05T18:17:15.020Z"
   },
   {
    "duration": 52,
    "start_time": "2023-07-05T18:17:44.264Z"
   },
   {
    "duration": 7,
    "start_time": "2023-07-05T18:18:03.240Z"
   },
   {
    "duration": 23,
    "start_time": "2023-07-05T18:18:08.127Z"
   },
   {
    "duration": 10,
    "start_time": "2023-07-05T18:18:22.999Z"
   },
   {
    "duration": 28,
    "start_time": "2023-07-05T18:20:01.476Z"
   },
   {
    "duration": 11,
    "start_time": "2023-07-05T18:20:16.836Z"
   },
   {
    "duration": 20,
    "start_time": "2023-07-05T18:20:22.945Z"
   },
   {
    "duration": 17,
    "start_time": "2023-07-05T18:25:20.093Z"
   },
   {
    "duration": 13,
    "start_time": "2023-07-05T18:25:43.536Z"
   },
   {
    "duration": 545,
    "start_time": "2023-07-05T18:26:06.893Z"
   },
   {
    "duration": 409,
    "start_time": "2023-07-05T18:26:12.724Z"
   },
   {
    "duration": 102,
    "start_time": "2023-07-05T18:28:51.847Z"
   },
   {
    "duration": 1386,
    "start_time": "2023-07-05T18:29:16.357Z"
   },
   {
    "duration": 10,
    "start_time": "2023-07-05T18:29:26.898Z"
   },
   {
    "duration": 17,
    "start_time": "2023-07-05T18:29:35.254Z"
   },
   {
    "duration": 631,
    "start_time": "2023-07-05T18:30:24.216Z"
   },
   {
    "duration": 7,
    "start_time": "2023-07-05T18:30:50.143Z"
   },
   {
    "duration": 7,
    "start_time": "2023-07-05T18:30:57.309Z"
   },
   {
    "duration": 7,
    "start_time": "2023-07-05T18:31:20.120Z"
   },
   {
    "duration": 11,
    "start_time": "2023-07-05T18:31:22.465Z"
   },
   {
    "duration": 3,
    "start_time": "2023-07-05T18:31:28.850Z"
   },
   {
    "duration": 54,
    "start_time": "2023-07-05T18:31:28.856Z"
   },
   {
    "duration": 5,
    "start_time": "2023-07-05T18:31:28.912Z"
   },
   {
    "duration": 28,
    "start_time": "2023-07-05T18:31:28.919Z"
   },
   {
    "duration": 11,
    "start_time": "2023-07-05T18:31:28.949Z"
   },
   {
    "duration": 63,
    "start_time": "2023-07-05T18:31:28.962Z"
   },
   {
    "duration": 20,
    "start_time": "2023-07-05T18:31:29.027Z"
   },
   {
    "duration": 24,
    "start_time": "2023-07-05T18:31:29.048Z"
   },
   {
    "duration": 18,
    "start_time": "2023-07-05T18:31:29.080Z"
   },
   {
    "duration": 336,
    "start_time": "2023-07-05T18:31:29.099Z"
   },
   {
    "duration": 7,
    "start_time": "2023-07-05T18:31:35.628Z"
   },
   {
    "duration": 4,
    "start_time": "2023-07-05T18:33:21.000Z"
   },
   {
    "duration": 17,
    "start_time": "2023-07-05T18:33:34.924Z"
   },
   {
    "duration": 4,
    "start_time": "2023-07-05T18:34:38.628Z"
   },
   {
    "duration": 49,
    "start_time": "2023-07-05T18:34:38.634Z"
   },
   {
    "duration": 5,
    "start_time": "2023-07-05T18:34:38.685Z"
   },
   {
    "duration": 18,
    "start_time": "2023-07-05T18:34:38.693Z"
   },
   {
    "duration": 11,
    "start_time": "2023-07-05T18:34:38.714Z"
   },
   {
    "duration": 95,
    "start_time": "2023-07-05T18:34:38.727Z"
   },
   {
    "duration": 20,
    "start_time": "2023-07-05T18:34:38.824Z"
   },
   {
    "duration": 24,
    "start_time": "2023-07-05T18:34:38.846Z"
   },
   {
    "duration": 16,
    "start_time": "2023-07-05T18:34:38.878Z"
   },
   {
    "duration": 312,
    "start_time": "2023-07-05T18:34:38.897Z"
   },
   {
    "duration": 9,
    "start_time": "2023-07-05T18:34:39.212Z"
   },
   {
    "duration": 16,
    "start_time": "2023-07-05T18:34:39.223Z"
   },
   {
    "duration": 35,
    "start_time": "2023-07-05T18:34:39.241Z"
   },
   {
    "duration": 318,
    "start_time": "2023-07-05T18:34:39.278Z"
   },
   {
    "duration": 233,
    "start_time": "2023-07-05T18:34:39.598Z"
   },
   {
    "duration": 359,
    "start_time": "2023-07-05T18:34:39.833Z"
   },
   {
    "duration": 230,
    "start_time": "2023-07-05T18:34:40.194Z"
   },
   {
    "duration": 320,
    "start_time": "2023-07-05T18:34:40.426Z"
   },
   {
    "duration": 134,
    "start_time": "2023-07-05T18:34:40.748Z"
   },
   {
    "duration": 5,
    "start_time": "2023-07-05T18:34:40.884Z"
   },
   {
    "duration": 146,
    "start_time": "2023-07-05T18:34:40.891Z"
   },
   {
    "duration": 6,
    "start_time": "2023-07-05T18:34:41.039Z"
   },
   {
    "duration": 258,
    "start_time": "2023-07-05T18:34:41.046Z"
   },
   {
    "duration": 183,
    "start_time": "2023-07-05T18:34:41.306Z"
   },
   {
    "duration": 16,
    "start_time": "2023-07-05T18:34:41.491Z"
   },
   {
    "duration": 65,
    "start_time": "2023-07-05T18:34:41.510Z"
   },
   {
    "duration": 18,
    "start_time": "2023-07-05T18:34:41.578Z"
   },
   {
    "duration": 462,
    "start_time": "2023-07-05T18:35:57.755Z"
   },
   {
    "duration": 262,
    "start_time": "2023-07-05T18:37:23.916Z"
   },
   {
    "duration": 260,
    "start_time": "2023-07-05T18:38:00.214Z"
   },
   {
    "duration": 311,
    "start_time": "2023-07-05T18:39:18.318Z"
   },
   {
    "duration": 396,
    "start_time": "2023-07-05T18:39:25.450Z"
   },
   {
    "duration": 365,
    "start_time": "2023-07-05T18:39:48.234Z"
   },
   {
    "duration": 304,
    "start_time": "2023-07-05T18:40:43.242Z"
   },
   {
    "duration": 434,
    "start_time": "2023-07-05T18:41:55.667Z"
   },
   {
    "duration": 19,
    "start_time": "2023-07-05T18:53:35.298Z"
   },
   {
    "duration": 19,
    "start_time": "2023-07-05T18:53:47.936Z"
   },
   {
    "duration": 34,
    "start_time": "2023-07-05T18:54:06.917Z"
   },
   {
    "duration": 194,
    "start_time": "2023-07-05T18:55:40.494Z"
   },
   {
    "duration": 18,
    "start_time": "2023-07-05T18:59:12.627Z"
   },
   {
    "duration": 3,
    "start_time": "2023-07-05T18:59:33.188Z"
   },
   {
    "duration": 40,
    "start_time": "2023-07-05T18:59:33.193Z"
   },
   {
    "duration": 6,
    "start_time": "2023-07-05T18:59:33.234Z"
   },
   {
    "duration": 25,
    "start_time": "2023-07-05T18:59:33.242Z"
   },
   {
    "duration": 26,
    "start_time": "2023-07-05T18:59:33.268Z"
   },
   {
    "duration": 60,
    "start_time": "2023-07-05T18:59:33.296Z"
   },
   {
    "duration": 22,
    "start_time": "2023-07-05T18:59:33.362Z"
   },
   {
    "duration": 16,
    "start_time": "2023-07-05T18:59:33.386Z"
   },
   {
    "duration": 17,
    "start_time": "2023-07-05T18:59:33.403Z"
   },
   {
    "duration": 328,
    "start_time": "2023-07-05T18:59:33.422Z"
   },
   {
    "duration": 19,
    "start_time": "2023-07-05T18:59:33.752Z"
   },
   {
    "duration": 238,
    "start_time": "2023-07-05T18:59:33.779Z"
   },
   {
    "duration": 290,
    "start_time": "2023-07-05T18:59:34.019Z"
   },
   {
    "duration": 324,
    "start_time": "2023-07-05T18:59:34.311Z"
   },
   {
    "duration": 365,
    "start_time": "2023-07-05T18:59:34.638Z"
   },
   {
    "duration": 320,
    "start_time": "2023-07-05T18:59:35.005Z"
   },
   {
    "duration": 151,
    "start_time": "2023-07-05T18:59:35.328Z"
   },
   {
    "duration": 11,
    "start_time": "2023-07-05T18:59:35.490Z"
   },
   {
    "duration": 138,
    "start_time": "2023-07-05T18:59:35.503Z"
   },
   {
    "duration": 6,
    "start_time": "2023-07-05T18:59:35.642Z"
   },
   {
    "duration": 264,
    "start_time": "2023-07-05T18:59:35.664Z"
   },
   {
    "duration": 199,
    "start_time": "2023-07-05T18:59:35.930Z"
   },
   {
    "duration": 14,
    "start_time": "2023-07-05T18:59:36.130Z"
   },
   {
    "duration": 57,
    "start_time": "2023-07-05T18:59:36.145Z"
   },
   {
    "duration": 17,
    "start_time": "2023-07-05T18:59:36.203Z"
   },
   {
    "duration": 156,
    "start_time": "2023-07-05T19:01:52.645Z"
   },
   {
    "duration": 4,
    "start_time": "2023-07-05T19:05:45.538Z"
   },
   {
    "duration": 51,
    "start_time": "2023-07-05T19:05:45.544Z"
   },
   {
    "duration": 6,
    "start_time": "2023-07-05T19:05:45.598Z"
   },
   {
    "duration": 17,
    "start_time": "2023-07-05T19:05:45.606Z"
   },
   {
    "duration": 48,
    "start_time": "2023-07-05T19:05:45.626Z"
   },
   {
    "duration": 68,
    "start_time": "2023-07-05T19:05:45.684Z"
   },
   {
    "duration": 45,
    "start_time": "2023-07-05T19:05:45.754Z"
   },
   {
    "duration": 22,
    "start_time": "2023-07-05T19:05:45.801Z"
   },
   {
    "duration": 17,
    "start_time": "2023-07-05T19:05:45.825Z"
   },
   {
    "duration": 348,
    "start_time": "2023-07-05T19:05:45.844Z"
   },
   {
    "duration": 9,
    "start_time": "2023-07-05T19:05:46.195Z"
   },
   {
    "duration": 275,
    "start_time": "2023-07-05T19:05:46.206Z"
   },
   {
    "duration": 256,
    "start_time": "2023-07-05T19:05:46.483Z"
   },
   {
    "duration": 340,
    "start_time": "2023-07-05T19:05:46.742Z"
   },
   {
    "duration": 260,
    "start_time": "2023-07-05T19:05:47.085Z"
   },
   {
    "duration": 412,
    "start_time": "2023-07-05T19:05:47.348Z"
   },
   {
    "duration": 194,
    "start_time": "2023-07-05T19:05:47.762Z"
   },
   {
    "duration": 6,
    "start_time": "2023-07-05T19:05:47.958Z"
   },
   {
    "duration": 207,
    "start_time": "2023-07-05T19:05:47.969Z"
   },
   {
    "duration": 10,
    "start_time": "2023-07-05T19:05:48.178Z"
   },
   {
    "duration": 458,
    "start_time": "2023-07-05T19:05:48.190Z"
   },
   {
    "duration": 196,
    "start_time": "2023-07-05T19:05:48.650Z"
   },
   {
    "duration": 30,
    "start_time": "2023-07-05T19:05:48.848Z"
   },
   {
    "duration": 59,
    "start_time": "2023-07-05T19:05:48.880Z"
   },
   {
    "duration": 32,
    "start_time": "2023-07-05T19:05:48.941Z"
   },
   {
    "duration": 72,
    "start_time": "2023-07-06T11:07:05.226Z"
   },
   {
    "duration": 1452,
    "start_time": "2023-07-06T11:07:12.068Z"
   },
   {
    "duration": 100,
    "start_time": "2023-07-06T11:07:13.522Z"
   },
   {
    "duration": 4,
    "start_time": "2023-07-06T11:07:13.624Z"
   },
   {
    "duration": 24,
    "start_time": "2023-07-06T11:07:13.630Z"
   },
   {
    "duration": 54,
    "start_time": "2023-07-06T11:07:13.657Z"
   },
   {
    "duration": 296,
    "start_time": "2023-07-06T11:07:13.713Z"
   },
   {
    "duration": 23,
    "start_time": "2023-07-06T11:07:14.011Z"
   },
   {
    "duration": 21,
    "start_time": "2023-07-06T11:07:14.037Z"
   },
   {
    "duration": 69,
    "start_time": "2023-07-06T11:07:14.060Z"
   },
   {
    "duration": 353,
    "start_time": "2023-07-06T11:07:14.131Z"
   },
   {
    "duration": 14,
    "start_time": "2023-07-06T11:07:14.488Z"
   },
   {
    "duration": 17,
    "start_time": "2023-07-06T11:07:14.503Z"
   },
   {
    "duration": 363,
    "start_time": "2023-07-06T11:07:14.522Z"
   },
   {
    "duration": 250,
    "start_time": "2023-07-06T11:07:14.889Z"
   },
   {
    "duration": 407,
    "start_time": "2023-07-06T11:07:15.140Z"
   },
   {
    "duration": 267,
    "start_time": "2023-07-06T11:07:15.548Z"
   },
   {
    "duration": 376,
    "start_time": "2023-07-06T11:07:15.816Z"
   },
   {
    "duration": 135,
    "start_time": "2023-07-06T11:07:16.196Z"
   },
   {
    "duration": 5,
    "start_time": "2023-07-06T11:07:16.332Z"
   },
   {
    "duration": 191,
    "start_time": "2023-07-06T11:07:16.338Z"
   },
   {
    "duration": 5,
    "start_time": "2023-07-06T11:07:16.531Z"
   },
   {
    "duration": 258,
    "start_time": "2023-07-06T11:07:16.538Z"
   },
   {
    "duration": 214,
    "start_time": "2023-07-06T11:07:16.798Z"
   },
   {
    "duration": 12,
    "start_time": "2023-07-06T11:07:17.013Z"
   },
   {
    "duration": 59,
    "start_time": "2023-07-06T11:07:17.027Z"
   },
   {
    "duration": 25,
    "start_time": "2023-07-06T11:07:17.094Z"
   },
   {
    "duration": 12,
    "start_time": "2023-07-06T11:08:23.399Z"
   },
   {
    "duration": 11,
    "start_time": "2023-07-06T11:08:31.887Z"
   },
   {
    "duration": 10,
    "start_time": "2023-07-06T11:08:34.200Z"
   }
  ],
  "kernelspec": {
   "display_name": "Python 3 (ipykernel)",
   "language": "python",
   "name": "python3"
  },
  "language_info": {
   "codemirror_mode": {
    "name": "ipython",
    "version": 3
   },
   "file_extension": ".py",
   "mimetype": "text/x-python",
   "name": "python",
   "nbconvert_exporter": "python",
   "pygments_lexer": "ipython3",
   "version": "3.9.12"
  },
  "toc": {
   "base_numbering": 1,
   "nav_menu": {
    "height": "148.312px",
    "width": "160px"
   },
   "number_sections": true,
   "sideBar": true,
   "skip_h1_title": true,
   "title_cell": "Table of Contents",
   "title_sidebar": "Contents",
   "toc_cell": false,
   "toc_position": {
    "height": "calc(100% - 180px)",
    "left": "10px",
    "top": "150px",
    "width": "165px"
   },
   "toc_section_display": true,
   "toc_window_display": false
  }
 },
 "nbformat": 4,
 "nbformat_minor": 2
}
